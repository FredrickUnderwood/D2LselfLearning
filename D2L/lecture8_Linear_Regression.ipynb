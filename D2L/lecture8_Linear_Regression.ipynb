{
 "cells": [
  {
   "cell_type": "markdown",
   "source": [
    "## 线性规划的实现"
   ],
   "metadata": {
    "collapsed": false
   }
  },
  {
   "cell_type": "markdown",
   "source": [
    "### 数据预处理"
   ],
   "metadata": {
    "collapsed": false
   }
  },
  {
   "cell_type": "code",
   "execution_count": 1,
   "outputs": [],
   "source": [
    "%matplotlib inline\n",
    "import torch\n",
    "import numpy\n",
    "import random\n",
    "def generate_data(w,b,num_examples):\n",
    "    x=torch.normal(0,1,(num_examples,len(w)))\n",
    "    y=torch.matmul(x,w)+b\n",
    "    y+=torch.normal(0,0.01,y.shape)\n",
    "    return x,y.reshape((-1,1))\n",
    "true_w=torch.tensor([2,-3.4])\n",
    "true_b=4.2\n",
    "features,labels=generate_data(true_w,true_b,1000)"
   ],
   "metadata": {
    "collapsed": false,
    "ExecuteTime": {
     "start_time": "2023-07-24T02:25:04.759007900Z"
    }
   }
  },
  {
   "cell_type": "markdown",
   "source": [
    "### 生成训练集和验证集"
   ],
   "metadata": {
    "collapsed": false
   }
  },
  {
   "cell_type": "code",
   "execution_count": 2,
   "outputs": [],
   "source": [
    "def data_iter(feature,label,batch_size):\n",
    "    num_examples=len(feature)#对于tensor来说，len测量行数\n",
    "    data_no=list(range(num_examples))\n",
    "    random.shuffle(data_no)\n",
    "    for i in range(0,num_examples,batch_size):\n",
    "        batch_no=list(data_no[i:min(i+batch_size,num_examples)])\n",
    "        yield feature[batch_no],label[batch_no]"
   ],
   "metadata": {
    "collapsed": false
   }
  },
  {
   "cell_type": "markdown",
   "source": [
    "### 定义模型参数（w、b）、模型、损失函数、优化算法"
   ],
   "metadata": {
    "collapsed": false
   }
  },
  {
   "cell_type": "code",
   "execution_count": 3,
   "outputs": [],
   "source": [
    "w=torch.normal(0,1,size=(2,1),requires_grad=True)\n",
    "b=torch.zeros(1,requires_grad=True)\n",
    "\n",
    "def LinearRegression(X,w,b):\n",
    "    return torch.matmul(X,w)+b\n",
    "\n",
    "def squared_loss(y_hat,y):\n",
    "    return (y_hat-y.reshape(y_hat.shape))**2/2\n",
    "\n",
    "def sgd(params,learning_rate,batch_size):\n",
    "    with torch.no_grad():\n",
    "        for param in params:\n",
    "            param-=learning_rate*param.grad/batch_size\n",
    "            param.grad.zero_()"
   ],
   "metadata": {
    "collapsed": false
   }
  },
  {
   "cell_type": "markdown",
   "source": [
    "### 训练"
   ],
   "metadata": {
    "collapsed": false
   }
  },
  {
   "cell_type": "code",
   "execution_count": 4,
   "outputs": [
    {
     "name": "stdout",
     "output_type": "stream",
     "text": [
      "epoch0 loss: 0.03794435039162636\n",
      "tensor([[ 1.8432],\n",
      "        [-3.2762]], requires_grad=True) tensor([4.0066], requires_grad=True)\n",
      "epoch1 loss: 0.00013772603415418416\n",
      "tensor([[ 1.9917],\n",
      "        [-3.3938]], requires_grad=True) tensor([4.1910], requires_grad=True)\n",
      "epoch2 loss: 4.793088010046631e-05\n",
      "tensor([[ 1.9994],\n",
      "        [-3.4001]], requires_grad=True) tensor([4.1997], requires_grad=True)\n"
     ]
    }
   ],
   "source": [
    "batch_size=10\n",
    "lr=0.03\n",
    "num_epochs=3\n",
    "for epoch in range(num_epochs):\n",
    "    for X,y in data_iter(features,labels,batch_size):\n",
    "        y_hat=LinearRegression(X,w,b)\n",
    "        loss = squared_loss(y_hat,y)\n",
    "        loss.sum().backward()\n",
    "        sgd([w,b],lr,batch_size)\n",
    "    with torch.no_grad():\n",
    "        loss = squared_loss(LinearRegression(features,w,b),labels)\n",
    "        print(f'epoch{epoch} loss: {loss.mean()}')\n",
    "    print(w,b)\n"
   ],
   "metadata": {
    "collapsed": false
   }
  }
 ],
 "metadata": {
  "kernelspec": {
   "display_name": "Python 3",
   "language": "python",
   "name": "python3"
  },
  "language_info": {
   "codemirror_mode": {
    "name": "ipython",
    "version": 2
   },
   "file_extension": ".py",
   "mimetype": "text/x-python",
   "name": "python",
   "nbconvert_exporter": "python",
   "pygments_lexer": "ipython2",
   "version": "2.7.6"
  }
 },
 "nbformat": 4,
 "nbformat_minor": 0
}
