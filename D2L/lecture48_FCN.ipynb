{
 "cells": [
  {
   "cell_type": "markdown",
   "source": [
    "# 全连接卷积网络"
   ],
   "metadata": {
    "collapsed": false
   },
   "id": "65c312e91e08fc52"
  },
  {
   "cell_type": "code",
   "outputs": [],
   "source": [
    "import torch\n",
    "import torchvision\n",
    "from torch import nn\n",
    "from PIL import Image"
   ],
   "metadata": {
    "collapsed": false,
    "ExecuteTime": {
     "end_time": "2024-01-14T14:04:34.682118100Z",
     "start_time": "2024-01-14T14:04:32.630716300Z"
    }
   },
   "id": "939138f9d6ff2854",
   "execution_count": 1
  },
  {
   "cell_type": "markdown",
   "source": [
    "## 转置卷积基本公式\n",
    "\n",
    "转置卷积的输出大小 \\( O \\) 可以用以下公式表示：\n",
    "\n",
    "\\[ O = S \\times (I - 1) + K - 2P \\]\n",
    "\n",
    "其中：\n",
    "- \\( O \\) 是输出大小。\n",
    "- \\( I \\) 是输入大小。\n",
    "- \\( K \\) 是卷积核大小。\n",
    "- \\( P \\) 是填充大小。\n",
    "- \\( S \\) 是步长。\n"
   ],
   "metadata": {
    "collapsed": false
   },
   "id": "870593a62fb16297"
  },
  {
   "cell_type": "code",
   "outputs": [
    {
     "data": {
      "text/plain": "[Sequential(\n   (0): BasicBlock(\n     (conv1): Conv2d(256, 512, kernel_size=(3, 3), stride=(2, 2), padding=(1, 1), bias=False)\n     (bn1): BatchNorm2d(512, eps=1e-05, momentum=0.1, affine=True, track_running_stats=True)\n     (relu): ReLU(inplace=True)\n     (conv2): Conv2d(512, 512, kernel_size=(3, 3), stride=(1, 1), padding=(1, 1), bias=False)\n     (bn2): BatchNorm2d(512, eps=1e-05, momentum=0.1, affine=True, track_running_stats=True)\n     (downsample): Sequential(\n       (0): Conv2d(256, 512, kernel_size=(1, 1), stride=(2, 2), bias=False)\n       (1): BatchNorm2d(512, eps=1e-05, momentum=0.1, affine=True, track_running_stats=True)\n     )\n   )\n   (1): BasicBlock(\n     (conv1): Conv2d(512, 512, kernel_size=(3, 3), stride=(1, 1), padding=(1, 1), bias=False)\n     (bn1): BatchNorm2d(512, eps=1e-05, momentum=0.1, affine=True, track_running_stats=True)\n     (relu): ReLU(inplace=True)\n     (conv2): Conv2d(512, 512, kernel_size=(3, 3), stride=(1, 1), padding=(1, 1), bias=False)\n     (bn2): BatchNorm2d(512, eps=1e-05, momentum=0.1, affine=True, track_running_stats=True)\n   )\n ),\n AdaptiveAvgPool2d(output_size=(1, 1)),\n Linear(in_features=512, out_features=1000, bias=True)]"
     },
     "execution_count": 3,
     "metadata": {},
     "output_type": "execute_result"
    }
   ],
   "source": [
    "pretrained_net = torchvision.models.resnet18(pretrained=True)\n",
    "list(pretrained_net.children())[-3:]"
   ],
   "metadata": {
    "collapsed": false,
    "ExecuteTime": {
     "end_time": "2024-01-14T14:04:48.821274Z",
     "start_time": "2024-01-14T14:04:48.721178700Z"
    }
   },
   "id": "c226bbce1eb8b888",
   "execution_count": 3
  },
  {
   "cell_type": "code",
   "outputs": [
    {
     "data": {
      "text/plain": "torch.Size([1, 512, 10, 15])"
     },
     "execution_count": 4,
     "metadata": {},
     "output_type": "execute_result"
    }
   ],
   "source": [
    "net = nn.Sequential(*list(pretrained_net.children())[:-2])\n",
    "x = torch.randn(1, 3, 320, 480)\n",
    "net(x).shape"
   ],
   "metadata": {
    "collapsed": false,
    "ExecuteTime": {
     "end_time": "2024-01-14T14:06:56.820903900Z",
     "start_time": "2024-01-14T14:06:56.692595200Z"
    }
   },
   "id": "baf3b18cdf133f56",
   "execution_count": 4
  },
  {
   "cell_type": "code",
   "outputs": [],
   "source": [
    "num_classes = 21\n",
    "net.add_module('final_conv', nn.Conv2d(512, num_classes, kernel_size=1))\n",
    "net.add_module('transpose_conv', nn.ConvTranspose2d(num_classes, num_classes, kernel_size=64, padding=16, stride=32))"
   ],
   "metadata": {
    "collapsed": false
   },
   "id": "6a92f5a0788b0ddd"
  },
  {
   "cell_type": "code",
   "outputs": [
    {
     "name": "stdout",
     "output_type": "stream",
     "text": [
      "tensor([[[[0.0625, 0.1875, 0.1875, 0.0625],\n",
      "          [0.1875, 0.5625, 0.5625, 0.1875],\n",
      "          [0.1875, 0.5625, 0.5625, 0.1875],\n",
      "          [0.0625, 0.1875, 0.1875, 0.0625]],\n",
      "\n",
      "         [[0.0000, 0.0000, 0.0000, 0.0000],\n",
      "          [0.0000, 0.0000, 0.0000, 0.0000],\n",
      "          [0.0000, 0.0000, 0.0000, 0.0000],\n",
      "          [0.0000, 0.0000, 0.0000, 0.0000]],\n",
      "\n",
      "         [[0.0000, 0.0000, 0.0000, 0.0000],\n",
      "          [0.0000, 0.0000, 0.0000, 0.0000],\n",
      "          [0.0000, 0.0000, 0.0000, 0.0000],\n",
      "          [0.0000, 0.0000, 0.0000, 0.0000]]],\n",
      "\n",
      "\n",
      "        [[[0.0000, 0.0000, 0.0000, 0.0000],\n",
      "          [0.0000, 0.0000, 0.0000, 0.0000],\n",
      "          [0.0000, 0.0000, 0.0000, 0.0000],\n",
      "          [0.0000, 0.0000, 0.0000, 0.0000]],\n",
      "\n",
      "         [[0.0625, 0.1875, 0.1875, 0.0625],\n",
      "          [0.1875, 0.5625, 0.5625, 0.1875],\n",
      "          [0.1875, 0.5625, 0.5625, 0.1875],\n",
      "          [0.0625, 0.1875, 0.1875, 0.0625]],\n",
      "\n",
      "         [[0.0000, 0.0000, 0.0000, 0.0000],\n",
      "          [0.0000, 0.0000, 0.0000, 0.0000],\n",
      "          [0.0000, 0.0000, 0.0000, 0.0000],\n",
      "          [0.0000, 0.0000, 0.0000, 0.0000]]],\n",
      "\n",
      "\n",
      "        [[[0.0000, 0.0000, 0.0000, 0.0000],\n",
      "          [0.0000, 0.0000, 0.0000, 0.0000],\n",
      "          [0.0000, 0.0000, 0.0000, 0.0000],\n",
      "          [0.0000, 0.0000, 0.0000, 0.0000]],\n",
      "\n",
      "         [[0.0000, 0.0000, 0.0000, 0.0000],\n",
      "          [0.0000, 0.0000, 0.0000, 0.0000],\n",
      "          [0.0000, 0.0000, 0.0000, 0.0000],\n",
      "          [0.0000, 0.0000, 0.0000, 0.0000]],\n",
      "\n",
      "         [[0.0625, 0.1875, 0.1875, 0.0625],\n",
      "          [0.1875, 0.5625, 0.5625, 0.1875],\n",
      "          [0.1875, 0.5625, 0.5625, 0.1875],\n",
      "          [0.0625, 0.1875, 0.1875, 0.0625]]]])\n"
     ]
    }
   ],
   "source": [
    "# 双线性插值函数\n",
    "def bilinear_kernel(in_channels, out_channels, kernel_size):\n",
    "    factor = (kernel_size + 1) // 2\n",
    "    if kernel_size % 2 == 1:\n",
    "        center = factor - 1\n",
    "    else:\n",
    "        center = factor - 0.5\n",
    "    og = (torch.arange(kernel_size).reshape(-1, 1),\n",
    "          torch.arange(kernel_size).reshape(1, -1))\n",
    "    filt = (1 - torch.abs(og[0] - center) / factor) * \\\n",
    "           (1 - torch.abs(og[1] - center) / factor)\n",
    "    weight = torch.zeros((in_channels, out_channels,\n",
    "                          kernel_size, kernel_size))\n",
    "    weight[range(in_channels), range(out_channels), :, :] = filt\n",
    "    return weight"
   ],
   "metadata": {
    "collapsed": false,
    "ExecuteTime": {
     "end_time": "2024-01-14T15:04:20.687098400Z",
     "start_time": "2024-01-14T15:04:20.665103100Z"
    }
   },
   "id": "60f3299004297648",
   "execution_count": 5
  },
  {
   "cell_type": "markdown",
   "source": [
    "# 双线性插值的实验"
   ],
   "metadata": {
    "collapsed": false
   },
   "id": "a169ece05f19ce04"
  },
  {
   "cell_type": "code",
   "outputs": [
    {
     "data": {
      "text/plain": "tensor([[[[0.0625, 0.1875, 0.1875, 0.0625],\n          [0.1875, 0.5625, 0.5625, 0.1875],\n          [0.1875, 0.5625, 0.5625, 0.1875],\n          [0.0625, 0.1875, 0.1875, 0.0625]],\n\n         [[0.0000, 0.0000, 0.0000, 0.0000],\n          [0.0000, 0.0000, 0.0000, 0.0000],\n          [0.0000, 0.0000, 0.0000, 0.0000],\n          [0.0000, 0.0000, 0.0000, 0.0000]],\n\n         [[0.0000, 0.0000, 0.0000, 0.0000],\n          [0.0000, 0.0000, 0.0000, 0.0000],\n          [0.0000, 0.0000, 0.0000, 0.0000],\n          [0.0000, 0.0000, 0.0000, 0.0000]]],\n\n\n        [[[0.0000, 0.0000, 0.0000, 0.0000],\n          [0.0000, 0.0000, 0.0000, 0.0000],\n          [0.0000, 0.0000, 0.0000, 0.0000],\n          [0.0000, 0.0000, 0.0000, 0.0000]],\n\n         [[0.0625, 0.1875, 0.1875, 0.0625],\n          [0.1875, 0.5625, 0.5625, 0.1875],\n          [0.1875, 0.5625, 0.5625, 0.1875],\n          [0.0625, 0.1875, 0.1875, 0.0625]],\n\n         [[0.0000, 0.0000, 0.0000, 0.0000],\n          [0.0000, 0.0000, 0.0000, 0.0000],\n          [0.0000, 0.0000, 0.0000, 0.0000],\n          [0.0000, 0.0000, 0.0000, 0.0000]]],\n\n\n        [[[0.0000, 0.0000, 0.0000, 0.0000],\n          [0.0000, 0.0000, 0.0000, 0.0000],\n          [0.0000, 0.0000, 0.0000, 0.0000],\n          [0.0000, 0.0000, 0.0000, 0.0000]],\n\n         [[0.0000, 0.0000, 0.0000, 0.0000],\n          [0.0000, 0.0000, 0.0000, 0.0000],\n          [0.0000, 0.0000, 0.0000, 0.0000],\n          [0.0000, 0.0000, 0.0000, 0.0000]],\n\n         [[0.0625, 0.1875, 0.1875, 0.0625],\n          [0.1875, 0.5625, 0.5625, 0.1875],\n          [0.1875, 0.5625, 0.5625, 0.1875],\n          [0.0625, 0.1875, 0.1875, 0.0625]]]])"
     },
     "execution_count": 6,
     "metadata": {},
     "output_type": "execute_result"
    }
   ],
   "source": [
    "conv_trans = nn.ConvTranspose2d(3, 3, kernel_size=4, padding=1, stride=2, bias=False)\n",
    "conv_trans.weight.data.copy_(bilinear_kernel(3, 3, 4))"
   ],
   "metadata": {
    "collapsed": false,
    "ExecuteTime": {
     "end_time": "2024-01-14T15:08:44.115234Z",
     "start_time": "2024-01-14T15:08:44.106336800Z"
    }
   },
   "id": "55559eeac75f1f48",
   "execution_count": 6
  },
  {
   "cell_type": "code",
   "outputs": [],
   "source": [
    "img = torchvision.transforms.ToTensor()(Image.open('./img/catdog.jpg'))\n",
    "x = img.unsqueeze(0)\n",
    "y = conv_trans(x)"
   ],
   "metadata": {
    "collapsed": false
   },
   "id": "dadf06ee60685460"
  }
 ],
 "metadata": {
  "kernelspec": {
   "display_name": "Python 3",
   "language": "python",
   "name": "python3"
  },
  "language_info": {
   "codemirror_mode": {
    "name": "ipython",
    "version": 2
   },
   "file_extension": ".py",
   "mimetype": "text/x-python",
   "name": "python",
   "nbconvert_exporter": "python",
   "pygments_lexer": "ipython2",
   "version": "2.7.6"
  }
 },
 "nbformat": 4,
 "nbformat_minor": 5
}
