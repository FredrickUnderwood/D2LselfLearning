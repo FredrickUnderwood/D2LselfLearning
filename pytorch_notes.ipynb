{
 "cells": [
  {
   "cell_type": "markdown",
   "source": [
    "# PyTorch Notes"
   ],
   "metadata": {
    "collapsed": false
   },
   "id": "7c64ad539a778c28"
  },
  {
   "cell_type": "markdown",
   "source": [
    "## torch.stack\n",
    "每个tensor的size必须相同，与torch.cat的区别在于，torch.stack形成了新的维度，而torch.cat不形成新的维度"
   ],
   "metadata": {
    "collapsed": false
   },
   "id": "e5785efa5d6b6010"
  },
  {
   "cell_type": "code",
   "execution_count": 14,
   "outputs": [
    {
     "name": "stdout",
     "output_type": "stream",
     "text": [
      "dim=0 stack: tensor([[1, 2, 3],\n",
      "        [4, 5, 6]])\n",
      "dim=1 stack: tensor([[1, 4],\n",
      "        [2, 5],\n",
      "        [3, 6]])\n"
     ]
    }
   ],
   "source": [
    "import torch\n",
    "a = torch.tensor([1, 2, 3])\n",
    "b = torch.tensor([4, 5, 6])\n",
    "c = torch.stack([a, b], dim=0)\n",
    "d = torch.stack([a, b], dim=1)\n",
    "# e = torch.tensor([[1, 2, 3], [4, 5, 6]])\n",
    "# f = torch.stack([a, e], dim=1) Error:stack expects each tensor to be equal size, but got [3] at entry 0 and [2, 3] at entry 1\n",
    "print('dim=0 stack:', c)\n",
    "print('dim=1 stack:', d)"
   ],
   "metadata": {
    "collapsed": false,
    "ExecuteTime": {
     "end_time": "2024-01-05T07:19:21.070643500Z",
     "start_time": "2024-01-05T07:19:21.061264400Z"
    }
   },
   "id": "4660bd046c0eb6aa"
  },
  {
   "cell_type": "markdown",
   "source": [
    "## torch.cat\n",
    "在相应dim上进行扩展，别的dim的个数不变"
   ],
   "metadata": {
    "collapsed": false
   },
   "id": "610480f640997272"
  },
  {
   "cell_type": "code",
   "execution_count": 11,
   "outputs": [
    {
     "name": "stdout",
     "output_type": "stream",
     "text": [
      "dim=0 cat: tensor([[1, 2, 3],\n",
      "        [1, 2, 3],\n",
      "        [1, 2, 3],\n",
      "        [1, 2, 3]])\n",
      "dim=1 cat: tensor([[1, 2, 3, 1, 2, 3],\n",
      "        [1, 2, 3, 1, 2, 3]])\n"
     ]
    }
   ],
   "source": [
    "import torch\n",
    "a = torch.tensor([[1, 2, 3], [1, 2, 3]])\n",
    "b = torch.cat((a, a), dim=0)\n",
    "c = torch.cat((a, a), dim=1)\n",
    "print('dim=0 cat:', b)\n",
    "print('dim=1 cat:', c)"
   ],
   "metadata": {
    "collapsed": false,
    "ExecuteTime": {
     "end_time": "2024-01-05T02:21:03.682549500Z",
     "start_time": "2024-01-05T02:21:03.671890200Z"
    }
   },
   "id": "7661a9bc091aa81b"
  },
  {
   "cell_type": "markdown",
   "source": [
    "## torch.split\n",
    "torch.split(tensor, split_size_or_sections, dim=0)\n",
    "torch.chunk是比较简单的split"
   ],
   "metadata": {
    "collapsed": false
   },
   "id": "5398e00381dfae1b"
  },
  {
   "cell_type": "code",
   "execution_count": 14,
   "outputs": [
    {
     "name": "stdout",
     "output_type": "stream",
     "text": [
      "tensor: tensor([[-0.6045, -0.0728],\n",
      "        [-0.1323, -1.2683],\n",
      "        [ 1.4868,  1.6569],\n",
      "        [ 1.4649,  0.2597],\n",
      "        [-0.0153,  0.5289]])\n",
      "b: (tensor([[-0.6045, -0.0728],\n",
      "        [-0.1323, -1.2683]]), tensor([[1.4868, 1.6569],\n",
      "        [1.4649, 0.2597]]), tensor([[-0.0153,  0.5289]]))\n",
      "c: (tensor([[-0.6045, -0.0728]]), tensor([[-0.1323, -1.2683],\n",
      "        [ 1.4868,  1.6569],\n",
      "        [ 1.4649,  0.2597],\n",
      "        [-0.0153,  0.5289]]))\n"
     ]
    }
   ],
   "source": [
    "import torch\n",
    "a = torch.randn(size=(5, 2))\n",
    "print('tensor:', a)\n",
    "b = torch.split(a, 2) # 在dim=0上，每两个划一个tensor\n",
    "c = torch.split(a, [1, 4]) # 在dim=0上，按[1, 4]划分tensor\n",
    "print('b:', b)\n",
    "print('c:', c)"
   ],
   "metadata": {
    "collapsed": false,
    "ExecuteTime": {
     "end_time": "2024-01-05T02:28:02.147413200Z",
     "start_time": "2024-01-05T02:28:02.141407Z"
    }
   },
   "id": "ae822860c0f24eb2"
  },
  {
   "cell_type": "markdown",
   "source": [
    "## torch.tensor.detach\n",
    "在 PyTorch 中，.detach() 方法的主要作用是将一个变量从当前的计算图中分离出来，阻止未来的计算在这个变量上的操作被记录在图中。这意味着使用 .detach() 方法的变量不会在反向传播过程中更新其梯度"
   ],
   "metadata": {
    "collapsed": false
   },
   "id": "f98d39dac72ea449"
  },
  {
   "cell_type": "markdown",
   "source": [
    "## torch.meshgrid\n",
    "将一组横坐标和一组纵坐标扩展后得以两两组合，相当于笛卡尔积，一般会reshape，方便后续匹配x和y"
   ],
   "metadata": {
    "collapsed": false
   },
   "id": "5b6f939cd43c2d6b"
  },
  {
   "cell_type": "code",
   "execution_count": 5,
   "outputs": [
    {
     "name": "stdout",
     "output_type": "stream",
     "text": [
      "x: tensor([[1, 1, 1],\n",
      "        [2, 2, 2],\n",
      "        [3, 3, 3],\n",
      "        [4, 4, 4]])\n",
      "y: tensor([[1, 2, 3],\n",
      "        [1, 2, 3],\n",
      "        [1, 2, 3],\n",
      "        [1, 2, 3]])\n",
      "x.reshape: tensor([1, 1, 1, 2, 2, 2, 3, 3, 3, 4, 4, 4])\n",
      "y.reshape: tensor([1, 2, 3, 1, 2, 3, 1, 2, 3, 1, 2, 3])\n"
     ]
    }
   ],
   "source": [
    "import torch\n",
    "a = torch.tensor([1, 2, 3, 4])\n",
    "b = torch.tensor([1, 2, 3])\n",
    "x, y = torch.meshgrid([a, b], indexing='ij')\n",
    "print('x:', x)\n",
    "print('y:', y)\n",
    "print('x.reshape:', x.reshape(-1))\n",
    "print('y.reshape:', y.reshape(-1))"
   ],
   "metadata": {
    "collapsed": false,
    "ExecuteTime": {
     "end_time": "2024-01-05T05:23:28.553451600Z",
     "start_time": "2024-01-05T05:23:28.547158700Z"
    }
   },
   "id": "da1d6f5c334007fc"
  },
  {
   "cell_type": "markdown",
   "source": [
    "## torch.tensor.repeat"
   ],
   "metadata": {
    "collapsed": false
   },
   "id": "dbde47e528f7f454"
  },
  {
   "cell_type": "code",
   "execution_count": 5,
   "outputs": [
    {
     "name": "stdout",
     "output_type": "stream",
     "text": [
      "b: tensor([[1, 2, 3, 1, 2, 3],\n",
      "        [1, 2, 3, 1, 2, 3],\n",
      "        [1, 2, 3, 1, 2, 3],\n",
      "        [1, 2, 3, 1, 2, 3],\n",
      "        [1, 2, 3, 1, 2, 3]])\n"
     ]
    }
   ],
   "source": [
    "import torch\n",
    "a = torch.tensor([1, 2, 3])\n",
    "x = 5  # 行上扩展的个数\n",
    "y = 2  # 列上扩展的个数\n",
    "b = a.repeat(x, y)\n",
    "print('b:', b)"
   ],
   "metadata": {
    "collapsed": false,
    "ExecuteTime": {
     "end_time": "2024-01-05T07:10:48.046292300Z",
     "start_time": "2024-01-05T07:10:48.031763100Z"
    }
   },
   "id": "afbabbca82e3da4b"
  },
  {
   "cell_type": "markdown",
   "source": [
    "## torch.repeat_interleave \n",
    "交错的重复\n",
    "similar to numpy.repeat"
   ],
   "metadata": {
    "collapsed": false
   },
   "id": "436fbdd8868bae02"
  },
  {
   "cell_type": "code",
   "execution_count": 13,
   "outputs": [
    {
     "name": "stdout",
     "output_type": "stream",
     "text": [
      "b: tensor([1, 1, 2, 2, 3, 3])\n",
      "c: tensor([1, 1, 2, 2, 3, 3])\n",
      "e: tensor([[1, 2],\n",
      "        [1, 2],\n",
      "        [3, 4],\n",
      "        [3, 4]])\n",
      "f: tensor([[1, 1, 2, 2],\n",
      "        [3, 3, 4, 4]])\n"
     ]
    }
   ],
   "source": [
    "import torch\n",
    "a = torch.tensor([1, 2, 3])\n",
    "b = a.repeat_interleave(2)\n",
    "c = torch.repeat_interleave(a, 2, dim=0)\n",
    "d = torch.tensor([[1, 2], [3, 4]])\n",
    "e = torch.repeat_interleave(d, 2, dim=0)\n",
    "f = torch.repeat_interleave(d, 2, dim=1)\n",
    "print('b:', b)\n",
    "print('c:', c)\n",
    "print('e:', e)\n",
    "print('f:', f)"
   ],
   "metadata": {
    "collapsed": false,
    "ExecuteTime": {
     "end_time": "2024-01-05T07:18:36.888494400Z",
     "start_time": "2024-01-05T07:18:36.885431700Z"
    }
   },
   "id": "b7f882e543f67738"
  },
  {
   "cell_type": "markdown",
   "source": [
    "## torch.unsqueeze\n",
    "返回的tensor指定的维度的size为1"
   ],
   "metadata": {
    "collapsed": false
   },
   "id": "18482f6aa4faecb0"
  },
  {
   "cell_type": "code",
   "execution_count": 19,
   "outputs": [
    {
     "name": "stdout",
     "output_type": "stream",
     "text": [
      "b: tensor([[[1, 2, 3],\n",
      "         [4, 5, 6]]])\n",
      "c: tensor([[[1, 2, 3]],\n",
      "\n",
      "        [[4, 5, 6]]])\n",
      "d: tensor([[[1],\n",
      "         [2],\n",
      "         [3]],\n",
      "\n",
      "        [[4],\n",
      "         [5],\n",
      "         [6]]])\n"
     ]
    }
   ],
   "source": [
    "import torch\n",
    "a = torch.tensor([[1, 2, 3],[4, 5, 6]])\n",
    "b = torch.unsqueeze(a, dim=0)\n",
    "c = torch.unsqueeze(a, dim=1)\n",
    "d = torch.unsqueeze(a, dim=2)\n",
    "print('b:', b)\n",
    "print('c:', c)\n",
    "print('d:', d)"
   ],
   "metadata": {
    "collapsed": false,
    "ExecuteTime": {
     "end_time": "2024-01-05T07:25:55.257924300Z",
     "start_time": "2024-01-05T07:25:55.248325300Z"
    }
   },
   "id": "5a49a82f6c387aa8"
  },
  {
   "cell_type": "markdown",
   "source": [
    "## torchvision.read_image\n",
    "将图片通过RGB值读入变量"
   ],
   "metadata": {
    "collapsed": false
   },
   "id": "ccb059a1dddb8376"
  },
  {
   "cell_type": "code",
   "execution_count": null,
   "outputs": [],
   "source": [
    "import torchvision\n",
    "image = torchvision.io.read_image('./sample_path')"
   ],
   "metadata": {
    "collapsed": false
   },
   "id": "46fb279670e4e448"
  },
  {
   "cell_type": "markdown",
   "source": [
    "## torch.max\n",
    "与广播机制"
   ],
   "metadata": {
    "collapsed": false
   },
   "id": "5d479fb83857c42f"
  },
  {
   "cell_type": "code",
   "execution_count": 24,
   "outputs": [
    {
     "name": "stdout",
     "output_type": "stream",
     "text": [
      "tensor([[[1, 2]],\n",
      "\n",
      "        [[4, 2]]])\n",
      "tensor([[0, 5],\n",
      "        [2, 3],\n",
      "        [1, 3]])\n",
      "tensor([[[1, 5],\n",
      "         [2, 3],\n",
      "         [1, 3]],\n",
      "\n",
      "        [[4, 5],\n",
      "         [4, 3],\n",
      "         [4, 3]]])\n"
     ]
    }
   ],
   "source": [
    "import torch \n",
    "a = torch.tensor([[1, 2, 3, 4], [4, 2, 3, 1]])\n",
    "b = torch.tensor([[0, 5, 4, 2], [2, 3, 5, 0], [1, 3, 5, 2]])\n",
    "c = torch.max(a[:, None, :2], b[:, :2])  # 需要结果是一个2×3×2的\n",
    "print(a[:, None, :2])  # 2×1×2 \n",
    "print(b[:, :2])  # 3×2\n",
    "print(c)"
   ],
   "metadata": {
    "collapsed": false,
    "ExecuteTime": {
     "end_time": "2024-01-05T08:46:18.695459300Z",
     "start_time": "2024-01-05T08:46:18.688920700Z"
    }
   },
   "id": "8ab1aef36049af4b"
  },
  {
   "cell_type": "markdown",
   "source": [
    "## torch.clamp\n",
    "过滤"
   ],
   "metadata": {
    "collapsed": false
   },
   "id": "d93da831dd7c300b"
  },
  {
   "cell_type": "code",
   "execution_count": 25,
   "outputs": [
    {
     "name": "stdout",
     "output_type": "stream",
     "text": [
      "a: tensor([-1.3437e-03, -3.8818e-01, -6.7234e-01,  2.0336e+00,  1.6577e-01])\n",
      "b: tensor([-0.0013, -0.3882, -0.5000,  0.5000,  0.1658])\n"
     ]
    }
   ],
   "source": [
    "import torch\n",
    "a = torch.randn(5)\n",
    "b = torch.clamp(a, min=-0.5, max=0.5)\n",
    "print('a:', a)\n",
    "print('b:', b)"
   ],
   "metadata": {
    "collapsed": false,
    "ExecuteTime": {
     "end_time": "2024-01-05T08:51:39.082759200Z",
     "start_time": "2024-01-05T08:51:39.063240200Z"
    }
   },
   "id": "762a3861607f0fb8"
  }
 ],
 "metadata": {
  "kernelspec": {
   "display_name": "Python 3",
   "language": "python",
   "name": "python3"
  },
  "language_info": {
   "codemirror_mode": {
    "name": "ipython",
    "version": 2
   },
   "file_extension": ".py",
   "mimetype": "text/x-python",
   "name": "python",
   "nbconvert_exporter": "python",
   "pygments_lexer": "ipython2",
   "version": "2.7.6"
  }
 },
 "nbformat": 4,
 "nbformat_minor": 5
}
