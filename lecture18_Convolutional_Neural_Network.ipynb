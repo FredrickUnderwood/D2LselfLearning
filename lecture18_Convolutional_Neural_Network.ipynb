{
 "cells": [
  {
   "cell_type": "markdown",
   "source": [
    "# 卷积神经网络"
   ],
   "metadata": {
    "collapsed": false
   }
  },
  {
   "cell_type": "markdown",
   "source": [
    "## 二维互相关运算"
   ],
   "metadata": {
    "collapsed": false
   }
  },
  {
   "cell_type": "code",
   "execution_count": 1,
   "outputs": [],
   "source": [
    "import torch\n",
    "from  torch import nn\n",
    "\n",
    "def corr2D(X,kernel):\n",
    "    h,w = kernel.shape\n",
    "    Y = torch.zeros(size=(X.shape[0]-h+1,X.shape[1]-w+1))\n",
    "    for i in range(Y.shape[0]):\n",
    "        for j in range(Y.shape[1]):\n",
    "            Y[i,j] = (X[i:i+h,j:j+w]*kernel).sum()\n",
    "    return Y"
   ],
   "metadata": {
    "collapsed": false,
    "ExecuteTime": {
     "end_time": "2023-08-02T06:12:25.317302600Z",
     "start_time": "2023-08-02T06:12:24.235113400Z"
    }
   }
  },
  {
   "cell_type": "markdown",
   "source": [
    "## 卷积层"
   ],
   "metadata": {
    "collapsed": false
   }
  },
  {
   "cell_type": "code",
   "execution_count": 2,
   "outputs": [],
   "source": [
    "class Conv2D(nn.Module):\n",
    "    def __init__(self,kernel_size):\n",
    "        super().__init__()\n",
    "        self.weight = torch.rand(kernel_size)\n",
    "        self.bias = torch.zeros(1)\n",
    "\n",
    "    def forward(self,X):\n",
    "        return corr2D(X,self.weight)+self.bias"
   ],
   "metadata": {
    "collapsed": false,
    "ExecuteTime": {
     "end_time": "2023-08-02T06:12:25.321059400Z",
     "start_time": "2023-08-02T06:12:25.318320700Z"
    }
   }
  },
  {
   "cell_type": "markdown",
   "source": [
    "## 训练过程\n",
    "卷积神经网络训练的权值就是卷积核，比如本例中通过类似Sobel算子的卷积核进行滤波后得出原图像上的边界，而训练就是尝试训练出一个卷积核类似Sobel算子，同样能识别边界"
   ],
   "metadata": {
    "collapsed": false
   }
  },
  {
   "cell_type": "code",
   "execution_count": 3,
   "outputs": [
    {
     "name": "stdout",
     "output_type": "stream",
     "text": [
      "epoch0 loss:15.000081062316895\n",
      "epoch1 loss:6.1703267097473145\n",
      "epoch2 loss:2.5441935062408447\n",
      "epoch3 loss:1.0528714656829834\n",
      "epoch4 loss:0.4381486773490906\n",
      "epoch5 loss:0.18387696146965027\n",
      "epoch6 loss:0.07813920080661774\n",
      "epoch7 loss:0.033812664449214935\n",
      "epoch8 loss:0.015006041154265404\n",
      "epoch9 loss:0.006886557210236788\n",
      "tensor([[[[ 0.9825, -0.9918]]]])\n"
     ]
    }
   ],
   "source": [
    "X = torch.ones((6, 8))\n",
    "X[:,2:6] = 0\n",
    "kernel = torch.tensor([[1,-1]])\n",
    "Y = corr2D(X,kernel)\n",
    "\n",
    "conv2d = nn.Conv2d(1,1,kernel_size=(1,2),bias=False)\n",
    "X = X.reshape(1,1,6,8) # 批量大小、通道、高度、宽度\n",
    "Y = Y.reshape(1,1,6,7)\n",
    "lr = 0.03\n",
    "\n",
    "for i in range(10):\n",
    "    y_hat = conv2d(X)\n",
    "    loss = (y_hat-Y)**2\n",
    "    conv2d.zero_grad()\n",
    "    loss.sum().backward()\n",
    "    conv2d.weight.data[:] -= lr*conv2d.weight.grad\n",
    "    print(f'epoch{i} loss:{loss.sum()}')\n",
    "\n",
    "print(conv2d.weight.data)"
   ],
   "metadata": {
    "collapsed": false,
    "ExecuteTime": {
     "end_time": "2023-08-02T06:12:26.883812Z",
     "start_time": "2023-08-02T06:12:25.323035600Z"
    }
   }
  },
  {
   "cell_type": "markdown",
   "source": [
    "## 填充与步幅"
   ],
   "metadata": {
    "collapsed": false
   }
  },
  {
   "cell_type": "code",
   "execution_count": 4,
   "outputs": [
    {
     "name": "stdout",
     "output_type": "stream",
     "text": [
      "torch.Size([8, 8])\n",
      "torch.Size([4, 4])\n"
     ]
    }
   ],
   "source": [
    "import torch\n",
    "from torch import nn\n",
    "\n",
    "def comp_conv2d(conv2d,X):\n",
    "    h,w = X.shape\n",
    "    X = X.reshape(1,1,h,w)\n",
    "    Y = conv2d(X)\n",
    "    return Y.reshape(Y.shape[2:]) #批量大小、通道、高度、宽度，reshape成一个高度*宽度大小的张量\n",
    "conv2d = nn.Conv2d(1,1,kernel_size=3,padding=1)\n",
    "X = torch.rand(size=(8,8))\n",
    "print(comp_conv2d(conv2d,X).shape)\n",
    "\n",
    "conv2d_ = nn.Conv2d(1,1,kernel_size=3,padding=1,stride=2)\n",
    "print(comp_conv2d(conv2d_,X).shape)"
   ],
   "metadata": {
    "collapsed": false,
    "ExecuteTime": {
     "end_time": "2023-08-02T06:12:26.888628100Z",
     "start_time": "2023-08-02T06:12:26.884811600Z"
    }
   }
  },
  {
   "cell_type": "markdown",
   "source": [
    "## 多通道"
   ],
   "metadata": {
    "collapsed": false
   }
  },
  {
   "cell_type": "markdown",
   "source": [
    "### 多通道输入"
   ],
   "metadata": {
    "collapsed": false
   }
  },
  {
   "cell_type": "code",
   "execution_count": 5,
   "outputs": [
    {
     "data": {
      "text/plain": "tensor([[ 56.,  72.],\n        [104., 120.]])"
     },
     "execution_count": 5,
     "metadata": {},
     "output_type": "execute_result"
    }
   ],
   "source": [
    "import torch\n",
    "import My_utils\n",
    "\n",
    "def corr2d_multi_in(X,K):\n",
    "    return sum(My_utils.corr2D(x,k) for x,k in zip(X,K))\n",
    "\n",
    "X = torch.tensor([[[0.0, 1.0, 2.0], [3.0, 4.0, 5.0], [6.0, 7.0, 8.0]],\n",
    "                  [[1.0, 2.0, 3.0], [4.0, 5.0, 6.0], [7.0, 8.0, 9.0]]])\n",
    "K = torch.tensor([[[0.0, 1.0], [2.0, 3.0]], [[1.0, 2.0], [3.0, 4.0]]])\n",
    "\n",
    "corr2d_multi_in(X,K)\n"
   ],
   "metadata": {
    "collapsed": false,
    "ExecuteTime": {
     "end_time": "2023-08-02T06:12:27.150121400Z",
     "start_time": "2023-08-02T06:12:26.889629900Z"
    }
   }
  },
  {
   "cell_type": "markdown",
   "source": [
    "### 多通道输出"
   ],
   "metadata": {
    "collapsed": false
   }
  },
  {
   "cell_type": "code",
   "execution_count": 6,
   "outputs": [
    {
     "data": {
      "text/plain": "tensor([[[ 56.,  72.],\n         [104., 120.]],\n\n        [[ 76., 100.],\n         [148., 172.]],\n\n        [[ 96., 128.],\n         [192., 224.]]])"
     },
     "execution_count": 6,
     "metadata": {},
     "output_type": "execute_result"
    }
   ],
   "source": [
    "def corr2d_multi_in_out(X,K):\n",
    "    return torch.stack([corr2d_multi_in(X,k) for k in K],0)\n",
    "\n",
    "K = torch.stack([K,K+1,K+2],0)\n",
    "corr2d_multi_in_out(X,K)"
   ],
   "metadata": {
    "collapsed": false,
    "ExecuteTime": {
     "end_time": "2023-08-02T06:12:27.155165300Z",
     "start_time": "2023-08-02T06:12:27.151121200Z"
    }
   }
  },
  {
   "cell_type": "markdown",
   "source": [
    "## 池化层"
   ],
   "metadata": {
    "collapsed": false
   }
  },
  {
   "cell_type": "code",
   "execution_count": 7,
   "outputs": [
    {
     "name": "stdout",
     "output_type": "stream",
     "text": [
      "tensor([[5., 6.],\n",
      "        [8., 9.]])\n",
      "tensor([[3., 4.],\n",
      "        [6., 7.]])\n"
     ]
    }
   ],
   "source": [
    "import torch\n",
    "import My_utils\n",
    "from torch import nn\n",
    "def pool2d(pool_size,X,mode='max'):\n",
    "    p_h,p_w = pool_size\n",
    "    Y = torch.zeros((X.shape[0]-p_h+1,X.shape[1]-p_w+1))\n",
    "    for i in range(Y.shape[0]):\n",
    "        for j in range(Y.shape[1]):\n",
    "            if mode == 'max':\n",
    "                Y[i,j] = X[i:i+p_h,j:j+p_w].max()\n",
    "            elif mode == 'avg':\n",
    "                Y[i,j] = X[i:i+p_h,j:j+p_w].mean()\n",
    "    return Y\n",
    "\n",
    "X = torch.tensor([[1,2,3],[4,5,6],[7,8,9]])\n",
    "print(pool2d((2,2),X))\n",
    "print(pool2d((2,2),X.type(torch.float),mode='avg'))"
   ],
   "metadata": {
    "collapsed": false,
    "ExecuteTime": {
     "end_time": "2023-08-02T06:12:27.160149300Z",
     "start_time": "2023-08-02T06:12:27.156160700Z"
    }
   }
  },
  {
   "cell_type": "code",
   "execution_count": 8,
   "outputs": [
    {
     "name": "stdout",
     "output_type": "stream",
     "text": [
      "tensor([[[[ 5.,  7.],\n",
      "          [13., 15.]]]], dtype=torch.float64)\n",
      "tensor([[[[ 5.,  6.,  7.],\n",
      "          [ 9., 10., 11.],\n",
      "          [13., 14., 15.]],\n",
      "\n",
      "         [[ 6.,  7.,  8.],\n",
      "          [10., 11., 12.],\n",
      "          [14., 15., 16.]]]], dtype=torch.float64)\n"
     ]
    }
   ],
   "source": [
    "X = torch.arange(16,dtype=float).reshape((1,1,4,4))\n",
    "pooling2d = nn.MaxPool2d(2) # pytorch中，池化窗口的大小和步幅相同 -> 不同的池化窗口没有重叠\n",
    "print(pooling2d(X))\n",
    "\n",
    "X = torch.cat((X,X+1),1)\n",
    "pooling2d = nn.MaxPool2d(2,stride=1)\n",
    "print(pooling2d(X))"
   ],
   "metadata": {
    "collapsed": false,
    "ExecuteTime": {
     "end_time": "2023-08-02T06:12:27.165323200Z",
     "start_time": "2023-08-02T06:12:27.162150600Z"
    }
   }
  }
 ],
 "metadata": {
  "kernelspec": {
   "display_name": "Python 3",
   "language": "python",
   "name": "python3"
  },
  "language_info": {
   "codemirror_mode": {
    "name": "ipython",
    "version": 2
   },
   "file_extension": ".py",
   "mimetype": "text/x-python",
   "name": "python",
   "nbconvert_exporter": "python",
   "pygments_lexer": "ipython2",
   "version": "2.7.6"
  }
 },
 "nbformat": 4,
 "nbformat_minor": 0
}
