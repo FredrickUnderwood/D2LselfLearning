{
 "cells": [
  {
   "cell_type": "markdown",
   "source": [
    "# 卷积神经网络"
   ],
   "metadata": {
    "collapsed": false
   }
  },
  {
   "cell_type": "markdown",
   "source": [
    "## 二维互相关运算"
   ],
   "metadata": {
    "collapsed": false
   }
  },
  {
   "cell_type": "code",
   "execution_count": 1,
   "outputs": [],
   "source": [
    "import torch\n",
    "from  torch import nn\n",
    "\n",
    "def corr2D(X,kernel):\n",
    "    h,w = kernel.shape\n",
    "    Y = torch.zeros(size=(X.shape[0]-h+1,X.shape[1]-w+1))\n",
    "    for i in range(Y.shape[0]):\n",
    "        for j in range(Y.shape[1]):\n",
    "            Y[i,j] = (X[i:i+h,j:j+w]*kernel).sum()\n",
    "    return Y"
   ],
   "metadata": {
    "collapsed": false,
    "ExecuteTime": {
     "end_time": "2023-08-01T15:11:19.966032700Z",
     "start_time": "2023-08-01T15:11:19.111461Z"
    }
   }
  },
  {
   "cell_type": "markdown",
   "source": [
    "## 卷积层"
   ],
   "metadata": {
    "collapsed": false
   }
  },
  {
   "cell_type": "code",
   "execution_count": 2,
   "outputs": [],
   "source": [
    "class Conv2D(nn.Module):\n",
    "    def __init__(self,kernel_size):\n",
    "        super().__init__()\n",
    "        self.weight = torch.rand(kernel_size)\n",
    "        self.bias = torch.zeros(1)\n",
    "\n",
    "    def forward(self,X):\n",
    "        return corr2D(X,self.weight)+self.bias"
   ],
   "metadata": {
    "collapsed": false,
    "ExecuteTime": {
     "end_time": "2023-08-01T15:11:19.969662700Z",
     "start_time": "2023-08-01T15:11:19.967654600Z"
    }
   }
  },
  {
   "cell_type": "markdown",
   "source": [
    "## 训练过程\n",
    "卷积神经网络训练的权值就是卷积核，比如本例中通过类似Sobel算子的卷积核进行滤波后得出原图像上的边界，而训练就是尝试训练出一个卷积核类似Sobel算子，同样能识别边界"
   ],
   "metadata": {
    "collapsed": false
   }
  },
  {
   "cell_type": "code",
   "execution_count": 3,
   "outputs": [
    {
     "name": "stdout",
     "output_type": "stream",
     "text": [
      "epoch0 loss:13.110658645629883\n",
      "epoch1 loss:6.3352556228637695\n",
      "epoch2 loss:3.212603807449341\n",
      "epoch3 loss:1.7111999988555908\n",
      "epoch4 loss:0.9539106488227844\n",
      "epoch5 loss:0.5526436567306519\n",
      "epoch6 loss:0.3299928307533264\n",
      "epoch7 loss:0.20148806273937225\n",
      "epoch8 loss:0.12497634440660477\n",
      "epoch9 loss:0.07835618406534195\n",
      "tensor([[[[ 0.9617, -1.0184]]]])\n"
     ]
    }
   ],
   "source": [
    "X = torch.ones((6, 8))\n",
    "X[:,2:6] = 0\n",
    "kernel = torch.tensor([[1,-1]])\n",
    "Y = corr2D(X,kernel)\n",
    "\n",
    "conv2d = nn.Conv2d(1,1,kernel_size=(1,2),bias=False)\n",
    "X = X.reshape(1,1,6,8) # 批量大小、通道、高度、宽度\n",
    "Y = Y.reshape(1,1,6,7)\n",
    "lr = 0.03\n",
    "\n",
    "for i in range(10):\n",
    "    y_hat = conv2d(X)\n",
    "    loss = (y_hat-Y)**2\n",
    "    conv2d.zero_grad()\n",
    "    loss.sum().backward()\n",
    "    conv2d.weight.data[:] -= lr*conv2d.weight.grad\n",
    "    print(f'epoch{i} loss:{loss.sum()}')\n",
    "\n",
    "print(conv2d.weight.data)"
   ],
   "metadata": {
    "collapsed": false,
    "ExecuteTime": {
     "end_time": "2023-08-01T15:11:20.498532500Z",
     "start_time": "2023-08-01T15:11:19.970729600Z"
    }
   }
  }
 ],
 "metadata": {
  "kernelspec": {
   "display_name": "Python 3",
   "language": "python",
   "name": "python3"
  },
  "language_info": {
   "codemirror_mode": {
    "name": "ipython",
    "version": 2
   },
   "file_extension": ".py",
   "mimetype": "text/x-python",
   "name": "python",
   "nbconvert_exporter": "python",
   "pygments_lexer": "ipython2",
   "version": "2.7.6"
  }
 },
 "nbformat": 4,
 "nbformat_minor": 0
}
