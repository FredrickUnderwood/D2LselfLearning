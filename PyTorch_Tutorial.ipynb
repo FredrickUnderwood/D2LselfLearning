{
 "cells": [
  {
   "cell_type": "markdown",
   "source": [
    "## PyTorch库的使用"
   ],
   "metadata": {
    "collapsed": false
   }
  },
  {
   "cell_type": "markdown",
   "source": [
    "### 标量对向量求导"
   ],
   "metadata": {
    "collapsed": false
   }
  },
  {
   "cell_type": "code",
   "execution_count": 1,
   "outputs": [
    {
     "data": {
      "text/plain": "tensor([0., 1., 2., 3.])"
     },
     "execution_count": 1,
     "metadata": {},
     "output_type": "execute_result"
    }
   ],
   "source": [
    "import torch\n",
    "x=torch.arange(4.0)#生成一个长度为4的张量\n",
    "x"
   ],
   "metadata": {
    "collapsed": false,
    "ExecuteTime": {
     "end_time": "2023-07-25T03:34:14.608161700Z",
     "start_time": "2023-07-25T03:34:13.720705Z"
    }
   }
  },
  {
   "cell_type": "code",
   "execution_count": 2,
   "outputs": [],
   "source": [
    "x.requires_grad=True\n",
    "x.grad"
   ],
   "metadata": {
    "collapsed": false,
    "ExecuteTime": {
     "end_time": "2023-07-25T03:34:14.611633600Z",
     "start_time": "2023-07-25T03:34:14.608161700Z"
    }
   }
  },
  {
   "cell_type": "code",
   "execution_count": 3,
   "outputs": [
    {
     "data": {
      "text/plain": "tensor(14., grad_fn=<DotBackward0>)"
     },
     "execution_count": 3,
     "metadata": {},
     "output_type": "execute_result"
    }
   ],
   "source": [
    "y=torch.dot(x,x)\n",
    "y"
   ],
   "metadata": {
    "collapsed": false,
    "ExecuteTime": {
     "end_time": "2023-07-25T03:34:14.618693200Z",
     "start_time": "2023-07-25T03:34:14.611633600Z"
    }
   }
  },
  {
   "cell_type": "code",
   "execution_count": 4,
   "outputs": [
    {
     "data": {
      "text/plain": "tensor([0., 2., 4., 6.])"
     },
     "execution_count": 4,
     "metadata": {},
     "output_type": "execute_result"
    }
   ],
   "source": [
    "y.backward()\n",
    "x.grad"
   ],
   "metadata": {
    "collapsed": false,
    "ExecuteTime": {
     "end_time": "2023-07-25T03:34:14.689608300Z",
     "start_time": "2023-07-25T03:34:14.620701200Z"
    }
   }
  },
  {
   "cell_type": "code",
   "execution_count": 5,
   "outputs": [
    {
     "data": {
      "text/plain": "tensor([1., 1., 1., 1.])"
     },
     "execution_count": 5,
     "metadata": {},
     "output_type": "execute_result"
    }
   ],
   "source": [
    "#默认情况下torch会自动累计grad，因此要执行清空操作\n",
    "x.grad.zero_()\n",
    "y=x.sum()\n",
    "y.backward()\n",
    "x.grad"
   ],
   "metadata": {
    "collapsed": false,
    "ExecuteTime": {
     "end_time": "2023-07-25T03:34:14.689608300Z",
     "start_time": "2023-07-25T03:34:14.652369Z"
    }
   }
  },
  {
   "cell_type": "markdown",
   "source": [
    "### 向量对向量的求导（深度学习不常用）"
   ],
   "metadata": {
    "collapsed": false
   }
  },
  {
   "cell_type": "code",
   "execution_count": 6,
   "outputs": [
    {
     "data": {
      "text/plain": "tensor([0., 2., 4., 6.])"
     },
     "execution_count": 6,
     "metadata": {},
     "output_type": "execute_result"
    }
   ],
   "source": [
    "x.grad.zero_()\n",
    "y=x*x\n",
    "y.sum().backward()\n",
    "x.grad"
   ],
   "metadata": {
    "collapsed": false,
    "ExecuteTime": {
     "end_time": "2023-07-25T03:34:14.690174600Z",
     "start_time": "2023-07-25T03:34:14.656091600Z"
    }
   }
  },
  {
   "cell_type": "code",
   "execution_count": 7,
   "outputs": [
    {
     "data": {
      "text/plain": "tensor([0., 1., 4., 9.])"
     },
     "execution_count": 7,
     "metadata": {},
     "output_type": "execute_result"
    }
   ],
   "source": [
    "x.grad.zero_()\n",
    "y=x*x\n",
    "u=y.detach()#之前的y=x*x，detach()后y=x*x具体的张量，不再是一个关于x的表达式\n",
    "z=u*x\n",
    "z.sum().backward()\n",
    "x.grad"
   ],
   "metadata": {
    "collapsed": false,
    "ExecuteTime": {
     "end_time": "2023-07-25T03:34:14.690174600Z",
     "start_time": "2023-07-25T03:34:14.682832200Z"
    }
   }
  },
  {
   "cell_type": "markdown",
   "source": [
    "### PyTorch库中的一些函数的用法"
   ],
   "metadata": {
    "collapsed": false
   }
  },
  {
   "cell_type": "code",
   "execution_count": 17,
   "outputs": [
    {
     "data": {
      "text/plain": "tensor([[-1.1035, -0.1544,  0.1072,  0.1773, -0.5543],\n        [ 0.6013, -0.9951,  0.1199, -0.5381, -1.7457],\n        [ 1.4763, -1.0639,  0.4542,  1.0019, -1.1304],\n        [ 0.2685, -0.5803, -1.2030,  0.0497,  0.9629],\n        [-0.0969,  0.1444,  0.5901, -2.4575,  0.6635]])"
     },
     "execution_count": 17,
     "metadata": {},
     "output_type": "execute_result"
    }
   ],
   "source": [
    "x=torch.normal(mean=0,std=1,size=(5,5))#生成一个五行五列的以0为均值，1为标准差的张量\n",
    "x"
   ],
   "metadata": {
    "collapsed": false,
    "ExecuteTime": {
     "end_time": "2023-07-25T03:37:51.488139800Z",
     "start_time": "2023-07-25T03:37:51.482717400Z"
    }
   }
  },
  {
   "cell_type": "code",
   "execution_count": 22,
   "outputs": [
    {
     "data": {
      "text/plain": "tensor([[ 1.1375],\n        [-0.1369],\n        [-3.5271],\n        [-0.4638],\n        [ 1.3484]])"
     },
     "execution_count": 22,
     "metadata": {},
     "output_type": "execute_result"
    }
   ],
   "source": [
    "w=torch.normal(0,1,(5,1))\n",
    "b=1\n",
    "y=torch.matmul(x,w)+b#矩阵乘法\n",
    "y\n",
    "y=x@w\n",
    "y"
   ],
   "metadata": {
    "collapsed": false,
    "ExecuteTime": {
     "end_time": "2023-07-25T03:38:25.189547100Z",
     "start_time": "2023-07-25T03:38:25.186254300Z"
    }
   }
  },
  {
   "cell_type": "code",
   "execution_count": 10,
   "outputs": [
    {
     "name": "stdout",
     "output_type": "stream",
     "text": [
      "tensor([[ 3.9682],\n",
      "        [ 2.8297],\n",
      "        [ 1.5248],\n",
      "        [-4.2307],\n",
      "        [-0.3626]])\n",
      "tensor([[ 3.9682,  2.8297,  1.5248, -4.2307, -0.3626]])\n",
      "5\n",
      "1\n"
     ]
    }
   ],
   "source": [
    "print(y.reshape(-1,1))#重构为一列\n",
    "print(y.reshape(1,-1))#重构为一行\n",
    "print(len(y.reshape(-1,1)))\n",
    "print(len(y.reshape(1,-1)))"
   ],
   "metadata": {
    "collapsed": false,
    "ExecuteTime": {
     "end_time": "2023-07-25T03:34:14.690174600Z",
     "start_time": "2023-07-25T03:34:14.683343400Z"
    }
   }
  },
  {
   "cell_type": "code",
   "execution_count": 11,
   "outputs": [
    {
     "name": "stdout",
     "output_type": "stream",
     "text": [
      "tensor([[5, 7, 9]])\n",
      "tensor([[ 6],\n",
      "        [15]])\n"
     ]
    }
   ],
   "source": [
    "a=torch.tensor([[1,2,3],[4,5,6]])\n",
    "print(a.sum(0,keepdim=True))\n",
    "print(a.sum(1,keepdim=True))"
   ],
   "metadata": {
    "collapsed": false,
    "ExecuteTime": {
     "end_time": "2023-07-25T03:34:14.690174600Z",
     "start_time": "2023-07-25T03:34:14.683343400Z"
    }
   }
  },
  {
   "cell_type": "code",
   "execution_count": 12,
   "outputs": [
    {
     "name": "stdout",
     "output_type": "stream",
     "text": [
      "tensor([[14, 32],\n",
      "        [32, 77]])\n"
     ]
    }
   ],
   "source": [
    "a=torch.tensor([[1,2,3],[4,5,6]])\n",
    "print(torch.matmul(a,a.T))#做常规的矩阵乘法"
   ],
   "metadata": {
    "collapsed": false,
    "ExecuteTime": {
     "end_time": "2023-07-25T03:34:14.690174600Z",
     "start_time": "2023-07-25T03:34:14.683343400Z"
    }
   }
  },
  {
   "cell_type": "code",
   "execution_count": 13,
   "outputs": [
    {
     "name": "stdout",
     "output_type": "stream",
     "text": [
      "torch.Size([784, 10])\n",
      "784\n"
     ]
    }
   ],
   "source": [
    "W=torch.normal(0,0.01,size=(784,10),requires_grad=True)\n",
    "print(W.shape)\n",
    "print(W.shape[0])#返回的是第0维的shape"
   ],
   "metadata": {
    "collapsed": false,
    "ExecuteTime": {
     "end_time": "2023-07-25T03:34:14.690174600Z",
     "start_time": "2023-07-25T03:34:14.685662500Z"
    }
   }
  },
  {
   "cell_type": "code",
   "execution_count": 14,
   "outputs": [
    {
     "name": "stdout",
     "output_type": "stream",
     "text": [
      "tensor([2, 1, 2])\n",
      "tensor([1, 1, 0])\n"
     ]
    }
   ],
   "source": [
    "a=torch.tensor([[1,2,3],\n",
    "                [3,7,1],\n",
    "                [2,1,3]])\n",
    "print(a.argmax(axis=1))\n",
    "print(a.argmax(axis=0))"
   ],
   "metadata": {
    "collapsed": false,
    "ExecuteTime": {
     "end_time": "2023-07-25T03:34:14.692769500Z",
     "start_time": "2023-07-25T03:34:14.686222100Z"
    }
   }
  },
  {
   "cell_type": "code",
   "execution_count": 16,
   "outputs": [
    {
     "name": "stdout",
     "output_type": "stream",
     "text": [
      "tensor([[0, 0, 0],\n",
      "        [0, 0, 0]])\n",
      "tensor([[1, 0, 3],\n",
      "        [0, 5, 6]])\n"
     ]
    }
   ],
   "source": [
    "a=torch.tensor([[1,-2,3],\n",
    "                [-4,5,6]])\n",
    "print(torch.zeros_like(a))\n",
    "print(torch.max(a,torch.zeros_like(a)))"
   ],
   "metadata": {
    "collapsed": false,
    "ExecuteTime": {
     "end_time": "2023-07-25T03:35:55.826907900Z",
     "start_time": "2023-07-25T03:35:55.826907900Z"
    }
   }
  }
 ],
 "metadata": {
  "kernelspec": {
   "display_name": "Python 3",
   "language": "python",
   "name": "python3"
  },
  "language_info": {
   "codemirror_mode": {
    "name": "ipython",
    "version": 2
   },
   "file_extension": ".py",
   "mimetype": "text/x-python",
   "name": "python",
   "nbconvert_exporter": "python",
   "pygments_lexer": "ipython2",
   "version": "2.7.6"
  }
 },
 "nbformat": 4,
 "nbformat_minor": 0
}
