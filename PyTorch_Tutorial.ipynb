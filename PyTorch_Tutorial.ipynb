{
 "cells": [
  {
   "cell_type": "markdown",
   "source": [
    "## PyTorch库的使用"
   ],
   "metadata": {
    "collapsed": false
   }
  },
  {
   "cell_type": "markdown",
   "source": [
    "### 标量对向量求导"
   ],
   "metadata": {
    "collapsed": false
   }
  },
  {
   "cell_type": "code",
   "execution_count": 1,
   "outputs": [
    {
     "data": {
      "text/plain": "tensor([0., 1., 2., 3.])"
     },
     "execution_count": 1,
     "metadata": {},
     "output_type": "execute_result"
    }
   ],
   "source": [
    "import torch\n",
    "x=torch.arange(4.0)#生成一个长度为4的张量\n",
    "x"
   ],
   "metadata": {
    "collapsed": false,
    "ExecuteTime": {
     "end_time": "2023-09-11T05:37:45.343016100Z",
     "start_time": "2023-09-11T05:37:44.350502Z"
    }
   }
  },
  {
   "cell_type": "code",
   "execution_count": 2,
   "outputs": [],
   "source": [
    "x.requires_grad=True\n",
    "x.grad"
   ],
   "metadata": {
    "collapsed": false,
    "ExecuteTime": {
     "end_time": "2023-09-11T05:37:45.343931500Z",
     "start_time": "2023-09-11T05:37:45.343016100Z"
    }
   }
  },
  {
   "cell_type": "code",
   "execution_count": 3,
   "outputs": [
    {
     "data": {
      "text/plain": "tensor(14., grad_fn=<DotBackward0>)"
     },
     "execution_count": 3,
     "metadata": {},
     "output_type": "execute_result"
    }
   ],
   "source": [
    "y=torch.dot(x,x)\n",
    "y"
   ],
   "metadata": {
    "collapsed": false,
    "ExecuteTime": {
     "end_time": "2023-09-11T05:37:45.357656800Z",
     "start_time": "2023-09-11T05:37:45.343931500Z"
    }
   }
  },
  {
   "cell_type": "code",
   "execution_count": 4,
   "outputs": [
    {
     "data": {
      "text/plain": "tensor([0., 2., 4., 6.])"
     },
     "execution_count": 4,
     "metadata": {},
     "output_type": "execute_result"
    }
   ],
   "source": [
    "y.backward()\n",
    "x.grad"
   ],
   "metadata": {
    "collapsed": false,
    "ExecuteTime": {
     "end_time": "2023-09-11T05:37:46.984213Z",
     "start_time": "2023-09-11T05:37:45.358653400Z"
    }
   }
  },
  {
   "cell_type": "code",
   "execution_count": 5,
   "outputs": [
    {
     "data": {
      "text/plain": "tensor([1., 1., 1., 1.])"
     },
     "execution_count": 5,
     "metadata": {},
     "output_type": "execute_result"
    }
   ],
   "source": [
    "#默认情况下torch会自动累计grad，因此要执行清空操作\n",
    "x.grad.zero_()\n",
    "y=x.sum()\n",
    "y.backward()\n",
    "x.grad"
   ],
   "metadata": {
    "collapsed": false,
    "ExecuteTime": {
     "end_time": "2023-09-11T05:37:46.991196Z",
     "start_time": "2023-09-11T05:37:46.985209400Z"
    }
   }
  },
  {
   "cell_type": "markdown",
   "source": [
    "### 向量对向量的求导（深度学习不常用）"
   ],
   "metadata": {
    "collapsed": false
   }
  },
  {
   "cell_type": "code",
   "execution_count": 6,
   "outputs": [
    {
     "data": {
      "text/plain": "tensor([0., 2., 4., 6.])"
     },
     "execution_count": 6,
     "metadata": {},
     "output_type": "execute_result"
    }
   ],
   "source": [
    "x.grad.zero_()\n",
    "y=x*x\n",
    "y.sum().backward()\n",
    "x.grad"
   ],
   "metadata": {
    "collapsed": false,
    "ExecuteTime": {
     "end_time": "2023-09-11T05:37:46.995862200Z",
     "start_time": "2023-09-11T05:37:46.992192500Z"
    }
   }
  },
  {
   "cell_type": "code",
   "execution_count": 7,
   "outputs": [
    {
     "data": {
      "text/plain": "tensor([0., 1., 4., 9.])"
     },
     "execution_count": 7,
     "metadata": {},
     "output_type": "execute_result"
    }
   ],
   "source": [
    "x.grad.zero_()\n",
    "y=x*x\n",
    "u=y.detach()#之前的y=x*x，detach()后y=x*x具体的张量，不再是一个关于x的表达式\n",
    "z=u*x\n",
    "z.sum().backward()\n",
    "x.grad"
   ],
   "metadata": {
    "collapsed": false,
    "ExecuteTime": {
     "end_time": "2023-09-11T05:37:46.998844200Z",
     "start_time": "2023-09-11T05:37:46.996858800Z"
    }
   }
  },
  {
   "cell_type": "markdown",
   "source": [
    "### PyTorch库中的一些函数的用法"
   ],
   "metadata": {
    "collapsed": false
   }
  },
  {
   "cell_type": "code",
   "execution_count": 8,
   "outputs": [
    {
     "data": {
      "text/plain": "tensor([[-0.2462, -1.4928,  0.5101,  1.6421,  0.3255],\n        [-0.9024, -0.6835, -0.0339, -0.6578, -1.2534],\n        [-1.0293,  1.3824,  0.6016, -0.2069, -1.6440],\n        [-0.3677, -0.0536,  1.3980,  0.2279,  0.8445],\n        [-0.2198, -0.0511,  0.1358, -0.3237,  0.7491]])"
     },
     "execution_count": 8,
     "metadata": {},
     "output_type": "execute_result"
    }
   ],
   "source": [
    "x=torch.normal(mean=0,std=1,size=(5,5))#生成一个五行五列的以0为均值，1为标准差的张量\n",
    "x"
   ],
   "metadata": {
    "collapsed": false,
    "ExecuteTime": {
     "end_time": "2023-09-11T05:37:47.006030100Z",
     "start_time": "2023-09-11T05:37:47.001872500Z"
    }
   }
  },
  {
   "cell_type": "code",
   "execution_count": 9,
   "outputs": [
    {
     "data": {
      "text/plain": "tensor([[ 3.2837],\n        [-2.3813],\n        [-3.5758],\n        [ 2.7522],\n        [ 1.4940]])"
     },
     "execution_count": 9,
     "metadata": {},
     "output_type": "execute_result"
    }
   ],
   "source": [
    "w=torch.normal(0,1,(5,1))\n",
    "b=1\n",
    "y=torch.matmul(x,w)+b#矩阵乘法\n",
    "y\n",
    "y=x@w\n",
    "y"
   ],
   "metadata": {
    "collapsed": false,
    "ExecuteTime": {
     "end_time": "2023-09-11T05:37:47.064075100Z",
     "start_time": "2023-09-11T05:37:47.008025100Z"
    }
   }
  },
  {
   "cell_type": "code",
   "execution_count": 10,
   "outputs": [
    {
     "name": "stdout",
     "output_type": "stream",
     "text": [
      "tensor([[ 3.2837],\n",
      "        [-2.3813],\n",
      "        [-3.5758],\n",
      "        [ 2.7522],\n",
      "        [ 1.4940]])\n",
      "tensor([[ 3.2837, -2.3813, -3.5758,  2.7522,  1.4940]])\n",
      "5\n",
      "1\n"
     ]
    }
   ],
   "source": [
    "print(y.reshape(-1,1))#重构为一列\n",
    "print(y.reshape(1,-1))#重构为一行\n",
    "print(len(y.reshape(-1,1)))\n",
    "print(len(y.reshape(1,-1)))"
   ],
   "metadata": {
    "collapsed": false,
    "ExecuteTime": {
     "end_time": "2023-09-11T05:37:47.064075100Z",
     "start_time": "2023-09-11T05:37:47.015787200Z"
    }
   }
  },
  {
   "cell_type": "code",
   "execution_count": 11,
   "outputs": [
    {
     "name": "stdout",
     "output_type": "stream",
     "text": [
      "tensor([[5, 7, 9]])\n",
      "tensor([[ 6],\n",
      "        [15]])\n"
     ]
    }
   ],
   "source": [
    "a=torch.tensor([[1,2,3],[4,5,6]])\n",
    "print(a.sum(0,keepdim=True))\n",
    "print(a.sum(1,keepdim=True))"
   ],
   "metadata": {
    "collapsed": false,
    "ExecuteTime": {
     "end_time": "2023-09-11T05:37:47.065072300Z",
     "start_time": "2023-09-11T05:37:47.020325600Z"
    }
   }
  },
  {
   "cell_type": "code",
   "execution_count": 12,
   "outputs": [
    {
     "name": "stdout",
     "output_type": "stream",
     "text": [
      "tensor([[14, 32],\n",
      "        [32, 77]])\n"
     ]
    }
   ],
   "source": [
    "a=torch.tensor([[1,2,3],[4,5,6]])\n",
    "print(torch.matmul(a,a.T))#做常规的矩阵乘法"
   ],
   "metadata": {
    "collapsed": false,
    "ExecuteTime": {
     "end_time": "2023-09-11T05:37:47.065072300Z",
     "start_time": "2023-09-11T05:37:47.024639100Z"
    }
   }
  },
  {
   "cell_type": "code",
   "execution_count": 13,
   "outputs": [
    {
     "name": "stdout",
     "output_type": "stream",
     "text": [
      "torch.Size([784, 10])\n",
      "784\n"
     ]
    }
   ],
   "source": [
    "W=torch.normal(0,0.01,size=(784,10),requires_grad=True)\n",
    "print(W.shape)\n",
    "print(W.shape[0])#返回的是第0维的shape"
   ],
   "metadata": {
    "collapsed": false,
    "ExecuteTime": {
     "end_time": "2023-09-11T05:37:47.065072300Z",
     "start_time": "2023-09-11T05:37:47.030163800Z"
    }
   }
  },
  {
   "cell_type": "code",
   "execution_count": 14,
   "outputs": [
    {
     "name": "stdout",
     "output_type": "stream",
     "text": [
      "tensor([2, 1, 2])\n",
      "tensor([1, 1, 0])\n"
     ]
    }
   ],
   "source": [
    "a=torch.tensor([[1,2,3],\n",
    "                [3,7,1],\n",
    "                [2,1,3]])\n",
    "print(a.argmax(axis=1))\n",
    "print(a.argmax(axis=0))"
   ],
   "metadata": {
    "collapsed": false,
    "ExecuteTime": {
     "end_time": "2023-09-11T05:37:47.065072300Z",
     "start_time": "2023-09-11T05:37:47.033035700Z"
    }
   }
  },
  {
   "cell_type": "code",
   "execution_count": 15,
   "outputs": [
    {
     "name": "stdout",
     "output_type": "stream",
     "text": [
      "tensor([[0, 0, 0],\n",
      "        [0, 0, 0]])\n",
      "tensor([[1, 0, 3],\n",
      "        [0, 5, 6]])\n"
     ]
    }
   ],
   "source": [
    "a=torch.tensor([[1,-2,3],\n",
    "                [-4,5,6]])\n",
    "print(torch.zeros_like(a))\n",
    "print(torch.max(a,torch.zeros_like(a)))"
   ],
   "metadata": {
    "collapsed": false,
    "ExecuteTime": {
     "end_time": "2023-09-11T05:37:47.065072300Z",
     "start_time": "2023-09-11T05:37:47.054422600Z"
    }
   }
  },
  {
   "cell_type": "code",
   "execution_count": 16,
   "outputs": [
    {
     "name": "stdout",
     "output_type": "stream",
     "text": [
      "(200,)\n"
     ]
    }
   ],
   "source": [
    "import numpy as np\n",
    "import torch\n",
    "true_w = np.zeros(20)  # 分配大量的空间\n",
    "true_w[0:4] = np.array([5, 1.2, -3.4, 5.6])\n",
    "features = np.random.normal(size=(100 + 100, 1))\n",
    "np.random.shuffle(features)\n",
    "poly_features = np.power(features, np.arange(20).reshape(1, -1))#扩展为features行，20列数组\n",
    "labels = np.dot(poly_features, true_w)\n",
    "print(np.dot(poly_features, true_w).shape)"
   ],
   "metadata": {
    "collapsed": false,
    "ExecuteTime": {
     "end_time": "2023-09-11T05:37:47.065072300Z",
     "start_time": "2023-09-11T05:37:47.054422600Z"
    }
   }
  },
  {
   "cell_type": "code",
   "execution_count": 17,
   "outputs": [
    {
     "name": "stdout",
     "output_type": "stream",
     "text": [
      "tensor([[1, 2, 3, 4, 5, 6],\n",
      "        [4, 5, 6, 7, 8, 9]])\n",
      "tensor([[1, 2, 3],\n",
      "        [4, 5, 6],\n",
      "        [4, 5, 6],\n",
      "        [7, 8, 9]])\n"
     ]
    }
   ],
   "source": [
    "a=torch.tensor([[1,2,3],\n",
    "                [4,5,6]])\n",
    "b=torch.tensor([[4,5,6],\n",
    "               [7,8,9]])\n",
    "print(torch.cat((a,b),1))\n",
    "print(torch.cat((a,b),0))"
   ],
   "metadata": {
    "collapsed": false,
    "ExecuteTime": {
     "end_time": "2023-09-11T05:37:47.065072300Z",
     "start_time": "2023-09-11T05:37:47.054422600Z"
    }
   }
  },
  {
   "cell_type": "code",
   "execution_count": 18,
   "outputs": [
    {
     "name": "stdout",
     "output_type": "stream",
     "text": [
      "tensor([1.5000, 3.0000, 4.1000])\n",
      "tensor([2.0667, 3.6667])\n",
      "tensor([[1.5000, 3.0000, 4.1000]])\n",
      "tensor([[2.0667],\n",
      "        [3.6667]])\n"
     ]
    }
   ],
   "source": [
    "import torch\n",
    "x = torch.tensor([[1,2,3.2],\n",
    "                  [2,4,5]])\n",
    "print(x.mean(dim=0))\n",
    "print(x.mean(dim=1))\n",
    "print(x.mean(dim=0, keepdim=True))\n",
    "print(x.mean(dim=1, keepdim=True))"
   ],
   "metadata": {
    "collapsed": false,
    "ExecuteTime": {
     "end_time": "2023-09-11T05:37:47.065072300Z",
     "start_time": "2023-09-11T05:37:47.055779100Z"
    }
   }
  },
  {
   "cell_type": "code",
   "execution_count": 19,
   "outputs": [
    {
     "name": "stdout",
     "output_type": "stream",
     "text": [
      "tensor([[[ 0.4858, -0.3406, -0.8538,  0.4474],\n",
      "         [-1.2426, -0.7101,  0.4600,  0.3135],\n",
      "         [ 1.7279,  0.6891, -1.2396, -1.3178]],\n",
      "\n",
      "        [[ 1.9972,  0.9521, -2.4685,  1.7285],\n",
      "         [-0.0884,  0.0291,  0.0431,  0.1294],\n",
      "         [-0.8150, -0.1808,  0.7928,  1.0895]]])\n",
      "tensor([[[ 0.2435],\n",
      "         [-0.1333],\n",
      "         [ 0.0932]]])\n"
     ]
    }
   ],
   "source": [
    "x = torch.randn(size=(2,3,4))\n",
    "print(x)\n",
    "print(x.mean(dim=(0,2), keepdim=True)) # 那个维度不在求均值的dim中，就保留那个维度的特征"
   ],
   "metadata": {
    "collapsed": false,
    "ExecuteTime": {
     "end_time": "2023-09-11T05:37:47.065072300Z",
     "start_time": "2023-09-11T05:37:47.058274300Z"
    }
   }
  },
  {
   "cell_type": "code",
   "execution_count": 20,
   "outputs": [
    {
     "name": "stdout",
     "output_type": "stream",
     "text": [
      "(tensor([[1, 1, 1],\n",
      "        [2, 2, 2],\n",
      "        [3, 3, 3]]), tensor([[2, 3, 4],\n",
      "        [2, 3, 4],\n",
      "        [2, 3, 4]]))\n",
      "tensor([[1, 1],\n",
      "        [2, 2],\n",
      "        [3, 3]]) tensor([[2, 3],\n",
      "        [2, 3],\n",
      "        [2, 3]])\n",
      "tensor([1, 1, 2, 2, 3, 3]) tensor([2, 3, 2, 3, 2, 3])\n"
     ]
    },
    {
     "name": "stderr",
     "output_type": "stream",
     "text": [
      "C:\\Users\\33143\\AppData\\Local\\Programs\\Python\\Python311\\Lib\\site-packages\\torch\\functional.py:504: UserWarning: torch.meshgrid: in an upcoming release, it will be required to pass the indexing argument. (Triggered internally at ..\\aten\\src\\ATen\\native\\TensorShape.cpp:3484.)\n",
      "  return _VF.meshgrid(tensors, **kwargs)  # type: ignore[attr-defined]\n"
     ]
    }
   ],
   "source": [
    "from torch import meshgrid\n",
    "import torch\n",
    "\n",
    "a = torch.tensor([1, 2, 3])\n",
    "b = torch.tensor([2, 3, 4])\n",
    "print(meshgrid([a, b]))\n",
    "b = torch.tensor([2, 3])\n",
    "x, y =meshgrid([a, b])\n",
    "print(x, y)\n",
    "print(x.reshape(-1), y.reshape(-1))"
   ],
   "metadata": {
    "collapsed": false,
    "ExecuteTime": {
     "end_time": "2023-09-11T05:37:47.075081900Z",
     "start_time": "2023-09-11T05:37:47.062079800Z"
    }
   }
  },
  {
   "cell_type": "code",
   "execution_count": 21,
   "outputs": [
    {
     "name": "stdout",
     "output_type": "stream",
     "text": [
      "tensor([[1, 2],\n",
      "        [1, 2],\n",
      "        [3, 4],\n",
      "        [3, 4]])\n",
      "tensor([[1, 1, 1, 1, 2, 2, 2, 2],\n",
      "        [3, 3, 3, 3, 4, 4, 4, 4]])\n",
      "tensor([[1, 2],\n",
      "        [3, 4],\n",
      "        [1, 2],\n",
      "        [3, 4],\n",
      "        [1, 2],\n",
      "        [3, 4]])\n"
     ]
    }
   ],
   "source": [
    "from torch import repeat_interleave\n",
    "import torch\n",
    "a = torch.tensor([[1, 2], [3, 4]])\n",
    "print(repeat_interleave(a, 2, dim=0))\n",
    "print(repeat_interleave(a, 4, dim=1))\n",
    "print(a.repeat(3, 1))"
   ],
   "metadata": {
    "collapsed": false,
    "ExecuteTime": {
     "end_time": "2023-09-11T05:37:47.081392400Z",
     "start_time": "2023-09-11T05:37:47.070457900Z"
    }
   }
  },
  {
   "cell_type": "code",
   "execution_count": 22,
   "outputs": [
    {
     "name": "stdout",
     "output_type": "stream",
     "text": [
      "tensor([[1, 2, 3],\n",
      "        [3, 4, 5]])\n",
      "tensor([[1, 3],\n",
      "        [2, 4],\n",
      "        [3, 5]])\n",
      "tensor([[1, 3],\n",
      "        [2, 4],\n",
      "        [3, 5]])\n"
     ]
    }
   ],
   "source": [
    "from torch import stack\n",
    "a = torch.tensor([1, 2, 3])\n",
    "b = torch.tensor([3, 4, 5])\n",
    "print(stack((a, b)))\n",
    "print(stack((a, b)).T)\n",
    "print(stack((a, b), dim=1))"
   ],
   "metadata": {
    "collapsed": false,
    "ExecuteTime": {
     "end_time": "2023-09-11T05:37:47.085780200Z",
     "start_time": "2023-09-11T05:37:47.080389300Z"
    }
   }
  },
  {
   "cell_type": "code",
   "execution_count": 23,
   "outputs": [
    {
     "name": "stdout",
     "output_type": "stream",
     "text": [
      "tensor([[2, 2, 3],\n",
      "        [4, 5, 6]])\n",
      "tensor([[[2, 2, 3]],\n",
      "\n",
      "        [[4, 5, 6]]])\n",
      "torch.return_types.max(\n",
      "values=tensor([4, 5, 6]),\n",
      "indices=tensor([1, 1, 1]))\n"
     ]
    }
   ],
   "source": [
    "import torch\n",
    "a = torch.tensor([[1, 2, 3],\n",
    "                 [4, 5, 6]])\n",
    "b = torch.tensor([[2, 2, 3],\n",
    "                  [4, 3, 6]])\n",
    "c = torch.tensor([2, 1 ,0])\n",
    "\n",
    "print(torch.max(a, b))\n",
    "print(torch.max(a[:, None, :], c))\n",
    "print(torch.max(a, dim=0))"
   ],
   "metadata": {
    "collapsed": false,
    "ExecuteTime": {
     "end_time": "2023-09-11T05:37:47.178419700Z",
     "start_time": "2023-09-11T05:37:47.085780200Z"
    }
   }
  },
  {
   "cell_type": "code",
   "execution_count": 24,
   "outputs": [
    {
     "name": "stdout",
     "output_type": "stream",
     "text": [
      "tensor([0, 0, 2, 2])\n"
     ]
    }
   ],
   "source": [
    "import torch\n",
    "a = torch.tensor([1, 2, 3, 4])\n",
    "b = torch.tensor([3, 3, 1, 2])\n",
    "print((a - b).clamp(min=0))"
   ],
   "metadata": {
    "collapsed": false,
    "ExecuteTime": {
     "end_time": "2023-09-11T05:37:47.196797Z",
     "start_time": "2023-09-11T05:37:47.094064400Z"
    }
   }
  },
  {
   "cell_type": "code",
   "execution_count": 25,
   "outputs": [
    {
     "name": "stdout",
     "output_type": "stream",
     "text": [
      "tensor([ 1, -1,  2,  0])\n",
      "tensor([[ 1],\n",
      "        [-1],\n",
      "        [ 2],\n",
      "        [ 0]])\n",
      "tensor([[ 1,  1,  1,  1],\n",
      "        [-1, -1, -1, -1],\n",
      "        [ 2,  2,  2,  2],\n",
      "        [ 0,  0,  0,  0]])\n"
     ]
    }
   ],
   "source": [
    "import torch\n",
    "print(torch.tensor([1, -1 , 2, 0]))\n",
    "print(torch.tensor([1, -1 , 2, 0]).unsqueeze(-1))\n",
    "print(torch.tensor([1, -1 , 2, 0]).unsqueeze(-1).repeat(1, 4))"
   ],
   "metadata": {
    "collapsed": false,
    "ExecuteTime": {
     "end_time": "2023-09-11T05:37:47.196797Z",
     "start_time": "2023-09-11T05:37:47.098440400Z"
    }
   }
  },
  {
   "cell_type": "code",
   "execution_count": 33,
   "outputs": [
    {
     "name": "stdout",
     "output_type": "stream",
     "text": [
      "tensor([[0, 0],\n",
      "        [0, 1],\n",
      "        [0, 2],\n",
      "        [1, 1],\n",
      "        [1, 2]])\n",
      "tensor([[0, 0],\n",
      "        [0, 1],\n",
      "        [0, 2],\n",
      "        [1, 0]])\n"
     ]
    }
   ],
   "source": [
    "import torch\n",
    "a = torch.tensor([[1, 2, 3],\n",
    "                  [0, -1, -2]])\n",
    "print(torch.nonzero(a))\n",
    "print(torch.nonzero(a >= 0))"
   ],
   "metadata": {
    "collapsed": false,
    "ExecuteTime": {
     "end_time": "2023-09-11T05:42:32.907211800Z",
     "start_time": "2023-09-11T05:42:32.901833100Z"
    }
   }
  },
  {
   "cell_type": "code",
   "execution_count": null,
   "outputs": [],
   "source": [
    "torch.tensor([[0] * 4,\n",
    "             [0.9, 0.8, 0.7, 0.1],\n",
    "             [0.1, 0.2, 0.3, 0.9]])"
   ],
   "metadata": {
    "collapsed": false
   }
  }
 ],
 "metadata": {
  "kernelspec": {
   "display_name": "Python 3",
   "language": "python",
   "name": "python3"
  },
  "language_info": {
   "codemirror_mode": {
    "name": "ipython",
    "version": 2
   },
   "file_extension": ".py",
   "mimetype": "text/x-python",
   "name": "python",
   "nbconvert_exporter": "python",
   "pygments_lexer": "ipython2",
   "version": "2.7.6"
  }
 },
 "nbformat": 4,
 "nbformat_minor": 0
}
