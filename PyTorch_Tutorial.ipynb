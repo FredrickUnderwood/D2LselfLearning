{
 "cells": [
  {
   "cell_type": "markdown",
   "source": [
    "## PyTorch库的使用"
   ],
   "metadata": {
    "collapsed": false
   }
  },
  {
   "cell_type": "markdown",
   "source": [
    "### 标量对向量求导"
   ],
   "metadata": {
    "collapsed": false
   }
  },
  {
   "cell_type": "code",
   "execution_count": 1,
   "outputs": [
    {
     "data": {
      "text/plain": "tensor([0., 1., 2., 3.])"
     },
     "execution_count": 1,
     "metadata": {},
     "output_type": "execute_result"
    }
   ],
   "source": [
    "import torch\n",
    "x=torch.arange(4.0)#生成一个长度为4的张量\n",
    "x"
   ],
   "metadata": {
    "collapsed": false,
    "ExecuteTime": {
     "end_time": "2023-08-31T14:55:23.058556100Z",
     "start_time": "2023-08-31T14:55:20.704783400Z"
    }
   }
  },
  {
   "cell_type": "code",
   "execution_count": 2,
   "outputs": [],
   "source": [
    "x.requires_grad=True\n",
    "x.grad"
   ],
   "metadata": {
    "collapsed": false,
    "ExecuteTime": {
     "end_time": "2023-08-31T14:55:23.063014100Z",
     "start_time": "2023-08-31T14:55:23.061511200Z"
    }
   }
  },
  {
   "cell_type": "code",
   "execution_count": 3,
   "outputs": [
    {
     "data": {
      "text/plain": "tensor(14., grad_fn=<DotBackward0>)"
     },
     "execution_count": 3,
     "metadata": {},
     "output_type": "execute_result"
    }
   ],
   "source": [
    "y=torch.dot(x,x)\n",
    "y"
   ],
   "metadata": {
    "collapsed": false,
    "ExecuteTime": {
     "end_time": "2023-08-31T14:55:23.079683200Z",
     "start_time": "2023-08-31T14:55:23.064512100Z"
    }
   }
  },
  {
   "cell_type": "code",
   "execution_count": 4,
   "outputs": [
    {
     "data": {
      "text/plain": "tensor([0., 2., 4., 6.])"
     },
     "execution_count": 4,
     "metadata": {},
     "output_type": "execute_result"
    }
   ],
   "source": [
    "y.backward()\n",
    "x.grad"
   ],
   "metadata": {
    "collapsed": false,
    "ExecuteTime": {
     "end_time": "2023-08-31T14:55:23.128877500Z",
     "start_time": "2023-08-31T14:55:23.079683200Z"
    }
   }
  },
  {
   "cell_type": "code",
   "execution_count": 5,
   "outputs": [
    {
     "data": {
      "text/plain": "tensor([1., 1., 1., 1.])"
     },
     "execution_count": 5,
     "metadata": {},
     "output_type": "execute_result"
    }
   ],
   "source": [
    "#默认情况下torch会自动累计grad，因此要执行清空操作\n",
    "x.grad.zero_()\n",
    "y=x.sum()\n",
    "y.backward()\n",
    "x.grad"
   ],
   "metadata": {
    "collapsed": false,
    "ExecuteTime": {
     "end_time": "2023-08-31T14:55:23.135459100Z",
     "start_time": "2023-08-31T14:55:23.130945300Z"
    }
   }
  },
  {
   "cell_type": "markdown",
   "source": [
    "### 向量对向量的求导（深度学习不常用）"
   ],
   "metadata": {
    "collapsed": false
   }
  },
  {
   "cell_type": "code",
   "execution_count": 6,
   "outputs": [
    {
     "data": {
      "text/plain": "tensor([0., 2., 4., 6.])"
     },
     "execution_count": 6,
     "metadata": {},
     "output_type": "execute_result"
    }
   ],
   "source": [
    "x.grad.zero_()\n",
    "y=x*x\n",
    "y.sum().backward()\n",
    "x.grad"
   ],
   "metadata": {
    "collapsed": false,
    "ExecuteTime": {
     "end_time": "2023-08-31T14:55:23.141431400Z",
     "start_time": "2023-08-31T14:55:23.137651Z"
    }
   }
  },
  {
   "cell_type": "code",
   "execution_count": 7,
   "outputs": [
    {
     "data": {
      "text/plain": "tensor([0., 1., 4., 9.])"
     },
     "execution_count": 7,
     "metadata": {},
     "output_type": "execute_result"
    }
   ],
   "source": [
    "x.grad.zero_()\n",
    "y=x*x\n",
    "u=y.detach()#之前的y=x*x，detach()后y=x*x具体的张量，不再是一个关于x的表达式\n",
    "z=u*x\n",
    "z.sum().backward()\n",
    "x.grad"
   ],
   "metadata": {
    "collapsed": false,
    "ExecuteTime": {
     "end_time": "2023-08-31T14:55:23.145351500Z",
     "start_time": "2023-08-31T14:55:23.141431400Z"
    }
   }
  },
  {
   "cell_type": "markdown",
   "source": [
    "### PyTorch库中的一些函数的用法"
   ],
   "metadata": {
    "collapsed": false
   }
  },
  {
   "cell_type": "code",
   "execution_count": 8,
   "outputs": [
    {
     "data": {
      "text/plain": "tensor([[-0.0224, -1.2421,  0.2775,  2.3758, -1.4429],\n        [ 1.1566,  0.3883,  1.0340,  0.1291,  1.3768],\n        [ 1.5978,  1.4421,  0.5992, -0.5282, -0.6148],\n        [ 0.2097,  0.8227,  0.7085, -0.6633, -0.3204],\n        [ 0.1062,  0.7420,  0.5087,  2.1346,  0.3730]])"
     },
     "execution_count": 8,
     "metadata": {},
     "output_type": "execute_result"
    }
   ],
   "source": [
    "x=torch.normal(mean=0,std=1,size=(5,5))#生成一个五行五列的以0为均值，1为标准差的张量\n",
    "x"
   ],
   "metadata": {
    "collapsed": false,
    "ExecuteTime": {
     "end_time": "2023-08-31T14:55:23.152269400Z",
     "start_time": "2023-08-31T14:55:23.146464700Z"
    }
   }
  },
  {
   "cell_type": "code",
   "execution_count": 9,
   "outputs": [
    {
     "data": {
      "text/plain": "tensor([[ 0.7837],\n        [ 0.3705],\n        [-1.7293],\n        [-0.5088],\n        [ 1.4537]])"
     },
     "execution_count": 9,
     "metadata": {},
     "output_type": "execute_result"
    }
   ],
   "source": [
    "w=torch.normal(0,1,(5,1))\n",
    "b=1\n",
    "y=torch.matmul(x,w)+b#矩阵乘法\n",
    "y\n",
    "y=x@w\n",
    "y"
   ],
   "metadata": {
    "collapsed": false,
    "ExecuteTime": {
     "end_time": "2023-08-31T14:55:23.209706100Z",
     "start_time": "2023-08-31T14:55:23.152269400Z"
    }
   }
  },
  {
   "cell_type": "code",
   "execution_count": 10,
   "outputs": [
    {
     "name": "stdout",
     "output_type": "stream",
     "text": [
      "tensor([[ 0.7837],\n",
      "        [ 0.3705],\n",
      "        [-1.7293],\n",
      "        [-0.5088],\n",
      "        [ 1.4537]])\n",
      "tensor([[ 0.7837,  0.3705, -1.7293, -0.5088,  1.4537]])\n",
      "5\n",
      "1\n"
     ]
    }
   ],
   "source": [
    "print(y.reshape(-1,1))#重构为一列\n",
    "print(y.reshape(1,-1))#重构为一行\n",
    "print(len(y.reshape(-1,1)))\n",
    "print(len(y.reshape(1,-1)))"
   ],
   "metadata": {
    "collapsed": false,
    "ExecuteTime": {
     "end_time": "2023-08-31T14:55:23.209706100Z",
     "start_time": "2023-08-31T14:55:23.161513400Z"
    }
   }
  },
  {
   "cell_type": "code",
   "execution_count": 11,
   "outputs": [
    {
     "name": "stdout",
     "output_type": "stream",
     "text": [
      "tensor([[5, 7, 9]])\n",
      "tensor([[ 6],\n",
      "        [15]])\n"
     ]
    }
   ],
   "source": [
    "a=torch.tensor([[1,2,3],[4,5,6]])\n",
    "print(a.sum(0,keepdim=True))\n",
    "print(a.sum(1,keepdim=True))"
   ],
   "metadata": {
    "collapsed": false,
    "ExecuteTime": {
     "end_time": "2023-08-31T14:55:23.209706100Z",
     "start_time": "2023-08-31T14:55:23.165459300Z"
    }
   }
  },
  {
   "cell_type": "code",
   "execution_count": 12,
   "outputs": [
    {
     "name": "stdout",
     "output_type": "stream",
     "text": [
      "tensor([[14, 32],\n",
      "        [32, 77]])\n"
     ]
    }
   ],
   "source": [
    "a=torch.tensor([[1,2,3],[4,5,6]])\n",
    "print(torch.matmul(a,a.T))#做常规的矩阵乘法"
   ],
   "metadata": {
    "collapsed": false,
    "ExecuteTime": {
     "end_time": "2023-08-31T14:55:23.209706100Z",
     "start_time": "2023-08-31T14:55:23.169116Z"
    }
   }
  },
  {
   "cell_type": "code",
   "execution_count": 13,
   "outputs": [
    {
     "name": "stdout",
     "output_type": "stream",
     "text": [
      "torch.Size([784, 10])\n",
      "784\n"
     ]
    }
   ],
   "source": [
    "W=torch.normal(0,0.01,size=(784,10),requires_grad=True)\n",
    "print(W.shape)\n",
    "print(W.shape[0])#返回的是第0维的shape"
   ],
   "metadata": {
    "collapsed": false,
    "ExecuteTime": {
     "end_time": "2023-08-31T14:55:23.209706100Z",
     "start_time": "2023-08-31T14:55:23.174179700Z"
    }
   }
  },
  {
   "cell_type": "code",
   "execution_count": 14,
   "outputs": [
    {
     "name": "stdout",
     "output_type": "stream",
     "text": [
      "tensor([2, 1, 2])\n",
      "tensor([1, 1, 0])\n"
     ]
    }
   ],
   "source": [
    "a=torch.tensor([[1,2,3],\n",
    "                [3,7,1],\n",
    "                [2,1,3]])\n",
    "print(a.argmax(axis=1))\n",
    "print(a.argmax(axis=0))"
   ],
   "metadata": {
    "collapsed": false,
    "ExecuteTime": {
     "end_time": "2023-08-31T14:55:23.210709700Z",
     "start_time": "2023-08-31T14:55:23.177604Z"
    }
   }
  },
  {
   "cell_type": "code",
   "execution_count": 15,
   "outputs": [
    {
     "name": "stdout",
     "output_type": "stream",
     "text": [
      "tensor([[0, 0, 0],\n",
      "        [0, 0, 0]])\n",
      "tensor([[1, 0, 3],\n",
      "        [0, 5, 6]])\n"
     ]
    }
   ],
   "source": [
    "a=torch.tensor([[1,-2,3],\n",
    "                [-4,5,6]])\n",
    "print(torch.zeros_like(a))\n",
    "print(torch.max(a,torch.zeros_like(a)))"
   ],
   "metadata": {
    "collapsed": false,
    "ExecuteTime": {
     "end_time": "2023-08-31T14:55:23.210709700Z",
     "start_time": "2023-08-31T14:55:23.182404100Z"
    }
   }
  },
  {
   "cell_type": "code",
   "execution_count": 16,
   "outputs": [
    {
     "name": "stdout",
     "output_type": "stream",
     "text": [
      "(200,)\n"
     ]
    }
   ],
   "source": [
    "import numpy as np\n",
    "import torch\n",
    "true_w = np.zeros(20)  # 分配大量的空间\n",
    "true_w[0:4] = np.array([5, 1.2, -3.4, 5.6])\n",
    "features = np.random.normal(size=(100 + 100, 1))\n",
    "np.random.shuffle(features)\n",
    "poly_features = np.power(features, np.arange(20).reshape(1, -1))#扩展为features行，20列数组\n",
    "labels = np.dot(poly_features, true_w)\n",
    "print(np.dot(poly_features, true_w).shape)"
   ],
   "metadata": {
    "collapsed": false,
    "ExecuteTime": {
     "end_time": "2023-08-31T14:55:23.210709700Z",
     "start_time": "2023-08-31T14:55:23.189142900Z"
    }
   }
  },
  {
   "cell_type": "code",
   "execution_count": 17,
   "outputs": [
    {
     "name": "stdout",
     "output_type": "stream",
     "text": [
      "tensor([[1, 2, 3, 4, 5, 6],\n",
      "        [4, 5, 6, 7, 8, 9]])\n",
      "tensor([[1, 2, 3],\n",
      "        [4, 5, 6],\n",
      "        [4, 5, 6],\n",
      "        [7, 8, 9]])\n"
     ]
    }
   ],
   "source": [
    "a=torch.tensor([[1,2,3],\n",
    "                [4,5,6]])\n",
    "b=torch.tensor([[4,5,6],\n",
    "               [7,8,9]])\n",
    "print(torch.cat((a,b),1))\n",
    "print(torch.cat((a,b),0))"
   ],
   "metadata": {
    "collapsed": false,
    "ExecuteTime": {
     "end_time": "2023-08-31T14:55:23.210709700Z",
     "start_time": "2023-08-31T14:55:23.201227600Z"
    }
   }
  },
  {
   "cell_type": "code",
   "execution_count": 18,
   "outputs": [
    {
     "name": "stdout",
     "output_type": "stream",
     "text": [
      "tensor([1.5000, 3.0000, 4.1000])\n",
      "tensor([2.0667, 3.6667])\n",
      "tensor([[1.5000, 3.0000, 4.1000]])\n",
      "tensor([[2.0667],\n",
      "        [3.6667]])\n"
     ]
    }
   ],
   "source": [
    "import torch\n",
    "x = torch.tensor([[1,2,3.2],\n",
    "                  [2,4,5]])\n",
    "print(x.mean(dim=0))\n",
    "print(x.mean(dim=1))\n",
    "print(x.mean(dim=0, keepdim=True))\n",
    "print(x.mean(dim=1, keepdim=True))"
   ],
   "metadata": {
    "collapsed": false,
    "ExecuteTime": {
     "end_time": "2023-08-31T14:55:23.210709700Z",
     "start_time": "2023-08-31T14:55:23.201227600Z"
    }
   }
  },
  {
   "cell_type": "code",
   "execution_count": 19,
   "outputs": [
    {
     "name": "stdout",
     "output_type": "stream",
     "text": [
      "tensor([[[-1.5591,  1.1058, -0.4530, -0.4392],\n",
      "         [-1.9068, -0.8681, -0.9296, -0.5778],\n",
      "         [-0.6808,  0.7834,  1.6292,  0.0697]],\n",
      "\n",
      "        [[-0.9673,  1.6781, -0.5529,  0.7928],\n",
      "         [ 0.1953,  1.6640,  0.4000,  0.2589],\n",
      "         [ 1.3246, -0.5630, -0.0369,  0.6385]]])\n",
      "tensor([[[-0.0494],\n",
      "         [-0.2205],\n",
      "         [ 0.3956]]])\n"
     ]
    }
   ],
   "source": [
    "x = torch.randn(size=(2,3,4))\n",
    "print(x)\n",
    "print(x.mean(dim=(0,2), keepdim=True)) # 那个维度不在求均值的dim中，就保留那个维度的特征"
   ],
   "metadata": {
    "collapsed": false,
    "ExecuteTime": {
     "end_time": "2023-08-31T14:55:23.210709700Z",
     "start_time": "2023-08-31T14:55:23.204239Z"
    }
   }
  }
 ],
 "metadata": {
  "kernelspec": {
   "display_name": "Python 3",
   "language": "python",
   "name": "python3"
  },
  "language_info": {
   "codemirror_mode": {
    "name": "ipython",
    "version": 2
   },
   "file_extension": ".py",
   "mimetype": "text/x-python",
   "name": "python",
   "nbconvert_exporter": "python",
   "pygments_lexer": "ipython2",
   "version": "2.7.6"
  }
 },
 "nbformat": 4,
 "nbformat_minor": 0
}
