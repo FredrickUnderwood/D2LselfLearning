{
 "cells": [
  {
   "cell_type": "markdown",
   "source": [
    "## PyTorch库的使用"
   ],
   "metadata": {
    "collapsed": false
   }
  },
  {
   "cell_type": "markdown",
   "source": [
    "### 标量对向量求导"
   ],
   "metadata": {
    "collapsed": false
   }
  },
  {
   "cell_type": "code",
   "execution_count": 1,
   "outputs": [
    {
     "data": {
      "text/plain": "tensor([0., 1., 2., 3.])"
     },
     "execution_count": 1,
     "metadata": {},
     "output_type": "execute_result"
    }
   ],
   "source": [
    "import torch\n",
    "x=torch.arange(4.0)#生成一个长度为4的张量\n",
    "x"
   ],
   "metadata": {
    "collapsed": false
   }
  },
  {
   "cell_type": "code",
   "execution_count": 2,
   "outputs": [],
   "source": [
    "x.requires_grad=True\n",
    "x.grad"
   ],
   "metadata": {
    "collapsed": false
   }
  },
  {
   "cell_type": "code",
   "execution_count": 3,
   "outputs": [
    {
     "data": {
      "text/plain": "tensor(14., grad_fn=<DotBackward0>)"
     },
     "execution_count": 3,
     "metadata": {},
     "output_type": "execute_result"
    }
   ],
   "source": [
    "y=torch.dot(x,x)\n",
    "y"
   ],
   "metadata": {
    "collapsed": false
   }
  },
  {
   "cell_type": "code",
   "execution_count": 4,
   "outputs": [
    {
     "data": {
      "text/plain": "tensor([0., 2., 4., 6.])"
     },
     "execution_count": 4,
     "metadata": {},
     "output_type": "execute_result"
    }
   ],
   "source": [
    "y.backward()\n",
    "x.grad"
   ],
   "metadata": {
    "collapsed": false
   }
  },
  {
   "cell_type": "code",
   "execution_count": 5,
   "outputs": [
    {
     "data": {
      "text/plain": "tensor([1., 1., 1., 1.])"
     },
     "execution_count": 5,
     "metadata": {},
     "output_type": "execute_result"
    }
   ],
   "source": [
    "#默认情况下torch会自动累计grad，因此要执行清空操作\n",
    "x.grad.zero_()\n",
    "y=x.sum()\n",
    "y.backward()\n",
    "x.grad"
   ],
   "metadata": {
    "collapsed": false
   }
  },
  {
   "cell_type": "markdown",
   "source": [
    "### 向量对向量的求导（深度学习不常用）"
   ],
   "metadata": {
    "collapsed": false
   }
  },
  {
   "cell_type": "code",
   "execution_count": 6,
   "outputs": [
    {
     "data": {
      "text/plain": "tensor([0., 2., 4., 6.])"
     },
     "execution_count": 6,
     "metadata": {},
     "output_type": "execute_result"
    }
   ],
   "source": [
    "x.grad.zero_()\n",
    "y=x*x\n",
    "y.sum().backward()\n",
    "x.grad"
   ],
   "metadata": {
    "collapsed": false
   }
  },
  {
   "cell_type": "code",
   "execution_count": 7,
   "outputs": [
    {
     "data": {
      "text/plain": "tensor([0., 1., 4., 9.])"
     },
     "execution_count": 7,
     "metadata": {},
     "output_type": "execute_result"
    }
   ],
   "source": [
    "x.grad.zero_()\n",
    "y=x*x\n",
    "u=y.detach()#之前的y=x*x，detach()后y=x*x具体的张量，不再是一个关于x的表达式\n",
    "z=u*x\n",
    "z.sum().backward()\n",
    "x.grad"
   ],
   "metadata": {
    "collapsed": false
   }
  },
  {
   "cell_type": "markdown",
   "source": [
    "### PyTorch库中的一些函数的用法"
   ],
   "metadata": {
    "collapsed": false
   }
  },
  {
   "cell_type": "code",
   "execution_count": 8,
   "outputs": [
    {
     "data": {
      "text/plain": "tensor([[-0.2689, -1.8256,  1.0693, -0.4972,  1.6370],\n        [ 1.0294, -1.0751, -0.4302, -1.0435, -1.5749],\n        [ 1.0391,  0.4227, -0.8637, -0.4223,  0.4614],\n        [ 0.0410, -3.2144,  0.5378, -0.4582,  0.5829],\n        [-0.7846,  0.0610,  0.4181, -1.0344, -1.5630]])"
     },
     "execution_count": 8,
     "metadata": {},
     "output_type": "execute_result"
    }
   ],
   "source": [
    "x=torch.normal(mean=0,std=1,size=(5,5))#生成一个五行五列的以0为均值，1为标准差的张量\n",
    "x"
   ],
   "metadata": {
    "collapsed": false
   }
  },
  {
   "cell_type": "code",
   "execution_count": 9,
   "outputs": [
    {
     "data": {
      "text/plain": "tensor([[4.5912],\n        [4.3138],\n        [0.9298],\n        [6.6013],\n        [2.2554]])"
     },
     "execution_count": 9,
     "metadata": {},
     "output_type": "execute_result"
    }
   ],
   "source": [
    "w=torch.normal(0,1,(5,1))\n",
    "b=1\n",
    "y=torch.matmul(x,w)+b#矩阵乘法\n",
    "y"
   ],
   "metadata": {
    "collapsed": false
   }
  },
  {
   "cell_type": "code",
   "execution_count": 10,
   "outputs": [
    {
     "name": "stdout",
     "output_type": "stream",
     "text": [
      "tensor([[4.5912],\n",
      "        [4.3138],\n",
      "        [0.9298],\n",
      "        [6.6013],\n",
      "        [2.2554]])\n",
      "tensor([[4.5912, 4.3138, 0.9298, 6.6013, 2.2554]])\n",
      "5\n",
      "1\n"
     ]
    }
   ],
   "source": [
    "print(y.reshape(-1,1))#重构为一列\n",
    "print(y.reshape(1,-1))#重构为一行\n",
    "print(len(y.reshape(-1,1)))\n",
    "print(len(y.reshape(1,-1)))"
   ],
   "metadata": {
    "collapsed": false
   }
  },
  {
   "cell_type": "code",
   "execution_count": 12,
   "outputs": [
    {
     "name": "stdout",
     "output_type": "stream",
     "text": [
      "tensor([[5, 7, 9]])\n",
      "tensor([[ 6],\n",
      "        [15]])\n"
     ]
    }
   ],
   "source": [
    "a=torch.tensor([[1,2,3],[4,5,6]])\n",
    "print(a.sum(0,keepdim=True))\n",
    "print(a.sum(1,keepdim=True))"
   ],
   "metadata": {
    "collapsed": false,
    "ExecuteTime": {
     "end_time": "2023-07-23T07:41:26.227176Z",
     "start_time": "2023-07-23T07:41:26.222691500Z"
    }
   }
  },
  {
   "cell_type": "code",
   "execution_count": 15,
   "outputs": [
    {
     "name": "stdout",
     "output_type": "stream",
     "text": [
      "tensor([[14, 32],\n",
      "        [32, 77]])\n"
     ]
    }
   ],
   "source": [
    "a=torch.tensor([[1,2,3],[4,5,6]])\n",
    "print(torch.matmul(a,a.T))#做常规的矩阵乘法"
   ],
   "metadata": {
    "collapsed": false,
    "ExecuteTime": {
     "end_time": "2023-07-23T07:51:30.687273700Z",
     "start_time": "2023-07-23T07:51:30.669014800Z"
    }
   }
  },
  {
   "cell_type": "code",
   "execution_count": 16,
   "outputs": [
    {
     "name": "stdout",
     "output_type": "stream",
     "text": [
      "torch.Size([784, 10])\n",
      "784\n"
     ]
    }
   ],
   "source": [
    "W=torch.normal(0,0.01,size=(784,10),requires_grad=True)\n",
    "print(W.shape)\n",
    "print(W.shape[0])#返回的是第0维的shape"
   ],
   "metadata": {
    "collapsed": false,
    "ExecuteTime": {
     "end_time": "2023-07-23T07:52:45.793245300Z",
     "start_time": "2023-07-23T07:52:45.787951500Z"
    }
   }
  },
  {
   "cell_type": "code",
   "execution_count": 18,
   "outputs": [
    {
     "name": "stdout",
     "output_type": "stream",
     "text": [
      "tensor([2, 1, 2])\n",
      "tensor([1, 1, 0])\n"
     ]
    }
   ],
   "source": [
    "a=torch.tensor([[1,2,3],\n",
    "                [3,7,1],\n",
    "                [2,1,3]])\n",
    "print(a.argmax(axis=1))\n",
    "print(a.argmax(axis=0))"
   ],
   "metadata": {
    "collapsed": false,
    "ExecuteTime": {
     "end_time": "2023-07-23T09:17:04.565762200Z",
     "start_time": "2023-07-23T09:17:04.559954800Z"
    }
   }
  }
 ],
 "metadata": {
  "kernelspec": {
   "display_name": "Python 3",
   "language": "python",
   "name": "python3"
  },
  "language_info": {
   "codemirror_mode": {
    "name": "ipython",
    "version": 2
   },
   "file_extension": ".py",
   "mimetype": "text/x-python",
   "name": "python",
   "nbconvert_exporter": "python",
   "pygments_lexer": "ipython2",
   "version": "2.7.6"
  }
 },
 "nbformat": 4,
 "nbformat_minor": 0
}
