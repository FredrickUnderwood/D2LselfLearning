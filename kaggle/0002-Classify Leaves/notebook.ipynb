{
 "cells": [
  {
   "cell_type": "markdown",
   "source": [
    "# Classify Leaves\n",
    "https://www.kaggle.com/competitions/classify-leaves/overview"
   ],
   "metadata": {
    "collapsed": false
   }
  },
  {
   "cell_type": "markdown",
   "source": [
    "## 引用相应的库文件"
   ],
   "metadata": {
    "collapsed": false
   }
  },
  {
   "cell_type": "code",
   "execution_count": 4,
   "outputs": [],
   "source": [
    "import torch\n",
    "import My_utils\n",
    "import torchvision\n",
    "from torch import nn\n",
    "import pandas as pd\n",
    "import os"
   ],
   "metadata": {
    "collapsed": false,
    "ExecuteTime": {
     "end_time": "2023-09-03T15:48:32.291022600Z",
     "start_time": "2023-09-03T15:48:27.014867900Z"
    }
   }
  },
  {
   "cell_type": "markdown",
   "source": [
    "## 查询树叶类型的总数，并将类型名转为数字"
   ],
   "metadata": {
    "collapsed": false
   }
  },
  {
   "cell_type": "code",
   "execution_count": 5,
   "outputs": [
    {
     "name": "stdout",
     "output_type": "stream",
     "text": [
      "176\n",
      "{'maclura_pomifera': 0, 'ulmus_rubra': 1, 'broussonettia_papyrifera': 2, 'prunus_virginiana': 3, 'acer_rubrum': 4, 'cryptomeria_japonica': 5, 'staphylea_trifolia': 6, 'asimina_triloba': 7, 'diospyros_virginiana': 8, 'tilia_cordata': 9, 'ulmus_pumila': 10, 'quercus_muehlenbergii': 11, 'juglans_cinerea': 12, 'cercis_canadensis': 13, 'ptelea_trifoliata': 14, 'acer_palmatum': 15, 'catalpa_speciosa': 16, 'abies_concolor': 17, 'eucommia_ulmoides': 18, 'quercus_montana': 19, 'koelreuteria_paniculata': 20, 'liriodendron_tulipifera': 21, 'styrax_japonica': 22, 'malus_pumila': 23, 'prunus_sargentii': 24, 'cornus_mas': 25, 'magnolia_virginiana': 26, 'ostrya_virginiana': 27, 'magnolia_acuminata': 28, 'ilex_opaca': 29, 'acer_negundo': 30, 'fraxinus_nigra': 31, 'pyrus_calleryana': 32, 'picea_abies': 33, 'chionanthus_virginicus': 34, 'carpinus_caroliniana': 35, 'zelkova_serrata': 36, 'aesculus_pavi': 37, 'taxodium_distichum': 38, 'carya_tomentosa': 39, 'picea_pungens': 40, 'carya_glabra': 41, 'quercus_macrocarpa': 42, 'carya_cordiformis': 43, 'catalpa_bignonioides': 44, 'tsuga_canadensis': 45, 'populus_tremuloides': 46, 'magnolia_denudata': 47, 'crataegus_viridis': 48, 'populus_deltoides': 49, 'ulmus_americana': 50, 'pinus_bungeana': 51, 'cornus_florida': 52, 'pinus_densiflora': 53, 'morus_alba': 54, 'quercus_velutina': 55, 'pinus_parviflora': 56, 'salix_caroliniana': 57, 'platanus_occidentalis': 58, 'acer_saccharum': 59, 'pinus_flexilis': 60, 'gleditsia_triacanthos': 61, 'quercus_alba': 62, 'prunus_subhirtella': 63, 'pseudolarix_amabilis': 64, 'stewartia_pseudocamellia': 65, 'quercus_stellata': 66, 'pinus_rigida': 67, 'salix_nigra': 68, 'quercus_acutissima': 69, 'pinus_virginiana': 70, 'chamaecyparis_pisifera': 71, 'quercus_michauxii': 72, 'prunus_pensylvanica': 73, 'amelanchier_canadensis': 74, 'liquidambar_styraciflua': 75, 'pinus_cembra': 76, 'malus_hupehensis': 77, 'castanea_dentata': 78, 'magnolia_stellata': 79, 'chionanthus_retusus': 80, 'carya_ovata': 81, 'quercus_marilandica': 82, 'tilia_americana': 83, 'cedrus_atlantica': 84, 'ulmus_parvifolia': 85, 'nyssa_sylvatica': 86, 'quercus_virginiana': 87, 'acer_saccharinum': 88, 'magnolia_macrophylla': 89, 'crataegus_pruinosa': 90, 'pinus_nigra': 91, 'abies_nordmanniana': 92, 'pinus_taeda': 93, 'ficus_carica': 94, 'pinus_peucea': 95, 'populus_grandidentata': 96, 'acer_platanoides': 97, 'pinus_resinosa': 98, 'salix_matsudana': 99, 'pinus_sylvestris': 100, 'albizia_julibrissin': 101, 'salix_babylonica': 102, 'pinus_echinata': 103, 'magnolia_tripetala': 104, 'larix_decidua': 105, 'pinus_strobus': 106, 'aesculus_glabra': 107, 'ginkgo_biloba': 108, 'quercus_cerris': 109, 'metasequoia_glyptostroboides': 110, 'fagus_grandifolia': 111, 'quercus_nigra': 112, 'juglans_nigra': 113, 'pinus_koraiensis': 114, 'oxydendrum_arboreum': 115, 'morus_rubra': 116, 'crataegus_phaenopyrum': 117, 'pinus_wallichiana': 118, 'tilia_europaea': 119, 'betula_jacqemontii': 120, 'chamaecyparis_thyoides': 121, 'acer_ginnala': 122, 'acer_campestre': 123, 'pinus_pungens': 124, 'malus_floribunda': 125, 'picea_orientalis': 126, 'amelanchier_laevis': 127, 'celtis_tenuifolia': 128, 'gymnocladus_dioicus': 129, 'quercus_bicolor': 130, 'malus_coronaria': 131, 'cercidiphyllum_japonicum': 132, 'cedrus_libani': 133, 'betula_nigra': 134, 'acer_pensylvanicum': 135, 'platanus_acerifolia': 136, 'robinia_pseudo-acacia': 137, 'ulmus_glabra': 138, 'crataegus_laevigata': 139, 'quercus_coccinea': 140, 'prunus_serotina': 141, 'tilia_tomentosa': 142, 'quercus_imbricaria': 143, 'cladrastis_lutea': 144, 'fraxinus_pennsylvanica': 145, 'phellodendron_amurense': 146, 'betula_lenta': 147, 'quercus_robur': 148, 'aesculus_flava': 149, 'paulownia_tomentosa': 150, 'amelanchier_arborea': 151, 'quercus_shumardii': 152, 'magnolia_grandiflora': 153, 'cornus_kousa': 154, 'betula_alleghaniensis': 155, 'carpinus_betulus': 156, 'aesculus_hippocastamon': 157, 'malus_baccata': 158, 'acer_pseudoplatanus': 159, 'betula_populifolia': 160, 'prunus_yedoensis': 161, 'halesia_tetraptera': 162, 'quercus_palustris': 163, 'evodia_daniellii': 164, 'ulmus_procera': 165, 'prunus_serrulata': 166, 'quercus_phellos': 167, 'cedrus_deodara': 168, 'celtis_occidentalis': 169, 'sassafras_albidum': 170, 'acer_griseum': 171, 'ailanthus_altissima': 172, 'pinus_thunbergii': 173, 'crataegus_crus-galli': 174, 'juniperus_virginiana': 175}\n",
      "{0: 'maclura_pomifera', 1: 'ulmus_rubra', 2: 'broussonettia_papyrifera', 3: 'prunus_virginiana', 4: 'acer_rubrum', 5: 'cryptomeria_japonica', 6: 'staphylea_trifolia', 7: 'asimina_triloba', 8: 'diospyros_virginiana', 9: 'tilia_cordata', 10: 'ulmus_pumila', 11: 'quercus_muehlenbergii', 12: 'juglans_cinerea', 13: 'cercis_canadensis', 14: 'ptelea_trifoliata', 15: 'acer_palmatum', 16: 'catalpa_speciosa', 17: 'abies_concolor', 18: 'eucommia_ulmoides', 19: 'quercus_montana', 20: 'koelreuteria_paniculata', 21: 'liriodendron_tulipifera', 22: 'styrax_japonica', 23: 'malus_pumila', 24: 'prunus_sargentii', 25: 'cornus_mas', 26: 'magnolia_virginiana', 27: 'ostrya_virginiana', 28: 'magnolia_acuminata', 29: 'ilex_opaca', 30: 'acer_negundo', 31: 'fraxinus_nigra', 32: 'pyrus_calleryana', 33: 'picea_abies', 34: 'chionanthus_virginicus', 35: 'carpinus_caroliniana', 36: 'zelkova_serrata', 37: 'aesculus_pavi', 38: 'taxodium_distichum', 39: 'carya_tomentosa', 40: 'picea_pungens', 41: 'carya_glabra', 42: 'quercus_macrocarpa', 43: 'carya_cordiformis', 44: 'catalpa_bignonioides', 45: 'tsuga_canadensis', 46: 'populus_tremuloides', 47: 'magnolia_denudata', 48: 'crataegus_viridis', 49: 'populus_deltoides', 50: 'ulmus_americana', 51: 'pinus_bungeana', 52: 'cornus_florida', 53: 'pinus_densiflora', 54: 'morus_alba', 55: 'quercus_velutina', 56: 'pinus_parviflora', 57: 'salix_caroliniana', 58: 'platanus_occidentalis', 59: 'acer_saccharum', 60: 'pinus_flexilis', 61: 'gleditsia_triacanthos', 62: 'quercus_alba', 63: 'prunus_subhirtella', 64: 'pseudolarix_amabilis', 65: 'stewartia_pseudocamellia', 66: 'quercus_stellata', 67: 'pinus_rigida', 68: 'salix_nigra', 69: 'quercus_acutissima', 70: 'pinus_virginiana', 71: 'chamaecyparis_pisifera', 72: 'quercus_michauxii', 73: 'prunus_pensylvanica', 74: 'amelanchier_canadensis', 75: 'liquidambar_styraciflua', 76: 'pinus_cembra', 77: 'malus_hupehensis', 78: 'castanea_dentata', 79: 'magnolia_stellata', 80: 'chionanthus_retusus', 81: 'carya_ovata', 82: 'quercus_marilandica', 83: 'tilia_americana', 84: 'cedrus_atlantica', 85: 'ulmus_parvifolia', 86: 'nyssa_sylvatica', 87: 'quercus_virginiana', 88: 'acer_saccharinum', 89: 'magnolia_macrophylla', 90: 'crataegus_pruinosa', 91: 'pinus_nigra', 92: 'abies_nordmanniana', 93: 'pinus_taeda', 94: 'ficus_carica', 95: 'pinus_peucea', 96: 'populus_grandidentata', 97: 'acer_platanoides', 98: 'pinus_resinosa', 99: 'salix_matsudana', 100: 'pinus_sylvestris', 101: 'albizia_julibrissin', 102: 'salix_babylonica', 103: 'pinus_echinata', 104: 'magnolia_tripetala', 105: 'larix_decidua', 106: 'pinus_strobus', 107: 'aesculus_glabra', 108: 'ginkgo_biloba', 109: 'quercus_cerris', 110: 'metasequoia_glyptostroboides', 111: 'fagus_grandifolia', 112: 'quercus_nigra', 113: 'juglans_nigra', 114: 'pinus_koraiensis', 115: 'oxydendrum_arboreum', 116: 'morus_rubra', 117: 'crataegus_phaenopyrum', 118: 'pinus_wallichiana', 119: 'tilia_europaea', 120: 'betula_jacqemontii', 121: 'chamaecyparis_thyoides', 122: 'acer_ginnala', 123: 'acer_campestre', 124: 'pinus_pungens', 125: 'malus_floribunda', 126: 'picea_orientalis', 127: 'amelanchier_laevis', 128: 'celtis_tenuifolia', 129: 'gymnocladus_dioicus', 130: 'quercus_bicolor', 131: 'malus_coronaria', 132: 'cercidiphyllum_japonicum', 133: 'cedrus_libani', 134: 'betula_nigra', 135: 'acer_pensylvanicum', 136: 'platanus_acerifolia', 137: 'robinia_pseudo-acacia', 138: 'ulmus_glabra', 139: 'crataegus_laevigata', 140: 'quercus_coccinea', 141: 'prunus_serotina', 142: 'tilia_tomentosa', 143: 'quercus_imbricaria', 144: 'cladrastis_lutea', 145: 'fraxinus_pennsylvanica', 146: 'phellodendron_amurense', 147: 'betula_lenta', 148: 'quercus_robur', 149: 'aesculus_flava', 150: 'paulownia_tomentosa', 151: 'amelanchier_arborea', 152: 'quercus_shumardii', 153: 'magnolia_grandiflora', 154: 'cornus_kousa', 155: 'betula_alleghaniensis', 156: 'carpinus_betulus', 157: 'aesculus_hippocastamon', 158: 'malus_baccata', 159: 'acer_pseudoplatanus', 160: 'betula_populifolia', 161: 'prunus_yedoensis', 162: 'halesia_tetraptera', 163: 'quercus_palustris', 164: 'evodia_daniellii', 165: 'ulmus_procera', 166: 'prunus_serrulata', 167: 'quercus_phellos', 168: 'cedrus_deodara', 169: 'celtis_occidentalis', 170: 'sassafras_albidum', 171: 'acer_griseum', 172: 'ailanthus_altissima', 173: 'pinus_thunbergii', 174: 'crataegus_crus-galli', 175: 'juniperus_virginiana'}\n"
     ]
    }
   ],
   "source": [
    "df = pd.read_csv('train.csv')\n",
    "leaves_types = df['label'].unique()\n",
    "print(len(leaves_types))\n",
    "index_list = [i for i in range(len(leaves_types))]\n",
    "classes_to_num = dict(zip(leaves_types, index_list))\n",
    "num_to_classes = dict(zip(index_list , leaves_types))\n",
    "print(classes_to_num)\n",
    "print(num_to_classes)"
   ],
   "metadata": {
    "collapsed": false,
    "ExecuteTime": {
     "end_time": "2023-09-03T15:48:34.290686600Z",
     "start_time": "2023-09-03T15:48:34.268575500Z"
    }
   }
  },
  {
   "cell_type": "markdown",
   "source": [
    "## 构建迭代器"
   ],
   "metadata": {
    "collapsed": false
   }
  },
  {
   "cell_type": "code",
   "execution_count": null,
   "outputs": [],
   "source": [],
   "metadata": {
    "collapsed": false
   }
  }
 ],
 "metadata": {
  "kernelspec": {
   "display_name": "Python 3",
   "language": "python",
   "name": "python3"
  },
  "language_info": {
   "codemirror_mode": {
    "name": "ipython",
    "version": 2
   },
   "file_extension": ".py",
   "mimetype": "text/x-python",
   "name": "python",
   "nbconvert_exporter": "python",
   "pygments_lexer": "ipython2",
   "version": "2.7.6"
  }
 },
 "nbformat": 4,
 "nbformat_minor": 0
}
