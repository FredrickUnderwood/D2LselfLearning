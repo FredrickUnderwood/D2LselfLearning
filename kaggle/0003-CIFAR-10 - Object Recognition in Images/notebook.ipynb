{
 "cells": [
  {
   "cell_type": "markdown",
   "metadata": {},
   "source": [
    "# CIFAR-10 - Object Recognition in Images\n",
    "https://www.kaggle.com/competitions/cifar-10/overview"
   ]
  },
  {
   "cell_type": "markdown",
   "metadata": {},
   "source": [
    "## 引用相关的库"
   ]
  },
  {
   "cell_type": "code",
   "execution_count": null,
   "metadata": {},
   "outputs": [],
   "source": [
    "import torch\n",
    "import tarfile\n",
    "from torch import nn\n",
    "from torch.utils.data import Dataset\n",
    "import matplotlib.pyplot as plt\n",
    "import numpy as np\n",
    "import pandas as pd\n",
    "import py7zr\n",
    "import os\n",
    "from PIL import Image"
   ]
  },
  {
   "cell_type": "markdown",
   "metadata": {},
   "source": [
    "## 数据预处理，将图片类型转为数字"
   ]
  },
  {
   "cell_type": "code",
   "execution_count": null,
   "metadata": {},
   "outputs": [],
   "source": [
    "archive = py7zr.SevenZipFile(r'../input/cifar-10/train.7z', mode='r')\n",
    "archive.extractall(path='./input')\n",
    "archive.close()\n",
    "df = pd.read_csv('../input/cifar-10/trainLabels.csv')\n",
    "pic_types = df['label'].unique()\n",
    "print(len(pic_types))\n",
    "index_list = [i for i in range(len(pic_types))]\n",
    "class_to_num = dict(zip(pic_types, index_list))\n",
    "num_to_class = dict(zip(index_list, pic_types))"
   ]
  },
  {
   "cell_type": "markdown",
   "metadata": {},
   "source": [
    "## 构建数据迭代器"
   ]
  },
  {
   "cell_type": "code",
   "execution_count": null,
   "metadata": {},
   "outputs": [],
   "source": [
    "class CIFAR10Dataset(Dataset):\n",
    "    def __init__(self, csv_path, image_path, transform=None, mode='train', train_ratio=0.8):\n",
    "        super().__init__()\n",
    "        self.csv_path = csv_path\n",
    "        self.image_path = image_path\n",
    "        self.mode = mode\n",
    "        self.transform = transform\n",
    "        self.data_info = pd.read_csv(csv_path, header=None)\n",
    "        self.data_len = len(self.data_info.index) - 1\n",
    "        self.train_len = int(self.data_len * train_ratio)\n",
    "        if self.mode == 'train':\n",
    "            self.id_arr = np.asarray(self.data_info.iloc[1:self.train_len, 0])\n",
    "            self.label_arr = np.asarray(self.data_info.iloc[1:self.train_len, 1])\n",
    "        elif self.mode == 'valid':\n",
    "            self.id_arr = np.asarray(self.data_info.iloc[self.train_len:, 0])\n",
    "            self.label_arr = np.asarray(self.data_info.iloc[self.data_len:, 1])\n",
    "        elif self.mode =='test':\n",
    "            self.id_arr = np.asarray(self.data_info.iloc[1:, 0])\n",
    "        self.real_len = len(self.id_arr)\n",
    "    def __getitem__(self, index):\n",
    "        if self.mode != 'test':\n",
    "            single_image_id = self.id_arr[index]\n",
    "            single_image_path = os.path.join('./input/train', single_image_id, '.png')\n",
    "            image = Image.open(single_image_path)\n",
    "            label = self.label_arr[index]\n",
    "            num_label = class_to_num[label]\n",
    "            return self.transform(image), num_label\n",
    "        else:\n",
    "            single_image_id = self.id_arr[index]\n",
    "            single_image_path = os.path.join('./input/train', single_image_id, '.png')\n",
    "            image = Image.open(single_image_path)\n",
    "            return self.transform(image)\n",
    "    def __len__(self):\n",
    "        return self.real_len"
   ]
  }
 ],
 "metadata": {
  "kernelspec": {
   "display_name": "Python 3.9.6 64-bit",
   "language": "python",
   "name": "python3"
  },
  "language_info": {
   "name": "python",
   "version": "3.9.6"
  },
  "orig_nbformat": 4,
  "vscode": {
   "interpreter": {
    "hash": "31f2aee4e71d21fbe5cf8b01ff0e069b9275f58929596ceb00d14d90e3e16cd6"
   }
  }
 },
 "nbformat": 4,
 "nbformat_minor": 2
}
