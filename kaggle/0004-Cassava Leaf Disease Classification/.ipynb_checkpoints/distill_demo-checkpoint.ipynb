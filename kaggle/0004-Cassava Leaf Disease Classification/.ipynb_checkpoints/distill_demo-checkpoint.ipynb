{
 "cells": [
  {
   "cell_type": "code",
   "execution_count": null,
   "outputs": [],
   "source": [
    "import torch\n",
    "from torch import nn\n",
    "import torchvision\n",
    "from torchvision import datasets, transforms\n",
    "from torch.utils import data\n",
    "from torch.nn import functional as F"
   ],
   "metadata": {
    "collapsed": false,
    "is_executing": true,
    "ExecuteTime": {
     "start_time": "2023-11-14T04:38:55.589405700Z"
    }
   },
   "id": "a116e377d4b00c83"
  },
  {
   "cell_type": "code",
   "execution_count": null,
   "outputs": [],
   "source": [
    "def load_data_from_FashionMNIST(batch_size, resize=None):\n",
    "    trans = [transforms.ToTensor()]\n",
    "    if resize:\n",
    "        trans.insert(0, transforms.Resize(resize))  # 用于调整图片大小\n",
    "    trans = transforms.Compose(trans)  # compose用于将多个transform组合操作\n",
    "    train_set = torchvision.datasets.FashionMNIST(root='./data', train=True, transform=trans, download=True)\n",
    "    test_set = torchvision.datasets.FashionMNIST(root='./data', train=False, transform=trans, download=True)\n",
    "    workers_num = 4\n",
    "    return data.DataLoader(train_set, batch_size, shuffle=True, num_workers=workers_num), \\\n",
    "        data.DataLoader(test_set, batch_size, shuffle=False, num_workers=workers_num)"
   ],
   "metadata": {
    "collapsed": false,
    "is_executing": true
   },
   "id": "initial_id"
  },
  {
   "cell_type": "code",
   "execution_count": null,
   "outputs": [],
   "source": [
    "train_loader, test_loader = load_data_from_FashionMNIST(256)"
   ],
   "metadata": {
    "collapsed": false,
    "is_executing": true
   },
   "id": "6ac0c496f8a3e9ca"
  },
  {
   "cell_type": "code",
   "execution_count": null,
   "outputs": [],
   "source": [
    "def to_one_hot(test_batch):\n",
    "    batch_size = test_batch.shape[0]\n",
    "    one_hot = torch.zeros(size=(batch_size, 10))\n",
    "    for i in range(batch_size):\n",
    "        label = int(test_batch[i])\n",
    "        one_hot[i][label] = 1\n",
    "    return one_hot"
   ],
   "metadata": {
    "collapsed": false,
    "is_executing": true
   },
   "id": "ab92e0b1e6a4cbe"
  },
  {
   "cell_type": "code",
   "execution_count": null,
   "outputs": [],
   "source": [
    "class MLP(nn.Module):\n",
    "    def __init__(self):\n",
    "        super(MLP, self).__init__()\n",
    "        self.flatten = nn.Flatten()\n",
    "        self.fc1 = nn.Linear(784, 256)\n",
    "        self.relu = nn.ReLU()\n",
    "        self.fc2 = nn.Linear(256, 10)\n",
    "    def forward(self, x):\n",
    "        x = self.flatten(x)\n",
    "        x = self.fc1(x)\n",
    "        x = self.relu(x)\n",
    "        x = self.fc2(x)\n",
    "        return x\n",
    "import torch.nn as nn\n",
    "\n",
    "class LeNet(nn.Module):\n",
    "    def __init__(self):\n",
    "        super(LeNet, self).__init__()\n",
    "        self.conv1 = nn.Conv2d(1, 6, kernel_size=5, padding=2)\n",
    "        self.pool = nn.MaxPool2d(kernel_size=2, stride=2)\n",
    "        self.conv2 = nn.Conv2d(6, 16, kernel_size=5)\n",
    "        self.flatten = nn.Flatten()\n",
    "        # Adjust the following line if input dimensions change\n",
    "        self.fc1 = nn.Linear(16 * 5 * 5, 120)  \n",
    "        self.fc2 = nn.Linear(120, 84)\n",
    "        self.fc3 = nn.Linear(84, 10)\n",
    "        self.relu = nn.ReLU()\n",
    "\n",
    "    def forward(self, x):\n",
    "        x = self.relu(self.conv1(x))\n",
    "        x = self.pool(x)\n",
    "        x = self.relu(self.conv2(x))\n",
    "        x = self.pool(x)\n",
    "        x = self.flatten(x)\n",
    "        x = self.relu(self.fc1(x))\n",
    "        x = self.relu(self.fc2(x))\n",
    "        x = self.fc3(x)  # No activation here if using nn.CrossEntropyLoss\n",
    "        return x\n"
   ],
   "metadata": {
    "collapsed": false,
    "is_executing": true
   },
   "id": "4ced0b1564dd3524"
  },
  {
   "cell_type": "code",
   "execution_count": null,
   "outputs": [],
   "source": [
    "class Accumulator:\n",
    "    def __init__(self, n):\n",
    "        self.data = [0.0] * n\n",
    "\n",
    "    def add(self, *args):\n",
    "        self.data = [a + float(b) for a, b in zip(self.data, args)]\n",
    "\n",
    "    def reset(self):\n",
    "        self.data = [0.0] * len(self.data)\n",
    "\n",
    "    def __getitem__(self, item):\n",
    "        return self.data[item]\n",
    "def count_accurate(y_hat, y):\n",
    "    if len(y_hat.shape) > 1 and y_hat.shape[1] > 1:\n",
    "        y_hat = y_hat.argmax(axis=1)\n",
    "    correct_count = 0\n",
    "    for i in range(len(y_hat)):\n",
    "        if y_hat[i].type(y.dtype) == y[i]:\n",
    "            correct_count += 1\n",
    "    return float(correct_count)\n",
    "def calc_accuracy(net, data_iter):\n",
    "    if isinstance(net, torch.nn.Module):\n",
    "        net.eval()  # 进入评估模式\n",
    "    metric = Accumulator(2)\n",
    "    with torch.no_grad():\n",
    "        for X, y in data_iter:\n",
    "            metric.add(count_accurate(net(X), y), y.numel())\n",
    "    return metric[0] / metric[1]"
   ],
   "metadata": {
    "collapsed": false,
    "is_executing": true
   },
   "id": "342aa3a63b0ce35a"
  },
  {
   "cell_type": "code",
   "execution_count": null,
   "outputs": [],
   "source": [
    "num_epochs = 20\n",
    "lr1 = 0.5\n",
    "student_model = MLP()\n",
    "optimizer_s = torch.optim.SGD(params=student_model.parameters(), lr=lr1)\n",
    "criterion = F.binary_cross_entropy_with_logits\n",
    "# student model\n",
    "print(\"student model training\")\n",
    "for _ in range(num_epochs):\n",
    "    total_loss1 = 0\n",
    "    train_correct = 0\n",
    "    train_num = 0\n",
    "    student_model.train()\n",
    "    for x, y in train_loader:\n",
    "        one_hot_labels = to_one_hot(y)\n",
    "        pred1 = student_model(x)\n",
    "        train_num += one_hot_labels.shape[0]\n",
    "        train_correct += count_accurate(pred1, y)\n",
    "        l1 = criterion(pred1, one_hot_labels, reduction='none')\n",
    "        optimizer_s.zero_grad()\n",
    "        l1.mean().backward()\n",
    "        optimizer_s.step()\n",
    "        total_loss1 += l1.sum()\n",
    "    train_acc = train_correct / train_num\n",
    "    test_acc = calc_accuracy(student_model, test_loader)\n",
    "    print(f'loss:{total_loss1 / train_num}, train_acc:{train_acc}, test_acc:{test_acc}')"
   ],
   "metadata": {
    "collapsed": false,
    "is_executing": true
   },
   "id": "213c076a27edb96b"
  },
  {
   "cell_type": "code",
   "execution_count": null,
   "outputs": [],
   "source": [
    "num_epochs = 20\n",
    "lr2 = 0.9\n",
    "teacher_model = LeNet()\n",
    "optimizer_t = torch.optim.SGD(params=teacher_model.parameters(), lr=lr2)\n",
    "# teacher model\n",
    "print(\"teacher model training\")\n",
    "for _ in range(num_epochs):\n",
    "    total_loss2 = 0\n",
    "    train_correct = 0\n",
    "    train_num = 0\n",
    "    teacher_model.train()\n",
    "    for x, y in train_loader:\n",
    "        one_hot_labels = to_one_hot(y)\n",
    "        pred2 = teacher_model(x)\n",
    "        train_num += one_hot_labels.shape[0]\n",
    "        train_correct += count_accurate(pred2, y)\n",
    "        l2 = criterion(pred2, one_hot_labels, reduction='none')\n",
    "        optimizer_t.zero_grad()\n",
    "        l2.mean().backward()\n",
    "        optimizer_t.step()\n",
    "        total_loss2 += l2.sum()\n",
    "    train_acc = train_correct / train_num\n",
    "    test_acc = calc_accuracy(teacher_model, test_loader)\n",
    "    print(f'loss:{total_loss2 / train_num}, train_acc:{train_acc}, test_acc:{test_acc}')"
   ],
   "metadata": {
    "collapsed": false,
    "is_executing": true
   },
   "id": "89773f3ee24bb6be"
  },
  {
   "cell_type": "code",
   "execution_count": null,
   "outputs": [],
   "source": [
    "# distill\n",
    "num_epochs = 10\n",
    "lr3 = 0.5\n",
    "print(\"distill training\")\n",
    "teacher_model.eval()\n",
    "student_model = MLP()\n",
    "optimizer_s = torch.optim.SGD(params=student_model.parameters(), lr=lr3)\n",
    "for _ in range(num_epochs):\n",
    "    total_loss1 = 0\n",
    "    train_correct = 0\n",
    "    train_num = 0\n",
    "    student_model.train()\n",
    "    for x, y in train_loader:\n",
    "        one_hot_labels = teacher_model(x)\n",
    "        one_hot_labels = F.softmax(one_hot_labels, dim=1)\n",
    "        pred1 = student_model(x)\n",
    "        train_num += one_hot_labels.shape[0]\n",
    "        train_correct += count_accurate(pred1, y)\n",
    "        l1 = criterion(pred1, one_hot_labels, reduction='none')\n",
    "        optimizer_s.zero_grad()\n",
    "        l1.mean().backward()\n",
    "        optimizer_s.step()\n",
    "        total_loss1 += l1.sum()\n",
    "    train_acc = train_correct / train_num\n",
    "    test_acc = calc_accuracy(student_model, test_loader)\n",
    "    print(f'loss:{total_loss1 / train_num}, train_acc:{train_acc}, test_acc:{test_acc}')"
   ],
   "metadata": {
    "collapsed": false,
    "is_executing": true
   },
   "id": "53f83fc5a7b792c5"
  }
 ],
 "metadata": {
  "kernelspec": {
   "display_name": "Python 3",
   "language": "python",
   "name": "python3"
  },
  "language_info": {
   "codemirror_mode": {
    "name": "ipython",
    "version": 2
   },
   "file_extension": ".py",
   "mimetype": "text/x-python",
   "name": "python",
   "nbconvert_exporter": "python",
   "pygments_lexer": "ipython2",
   "version": "2.7.6"
  }
 },
 "nbformat": 4,
 "nbformat_minor": 5
}
