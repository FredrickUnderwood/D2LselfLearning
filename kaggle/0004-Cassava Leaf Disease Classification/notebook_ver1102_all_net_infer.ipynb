{
 "cells": [
  {
   "cell_type": "markdown",
   "source": [
    "# Import"
   ],
   "metadata": {
    "collapsed": false
   },
   "id": "861cc5389e54b2be"
  },
  {
   "cell_type": "code",
   "execution_count": null,
   "outputs": [],
   "source": [
    "import torch\n",
    "from torch import nn\n",
    "import torch.nn.functional as F\n",
    "import torchvision\n",
    "import math\n",
    "import matplotlib.pyplot as plt\n",
    "import albumentations as A\n",
    "from albumentations.pytorch import ToTensorV2\n",
    "from torch.utils.data import Dataset\n",
    "import pandas as pd\n",
    "import numpy as np\n",
    "from  PIL import Image\n",
    "import os\n",
    "import random\n",
    "from tqdm import tqdm\n",
    "import timm\n",
    "\n",
    "import sklearn\n",
    "from sklearn.ensemble import StackingClassifier\n",
    "from sklearn.linear_model import LogisticRegression\n",
    "from sklearn.linear_model import LinearRegression\n",
    "from sklearn.ensemble import RandomForestRegressor\n",
    "from sklearn.ensemble import RandomForestClassifier\n",
    "from sklearn.model_selection import train_test_split\n",
    "from sklearn.model_selection import KFold, cross_validate\n",
    "from sklearn.metrics import classification_report, confusion_matrix"
   ],
   "metadata": {
    "collapsed": false
   },
   "id": "initial_id"
  },
  {
   "cell_type": "markdown",
   "source": [
    "# Training ML model"
   ],
   "metadata": {
    "collapsed": false
   },
   "id": "f469c05c7e0dba60"
  },
  {
   "cell_type": "code",
   "execution_count": null,
   "outputs": [],
   "source": [
    "df_all = pd.read_csv('../input/my-csv/all_pred.csv')\n",
    "x = df_all.iloc[:, :-1]\n",
    "y = df_all.iloc[:, -1]\n",
    "lr_model = LogisticRegression(multi_class='auto', solver='lbfgs', max_iter=200)\n",
    "lr_model.fit(x, y)\n",
    "print('lr model training done')"
   ],
   "metadata": {
    "collapsed": false
   },
   "id": "8e581c925a5e7b4"
  },
  {
   "cell_type": "markdown",
   "source": [
    "# Configuration"
   ],
   "metadata": {
    "collapsed": false
   },
   "id": "459c227a9d6662a4"
  },
  {
   "cell_type": "code",
   "execution_count": null,
   "outputs": [],
   "source": [
    "INPUT_PATH = '../input'\n",
    "TRAIN_CSV_PATH = '../input/cassava-leaf-disease-classification/train.csv'\n",
    "TRAIN_IMAGE_PATH = '../input/cassava-leaf-disease-classification/train_images/'\n",
    "TEST_IMAGE_PATH = '../input/cassava-leaf-disease-classification/test_images/'\n",
    "SUBMISSION_PATH = 'submission.csv'\n",
    "DEVICES = [torch.device(f'cuda:{i}') for i in range(torch.cuda.device_count())]\n",
    "OUT_FEATURES = 5"
   ],
   "metadata": {
    "collapsed": false
   },
   "id": "6878c109a6bf2bda"
  },
  {
   "cell_type": "markdown",
   "source": [
    "# Generate Test Aug"
   ],
   "metadata": {
    "collapsed": false
   },
   "id": "88c8eedc88ffb8a7"
  },
  {
   "cell_type": "code",
   "execution_count": null,
   "outputs": [],
   "source": [
    "def get_test_aug(image_size):\n",
    "    test_augs = A.Compose([\n",
    "        A.OneOf([\n",
    "            A.Resize(image_size, image_size, p=1.0),\n",
    "            A.CenterCrop(image_size, image_size, p=1.0),\n",
    "            A.RandomResizedCrop(image_size, image_size, p=1.0)\n",
    "        ], p=1.0),\n",
    "        A.Transpose(p=0.5),\n",
    "        A.HorizontalFlip(p=0.5),\n",
    "        A.VerticalFlip(p=0.5),\n",
    "        A.Resize(image_size, image_size),\n",
    "        A.Normalize(mean=[0.485, 0.456, 0.406], std=[0.229, 0.224, 0.225], max_pixel_value=255.0, p=1.0),\n",
    "        ToTensorV2(p=1.0)\n",
    "        ], p=1.0\n",
    "    )\n",
    "    return test_augs"
   ],
   "metadata": {
    "collapsed": false
   },
   "id": "da1b4aa0914ea510"
  },
  {
   "cell_type": "markdown",
   "source": [
    "# Seed Everything"
   ],
   "metadata": {
    "collapsed": false
   },
   "id": "fb8f66831b5ef051"
  },
  {
   "cell_type": "code",
   "execution_count": null,
   "outputs": [],
   "source": [
    "def seed_everything(seed=42):\n",
    "    random.seed(seed)\n",
    "    os.environ['PYTHONHASHSEED'] = str(seed)\n",
    "    np.random.seed(seed)\n",
    "    torch.manual_seed(seed)\n",
    "    torch.cuda.manual_seed(seed)\n",
    "    torch.backends.cudnn.deterministic = True"
   ],
   "metadata": {
    "collapsed": false
   },
   "id": "6ea0aafc2ec31258"
  },
  {
   "cell_type": "markdown",
   "source": [
    "# Inference Function"
   ],
   "metadata": {
    "collapsed": false
   },
   "id": "c03cc28438347dde"
  },
  {
   "cell_type": "code",
   "execution_count": null,
   "outputs": [],
   "source": [
    "def inference(model, model_param_path, test_augs, df_path, tta):\n",
    "    preds_1 = []\n",
    "    names_1 = []\n",
    "    model.eval()\n",
    "    model_param = torch.load(model_param_path)\n",
    "    new_model_param = {k[7:]: v for k, v in model_param.items() if 'module.' in k}\n",
    "    model.load_state_dict(new_model_param)\n",
    "    model = nn.DataParallel(model).to(DEVICES[0])\n",
    "    test_image_list = np.asarray([image_name for image_name in os.listdir(TEST_IMAGE_PATH)])\n",
    "    for single_image_name in test_image_list:\n",
    "        names_1.append(single_image_name)\n",
    "        with torch.no_grad():\n",
    "            ans = torch.zeros(5).cuda()\n",
    "            for _ in range(tta):\n",
    "                image = Image.open(os.path.join(TEST_IMAGE_PATH, single_image_name))\n",
    "                aug_image = test_augs(image=np.array(image))['image']\n",
    "                test_image = torch.tensor(aug_image, dtype=torch.float).unsqueeze(0).cuda()\n",
    "                ans += model(test_image).view(ans.shape)\n",
    "            ans /= tta\n",
    "            preds_1.append(ans)\n",
    "    predictions_1 = torch.stack(preds_1, dim=0).to('cpu')\n",
    "    normalize_pred_1 = F.normalize(predictions_1.T, p=2, dim=0).T\n",
    "    my_array = np.array(normalize_pred_1)\n",
    "    my_df = pd.DataFrame(my_array)\n",
    "    name_array = np.array(names_1)\n",
    "    name_df = pd.DataFrame(name_array)\n",
    "    my_df = pd.concat([name_df, my_df], axis=1, ignore_index=True)\n",
    "    torch.cuda.empty_cache()\n",
    "    return my_df"
   ],
   "metadata": {
    "collapsed": false
   },
   "id": "6f259f83f363201"
  },
  {
   "cell_type": "markdown",
   "source": [
    "# model_1 EfficientNetB4 Noisy-Student"
   ],
   "metadata": {
    "collapsed": false
   },
   "id": "b32dc65c819c5b3d"
  },
  {
   "cell_type": "code",
   "execution_count": null,
   "outputs": [],
   "source": [
    "B4NS_PATH = '../input/ensemble-1023/1022_b4ns.pth'\n",
    "SEED = 42\n",
    "IMAGE_SIZE = 512\n",
    "TTA = 8"
   ],
   "metadata": {
    "collapsed": false
   },
   "id": "44c7ac726b1c4f4e"
  },
  {
   "cell_type": "code",
   "execution_count": null,
   "outputs": [],
   "source": [
    "model_name_1 = \"tf_efficientnet_b4_ns\"\n",
    "my_model_1 = timm.create_model(model_name_1, pretrained=False)\n",
    "my_model_1.classifier = nn.Linear(my_model_1.classifier.in_features, OUT_FEATURES)"
   ],
   "metadata": {
    "collapsed": false
   },
   "id": "cf4741f99f856691"
  },
  {
   "cell_type": "code",
   "execution_count": null,
   "outputs": [],
   "source": [
    "seed_everything(SEED)\n",
    "test_augs = get_test_aug(image_size=IMAGE_SIZE)\n",
    "df_1 = inference(my_model_1, B4NS_PATH, test_augs, 'b4ns.csv', TTA)"
   ],
   "metadata": {
    "collapsed": false
   },
   "id": "314f1db23d166f97"
  },
  {
   "cell_type": "markdown",
   "source": [
    "# model_2 ResNeXt50_32x4d"
   ],
   "metadata": {
    "collapsed": false
   },
   "id": "5840529f22b06b03"
  },
  {
   "cell_type": "code",
   "execution_count": null,
   "outputs": [],
   "source": [
    "RES50_PATH = '../input/ensemble-1023/1022_res50.pth'\n",
    "SEED = 42\n",
    "IMAGE_SIZE = 512\n",
    "TTA = 1"
   ],
   "metadata": {
    "collapsed": false
   },
   "id": "560e6b9b98977f64"
  },
  {
   "cell_type": "code",
   "execution_count": null,
   "outputs": [],
   "source": [
    "model_name2= \"resnext50_32x4d\"\n",
    "my_model_2 = timm.create_model(model_name2, pretrained=False)\n",
    "my_model_2.fc = nn.Linear(my_model_2.fc.in_features, OUT_FEATURES)\n"
   ],
   "metadata": {
    "collapsed": false
   },
   "id": "3321f0646201f419"
  },
  {
   "cell_type": "code",
   "execution_count": null,
   "outputs": [],
   "source": [
    "seed_everything(SEED)\n",
    "test_augs = get_test_aug(image_size=IMAGE_SIZE)\n",
    "df_2 = inference(my_model_2, RES50_PATH, test_augs, 'res50.csv', TTA)"
   ],
   "metadata": {
    "collapsed": false
   },
   "id": "46201dba60ddd2c8"
  },
  {
   "cell_type": "markdown",
   "source": [
    "# model_3 EfficientNetB5 Noisy-Student"
   ],
   "metadata": {
    "collapsed": false
   },
   "id": "e8d2ce2a7eb56da3"
  },
  {
   "cell_type": "code",
   "execution_count": null,
   "outputs": [],
   "source": [
    "B5NS_PATH = '../input/ensemble-1026/1026_b5ns.pth'\n",
    "SEED = 43\n",
    "IMAGE_SIZE = 384\n",
    "TTA = 8"
   ],
   "metadata": {
    "collapsed": false
   },
   "id": "b9b418bb8cacf294"
  },
  {
   "cell_type": "code",
   "execution_count": null,
   "outputs": [],
   "source": [
    "model_name3 = \"tf_efficientnet_b5_ns\"\n",
    "my_model_3 = timm.create_model(model_name3, pretrained=False)\n",
    "my_model_3.classifier = nn.Linear(my_model_3.classifier.in_features, OUT_FEATURES)"
   ],
   "metadata": {
    "collapsed": false
   },
   "id": "54282aba7cca2a5"
  },
  {
   "cell_type": "code",
   "execution_count": null,
   "outputs": [],
   "source": [
    "seed_everything(SEED)\n",
    "test_augs = get_test_aug(image_size=IMAGE_SIZE)\n",
    "df_3 = inference(my_model_3, B5NS_PATH, test_augs, 'b5ns.csv', TTA)"
   ],
   "metadata": {
    "collapsed": false
   },
   "id": "74880428a70a72e9"
  },
  {
   "cell_type": "markdown",
   "source": [
    "# model_4 ResNeXt50d_32x4d"
   ],
   "metadata": {
    "collapsed": false
   },
   "id": "d8044db4aa6f75ec"
  },
  {
   "cell_type": "code",
   "execution_count": null,
   "outputs": [],
   "source": [
    "RES50D_PATH = '../input/ensemble-1026/1026_res50d.pth'\n",
    "SEED = 43\n",
    "IMAGE_SIZE = 512\n",
    "TTA = 1"
   ],
   "metadata": {
    "collapsed": false
   },
   "id": "c2704e8120f04bca"
  },
  {
   "cell_type": "code",
   "execution_count": null,
   "outputs": [],
   "source": [
    "model_name4 = \"resnext50d_32x4d\"\n",
    "my_model_4 = timm.create_model(model_name4, pretrained=False)\n",
    "my_model_4.fc = nn.Linear(my_model_4.fc.in_features, OUT_FEATURES)"
   ],
   "metadata": {
    "collapsed": false
   },
   "id": "1d5589c3c906b49"
  },
  {
   "cell_type": "code",
   "execution_count": null,
   "outputs": [],
   "source": [
    "seed_everything(SEED)\n",
    "test_augs = get_test_aug(image_size=IMAGE_SIZE)\n",
    "df_4 = inference(my_model_4, RES50D_PATH, test_augs, 'res50d.csv', TTA)"
   ],
   "metadata": {
    "collapsed": false
   },
   "id": "bd01b781eee3673b"
  },
  {
   "cell_type": "markdown",
   "source": [
    "# model_5 SEResNeXt50_32x4d"
   ],
   "metadata": {
    "collapsed": false
   },
   "id": "49b6efcde8965acb"
  },
  {
   "cell_type": "code",
   "execution_count": null,
   "outputs": [],
   "source": [
    "# SERES50D_PATH = '../input/1029-ensemble/1029_resnext50.pth'\n",
    "# SEED = 23\n",
    "# IMAGE_SIZE = 512\n",
    "# TTA = 1"
   ],
   "metadata": {
    "collapsed": false
   },
   "id": "ee64253fd017d6fc"
  },
  {
   "cell_type": "code",
   "execution_count": null,
   "outputs": [],
   "source": [
    "# model_name5 = \"seresnext50_32x4d\"\n",
    "# my_model_5 = timm.create_model(model_name5, pretrained=False)\n",
    "# my_model_5.fc = nn.Linear(my_model_5.fc.in_features, OUT_FEATURES)"
   ],
   "metadata": {
    "collapsed": false
   },
   "id": "5207f4babce63ecf"
  },
  {
   "cell_type": "code",
   "execution_count": null,
   "outputs": [],
   "source": [
    "# seed_everything(SEED)\n",
    "# test_augs = get_test_aug(image_size=IMAGE_SIZE)\n",
    "# inference(my_model_5, SERES50D_PATH, test_augs, 'seres50.csv', TTA)"
   ],
   "metadata": {
    "collapsed": false
   },
   "id": "8b67582c98977871"
  },
  {
   "cell_type": "markdown",
   "source": [
    "# Ensemble"
   ],
   "metadata": {
    "collapsed": false
   },
   "id": "972a4841ff22afe6"
  },
  {
   "cell_type": "code",
   "execution_count": null,
   "outputs": [],
   "source": [
    "df_image = df_1.iloc[:, 0]\n",
    "df_1_ = df_1.iloc[:, 1:]\n",
    "df_2_ = df_2.iloc[:, 1:]\n",
    "df_3_ = df_3.iloc[:, 1:]\n",
    "df_4_ = df_4.iloc[:, 1:]\n",
    "df_all = pd.concat([df_1_, df_2_, df_3_, df_4_], axis=1)\n",
    "x = df_all.iloc[:, :]\n",
    "preds = lr_model.predict(x)\n",
    "df_preds = pd.DataFrame(preds)\n",
    "df_submission = pd.concat([df_image, df_preds], axis=1)\n",
    "df_submission.columns =['image_id', 'label']\n",
    "df_submission.to_csv(SUBMISSION_PATH, index=False)"
   ],
   "metadata": {
    "collapsed": false
   },
   "id": "d0f8f542cfb7fae8"
  }
 ],
 "metadata": {
  "kernelspec": {
   "display_name": "Python 3",
   "language": "python",
   "name": "python3"
  },
  "language_info": {
   "codemirror_mode": {
    "name": "ipython",
    "version": 2
   },
   "file_extension": ".py",
   "mimetype": "text/x-python",
   "name": "python",
   "nbconvert_exporter": "python",
   "pygments_lexer": "ipython2",
   "version": "2.7.6"
  }
 },
 "nbformat": 4,
 "nbformat_minor": 5
}
