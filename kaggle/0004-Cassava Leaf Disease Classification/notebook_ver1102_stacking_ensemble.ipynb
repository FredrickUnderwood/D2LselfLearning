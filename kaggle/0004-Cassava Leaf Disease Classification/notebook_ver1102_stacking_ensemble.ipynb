{
 "cells": [
  {
   "cell_type": "markdown",
   "source": [
    "# Import"
   ],
   "metadata": {
    "collapsed": false
   },
   "id": "39ed9475de95954a"
  },
  {
   "cell_type": "code",
   "execution_count": 31,
   "outputs": [],
   "source": [
    "import pandas as pd\n",
    "import numpy as np\n",
    "import sklearn\n",
    "from sklearn.ensemble import StackingClassifier\n",
    "from sklearn.linear_model import LogisticRegression\n",
    "from sklearn.linear_model import LinearRegression\n",
    "from sklearn.ensemble import RandomForestRegressor\n",
    "from sklearn.ensemble import RandomForestClassifier\n",
    "from sklearn.model_selection import train_test_split\n",
    "from sklearn.model_selection import KFold, cross_validate\n",
    "from sklearn.metrics import classification_report, confusion_matrix\n",
    "import lightgbm as lgb\n",
    "from lightgbm import LGBMClassifier\n",
    "from sklearn.metrics import precision_score\n",
    "from sklearn.metrics import accuracy_score"
   ],
   "metadata": {
    "collapsed": false,
    "ExecuteTime": {
     "end_time": "2023-11-02T15:20:09.126311200Z",
     "start_time": "2023-11-02T15:20:09.122135600Z"
    }
   },
   "id": "aa200bcbcb888eb7"
  },
  {
   "cell_type": "markdown",
   "source": [
    "# Load Data"
   ],
   "metadata": {
    "collapsed": false
   },
   "id": "3486e7f3fcfa03fe"
  },
  {
   "cell_type": "code",
   "execution_count": 23,
   "outputs": [],
   "source": [
    "df_train = pd.read_csv('train.csv')\n",
    "df_1 = pd.read_csv('b4ns.csv')\n",
    "df_2 = pd.read_csv('b5ns.csv')\n",
    "df_3 = pd.read_csv('res50.csv')\n",
    "df_4 = pd.read_csv('res50d.csv')\n",
    "order = df_1.iloc[:, 0].tolist()\n",
    "df_train.set_index('image_id', inplace=True)\n",
    "df_train_sorted = df_train.reindex(order)\n",
    "df_train_sorted.reset_index(inplace=True)\n",
    "df_train_sorted.to_csv('train_sorted.csv')"
   ],
   "metadata": {
    "collapsed": false,
    "ExecuteTime": {
     "end_time": "2023-11-02T15:17:14.928397500Z",
     "start_time": "2023-11-02T15:17:14.845716700Z"
    }
   },
   "id": "212040073796c865"
  },
  {
   "cell_type": "code",
   "execution_count": 24,
   "outputs": [],
   "source": [
    "df_1_ = df_1.iloc[:, 1:]\n",
    "df_2_ = df_2.iloc[:, 1:]\n",
    "df_3_ = df_3.iloc[:, 1:]\n",
    "df_4_ = df_4.iloc[:, 1:]\n",
    "df_train_sorted_ = df_train_sorted.label\n",
    "df_1_ = pd.concat([df_1_, df_2_, df_3_, df_4_, df_train_sorted_], axis=1)\n",
    "df_1_.to_csv('all_pred.csv', index=False)"
   ],
   "metadata": {
    "collapsed": false,
    "ExecuteTime": {
     "end_time": "2023-11-02T15:17:15.124741100Z",
     "start_time": "2023-11-02T15:17:14.926396800Z"
    }
   },
   "id": "bd6a90e2964ea39f"
  },
  {
   "cell_type": "code",
   "execution_count": 25,
   "outputs": [],
   "source": [
    "all_df = pd.read_csv('all_pred.csv')\n",
    "x = all_df.iloc[:, :-1]\n",
    "y = all_df.iloc[:, -1]\n",
    "x_train, x_test, y_train, y_test = train_test_split(x, y, test_size=0.2, random_state=0)"
   ],
   "metadata": {
    "collapsed": false,
    "ExecuteTime": {
     "end_time": "2023-11-02T15:17:15.173688Z",
     "start_time": "2023-11-02T15:17:15.125741500Z"
    }
   },
   "id": "289ff1b92487f311"
  },
  {
   "cell_type": "markdown",
   "source": [
    "# Definite the k-fold validation"
   ],
   "metadata": {
    "collapsed": false
   },
   "id": "3b423df6160b9dc9"
  },
  {
   "cell_type": "code",
   "execution_count": 26,
   "outputs": [],
   "source": [
    "def fusion_estimators(clf):\n",
    "    \"\"\"\n",
    "    对融合模型做交叉验证，对融合模型的表现进行评估\n",
    "    \"\"\"\n",
    "    cv = KFold(n_splits=5, shuffle=True, random_state=0)\n",
    "    results = cross_validate(clf,x_train,y_train\n",
    "                             ,cv = cv\n",
    "                             ,scoring = \"accuracy\"\n",
    "                             ,n_jobs = -1\n",
    "                             ,return_train_score = True\n",
    "                             ,verbose=False)\n",
    "    test = clf.fit(x_train, y_train).score(x_test, y_test)\n",
    "    print(\"train_score:{}\".format(results[\"train_score\"].mean())\n",
    "          ,\"\\n cv_mean:{}\".format(results[\"test_score\"].mean())\n",
    "          ,\"\\n test_score:{}\".format(test)\n",
    "         )"
   ],
   "metadata": {
    "collapsed": false,
    "ExecuteTime": {
     "end_time": "2023-11-02T15:17:15.173688Z",
     "start_time": "2023-11-02T15:17:15.165997600Z"
    }
   },
   "id": "b1bdd1a91dc23028"
  },
  {
   "cell_type": "markdown",
   "source": [
    "# Cross-Validation"
   ],
   "metadata": {
    "collapsed": false
   },
   "id": "d05b469dae4286f3"
  },
  {
   "cell_type": "code",
   "execution_count": 27,
   "outputs": [],
   "source": [
    "# clf1 = LogisticRegression(multi_class='auto', solver='lbfgs', max_iter=200)\n",
    "# clf2 = RandomForestRegressor(n_estimators=100, max_features=\"sqrt\", max_samples=0.9, random_state=0, n_jobs=8)\n",
    "# clf3 = LinearRegression()"
   ],
   "metadata": {
    "collapsed": false,
    "ExecuteTime": {
     "end_time": "2023-11-02T15:17:15.173688Z",
     "start_time": "2023-11-02T15:17:15.168185700Z"
    }
   },
   "id": "b1203f464fcba61e"
  },
  {
   "cell_type": "code",
   "execution_count": 28,
   "outputs": [
    {
     "name": "stdout",
     "output_type": "stream",
     "text": [
      "      label\n",
      "0         3\n",
      "1         3\n",
      "2         2\n",
      "3         1\n",
      "4         1\n",
      "...     ...\n",
      "4275      3\n",
      "4276      2\n",
      "4277      1\n",
      "4278      3\n",
      "4279      4\n",
      "\n",
      "[4280 rows x 1 columns]\n",
      "              precision    recall  f1-score   support\n",
      "\n",
      "           0       0.77      0.79      0.78       220\n",
      "           1       0.89      0.84      0.87       470\n",
      "           2       0.89      0.86      0.88       504\n",
      "           3       0.97      0.98      0.98      2579\n",
      "           4       0.81      0.82      0.81       507\n",
      "\n",
      "    accuracy                           0.92      4280\n",
      "   macro avg       0.87      0.86      0.86      4280\n",
      "weighted avg       0.92      0.92      0.92      4280\n",
      "\n",
      "[[ 174    8    4    3   31]\n",
      " [  23  397   11   10   29]\n",
      " [   4    7  433   33   27]\n",
      " [   2   10   21 2532   14]\n",
      " [  22   22   15   30  418]]\n",
      "Accuracy of the model:  0.9238317757009346\n"
     ]
    }
   ],
   "source": [
    "lr = LogisticRegression(multi_class='auto', solver='lbfgs', max_iter=200)\n",
    "\n",
    "# 训练模型\n",
    "lr.fit(x_train, y_train)\n",
    "\n",
    "# 预测测试集\n",
    "y_pred = lr.predict(x_test)\n",
    "print(pd.DataFrame(y_pred, columns=['label']))\n",
    "# 输出分类报告和混淆矩阵\n",
    "print(classification_report(y_test, y_pred))\n",
    "print(confusion_matrix(y_test, y_pred))\n",
    "\n",
    "# 输出模型准确率\n",
    "print(\"Accuracy of the model: \", lr.score(x_test, y_test))"
   ],
   "metadata": {
    "collapsed": false,
    "ExecuteTime": {
     "end_time": "2023-11-02T15:17:15.364396Z",
     "start_time": "2023-11-02T15:17:15.171181700Z"
    }
   },
   "id": "27354e0cfbe8d47a"
  },
  {
   "cell_type": "code",
   "execution_count": 29,
   "outputs": [
    {
     "name": "stdout",
     "output_type": "stream",
     "text": [
      "              precision    recall  f1-score   support\n",
      "\n",
      "           0       0.79      0.80      0.79       220\n",
      "           1       0.89      0.84      0.87       470\n",
      "           2       0.90      0.85      0.87       504\n",
      "           3       0.97      0.98      0.98      2579\n",
      "           4       0.80      0.83      0.82       507\n",
      "\n",
      "    accuracy                           0.92      4280\n",
      "   macro avg       0.87      0.86      0.87      4280\n",
      "weighted avg       0.92      0.92      0.92      4280\n",
      "\n",
      "[[ 176    7    3    4   30]\n",
      " [  22  397   10    8   33]\n",
      " [   5    9  429   32   29]\n",
      " [   2   11   22 2531   13]\n",
      " [  19   22   14   29  423]]\n",
      "Accuracy of the model:  0.9242990654205607\n"
     ]
    }
   ],
   "source": [
    "rfc = RandomForestClassifier(n_estimators=100, random_state=42)\n",
    "\n",
    "# 训练模型\n",
    "rfc.fit(x_train, y_train)\n",
    "\n",
    "# 预测测试集\n",
    "y_pred = rfc.predict(x_test)\n",
    "\n",
    "# 输出分类报告和混淆矩阵\n",
    "print(classification_report(y_test, y_pred))\n",
    "print(confusion_matrix(y_test, y_pred))\n",
    "\n",
    "# 输出模型准确率\n",
    "print(\"Accuracy of the model: \", rfc.score(x_test, y_test))"
   ],
   "metadata": {
    "collapsed": false,
    "ExecuteTime": {
     "end_time": "2023-11-02T15:17:31.860436Z",
     "start_time": "2023-11-02T15:17:15.364396Z"
    }
   },
   "id": "3eeca6235ccc8aa6"
  },
  {
   "cell_type": "markdown",
   "source": [
    "# LightGBM"
   ],
   "metadata": {
    "collapsed": false
   },
   "id": "a55c8f428e63abf9"
  },
  {
   "cell_type": "code",
   "execution_count": 34,
   "outputs": [
    {
     "name": "stdout",
     "output_type": "stream",
     "text": [
      "[LightGBM] [Info] Auto-choosing col-wise multi-threading, the overhead of testing was 0.001043 seconds.\n",
      "You can set `force_col_wise=true` to remove the overhead.\n",
      "[LightGBM] [Info] Total Bins 5100\n",
      "[LightGBM] [Info] Number of data points in the train set: 17117, number of used features: 20\n",
      "[LightGBM] [Info] Start training from score -2.982788\n",
      "[LightGBM] [Info] Start training from score -2.298329\n",
      "[LightGBM] [Info] Start training from score -2.207737\n",
      "[LightGBM] [Info] Start training from score -0.481201\n",
      "[LightGBM] [Info] Start training from score -2.112524\n",
      "0.9999415785476427\n",
      "0.9210280373831776\n"
     ]
    }
   ],
   "source": [
    "clf = LGBMClassifier()\n",
    "clf.fit(x_train, y_train)\n",
    "y_pred = clf.predict(x_test)\n",
    "acc = accuracy_score(y_test, y_pred)\n",
    "print(acc)"
   ],
   "metadata": {
    "collapsed": false,
    "ExecuteTime": {
     "end_time": "2023-11-02T15:23:48.634215Z",
     "start_time": "2023-11-02T15:23:48.226722500Z"
    }
   },
   "id": "6c68384e350edcef"
  }
 ],
 "metadata": {
  "kernelspec": {
   "display_name": "Python 3",
   "language": "python",
   "name": "python3"
  },
  "language_info": {
   "codemirror_mode": {
    "name": "ipython",
    "version": 2
   },
   "file_extension": ".py",
   "mimetype": "text/x-python",
   "name": "python",
   "nbconvert_exporter": "python",
   "pygments_lexer": "ipython2",
   "version": "2.7.6"
  }
 },
 "nbformat": 4,
 "nbformat_minor": 5
}
