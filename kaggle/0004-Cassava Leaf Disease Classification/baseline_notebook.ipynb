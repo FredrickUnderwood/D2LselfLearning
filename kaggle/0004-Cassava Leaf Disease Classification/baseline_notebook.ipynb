{
 "cells": [
  {
   "cell_type": "markdown",
   "source": [
    "# Cassava Leaf Disease Classification\n",
    "https://www.kaggle.com/competitions/cassava-leaf-disease-classification/overview\n",
    "notebook 竞赛"
   ],
   "metadata": {
    "collapsed": false
   }
  },
  {
   "cell_type": "markdown",
   "source": [
    "## 浏览数据\n",
    "1.train.csv\n",
    "2.测试集\n",
    "3.训练集"
   ],
   "metadata": {
    "collapsed": false
   }
  },
  {
   "cell_type": "code",
   "execution_count": null,
   "outputs": [],
   "source": [
    "import pandas as pd\n",
    "\n",
    "train_csv_path = '../input/cassava-leaf-disease-classification/train.csv'\n",
    "df_train = pd.read_csv(train_csv_path)\n",
    "print(df_train.head())\n",
    "print(df_train.shape[0], ' ', df_train.shape[1])\n",
    "print(len(df_train.iloc[:, 1].unique()))"
   ],
   "metadata": {
    "collapsed": false
   }
  },
  {
   "cell_type": "code",
   "execution_count": null,
   "outputs": [],
   "source": [
    "from PIL import Image\n",
    "import os\n",
    "import matplotlib.pyplot as plt\n",
    "\n",
    "train_image_path = '../input/cassava-leaf-disease-classification/train_images/'\n",
    "test_image_path = '../input/cassava-leaf-disease-classification/test_images/'\n",
    "img = Image.open(os.path.join(train_image_path, df_train.iloc[0, 0]))\n",
    "plt.imshow(img)"
   ],
   "metadata": {
    "collapsed": false
   }
  },
  {
   "cell_type": "markdown",
   "source": [
    "## 计算数据集的均值和方差"
   ],
   "metadata": {
    "collapsed": false
   }
  },
  {
   "cell_type": "code",
   "execution_count": null,
   "outputs": [],
   "source": [
    "import numpy as np\n",
    "import torch\n",
    "import torchvision\n",
    "mean = torch.zeros(3)\n",
    "std = torch.zeros(3)\n",
    "\n",
    "images = np.asarray([image for image in os.listdir(test_image_path)])\n",
    "for single_image_name in images:\n",
    "    for d in range(3):\n",
    "        image_for_test = Image.open(os.path.join(test_image_path, single_image_name))\n",
    "        trans = torchvision.transforms.ToTensor()\n",
    "        tensor_for_test = trans(image_for_test)\n",
    "        tensor_for_test = tensor_for_test.unsqueeze(0)\n",
    "        mean[d] += tensor_for_test[:, d, :, :].mean()\n",
    "        std[d] += tensor_for_test[:, d, :, :].std()\n",
    "mean.div_(len(images))\n",
    "std.div_(len(images))\n",
    "mean = mean.numpy()\n",
    "std = std.numpy()\n",
    "print('mean:', mean, 'std:', std)"
   ],
   "metadata": {
    "collapsed": false
   }
  },
  {
   "cell_type": "markdown",
   "source": [
    "## 构建数据集"
   ],
   "metadata": {
    "collapsed": false
   }
  },
  {
   "cell_type": "code",
   "execution_count": null,
   "outputs": [],
   "source": [
    "from torch.utils.data import Dataset\n",
    "\n",
    "class MyCassavaLeafDataset(Dataset):\n",
    "    @staticmethod\n",
    "    def generate_index(num_total, ratio):\n",
    "        all_index = [i for i in range(num_total)]\n",
    "        k = ratio * 10\n",
    "        valid_index = np.arange(0, num_total, k)\n",
    "        train_index = [i for i in all_index if i not in valid_index]\n",
    "        return train_index, valid_index\n",
    "\n",
    "    def __init__(self, csv_path=None, images_path=None, transform=None, mode='train', train_ratio=0.8):\n",
    "        super().__init__()\n",
    "        self.transform = transform\n",
    "        self.mode = mode\n",
    "        self.images_path = images_path\n",
    "        self.data_info = pd.read_csv(csv_path)\n",
    "        self.data_len = self.data_info.shape[0]\n",
    "        if self.mode == 'train':\n",
    "            train_index, _ = MyCassavaLeafDataset.generate_index(self.data_len, train_ratio)\n",
    "            self.image_arr = np.asarray(self.data_info.iloc[train_index, 0])\n",
    "            self.label_arr = np.asarray(self.data_info.iloc[train_index, 1])\n",
    "            self.real_len = len(self.image_arr)\n",
    "        elif self.mode == 'valid':\n",
    "            _, valid_index = MyCassavaLeafDataset.generate_index(self.data_len, train_ratio)\n",
    "            self.image_arr = np.asarray(self.data_info.iloc[valid_index, 0])\n",
    "            self.label_arr = np.asarray(self.data_info.iloc[valid_index, 1])\n",
    "            self.real_len = len(self.image_arr)\n",
    "\n",
    "    def __getitem__(self, index):\n",
    "        if self.mode != 'test':\n",
    "            single_image_name = self.image_arr[index]\n",
    "            image = Image.open(os.path.join(self.images_path, single_image_name))\n",
    "            label = self.label_arr[index]\n",
    "            return self.transform(image), label\n",
    "\n",
    "    def __len__(self):\n",
    "        return self.real_len"
   ],
   "metadata": {
    "collapsed": false
   }
  },
  {
   "cell_type": "markdown",
   "source": [
    "## 图像增广"
   ],
   "metadata": {
    "collapsed": false
   }
  },
  {
   "cell_type": "code",
   "execution_count": null,
   "outputs": [],
   "source": [
    "import torchvision\n",
    "normalize = torchvision.transforms.Normalize(mean, std)\n",
    "\n",
    "train_augs = torchvision.transforms.Compose([\n",
    "    torchvision.transforms.RandomResizedCrop(224), # 对图像进行随机的裁剪，最后resize到224*224\n",
    "    torchvision.transforms.RandomHorizontalFlip(), # 随机水平翻转\n",
    "    torchvision.transforms.ToTensor(), # 图片是png格式的，要转换为tensor\n",
    "    normalize\n",
    "])\n",
    "\n",
    "valid_augs = torchvision.transforms.Compose([\n",
    "    torchvision.transforms.Resize(256),\n",
    "    torchvision.transforms.CenterCrop(224), # 从中心裁剪处224*224的图片\n",
    "    torchvision.transforms.ToTensor(),\n",
    "    normalize\n",
    "])"
   ],
   "metadata": {
    "collapsed": false
   }
  },
  {
   "cell_type": "markdown",
   "source": [
    "## 生成训练和验证数据集与迭代器"
   ],
   "metadata": {
    "collapsed": false
   }
  },
  {
   "cell_type": "code",
   "execution_count": null,
   "outputs": [],
   "source": [
    "train_set = MyCassavaLeafDataset(csv_path=train_csv_path, images_path=train_image_path, transform=train_augs, mode='train')\n",
    "train_iter = torch.utils.data.DataLoader(train_set, batch_size=128, shuffle=True)\n",
    "valid_set = MyCassavaLeafDataset(csv_path=train_csv_path, images_path=train_image_path, transform=valid_augs, mode='valid')\n",
    "valid_iter = torch.utils.data.DataLoader(valid_set, batch_size=128, shuffle=False)"
   ],
   "metadata": {
    "collapsed": false
   }
  },
  {
   "cell_type": "markdown",
   "source": [
    "## 搭建训练模型"
   ],
   "metadata": {
    "collapsed": false
   }
  },
  {
   "cell_type": "code",
   "execution_count": 6,
   "outputs": [
    {
     "name": "stderr",
     "output_type": "stream",
     "text": [
      "C:\\Users\\33143\\AppData\\Local\\Programs\\Python\\Python311\\Lib\\site-packages\\torchvision\\models\\_utils.py:208: UserWarning: The parameter 'pretrained' is deprecated since 0.13 and may be removed in the future, please use 'weights' instead.\n",
      "  warnings.warn(\n",
      "C:\\Users\\33143\\AppData\\Local\\Programs\\Python\\Python311\\Lib\\site-packages\\torchvision\\models\\_utils.py:223: UserWarning: Arguments other than a weight enum or `None` for 'weights' are deprecated since 0.13 and may be removed in the future. The current behavior is equivalent to passing `weights=ResNet18_Weights.IMAGENET1K_V1`. You can also use `weights=ResNet18_Weights.DEFAULT` to get the most up-to-date weights.\n",
      "  warnings.warn(msg)\n"
     ]
    },
    {
     "data": {
      "text/plain": "ResNet(\n  (conv1): Conv2d(3, 64, kernel_size=(7, 7), stride=(2, 2), padding=(3, 3), bias=False)\n  (bn1): BatchNorm2d(64, eps=1e-05, momentum=0.1, affine=True, track_running_stats=True)\n  (relu): ReLU(inplace=True)\n  (maxpool): MaxPool2d(kernel_size=3, stride=2, padding=1, dilation=1, ceil_mode=False)\n  (layer1): Sequential(\n    (0): BasicBlock(\n      (conv1): Conv2d(64, 64, kernel_size=(3, 3), stride=(1, 1), padding=(1, 1), bias=False)\n      (bn1): BatchNorm2d(64, eps=1e-05, momentum=0.1, affine=True, track_running_stats=True)\n      (relu): ReLU(inplace=True)\n      (conv2): Conv2d(64, 64, kernel_size=(3, 3), stride=(1, 1), padding=(1, 1), bias=False)\n      (bn2): BatchNorm2d(64, eps=1e-05, momentum=0.1, affine=True, track_running_stats=True)\n    )\n    (1): BasicBlock(\n      (conv1): Conv2d(64, 64, kernel_size=(3, 3), stride=(1, 1), padding=(1, 1), bias=False)\n      (bn1): BatchNorm2d(64, eps=1e-05, momentum=0.1, affine=True, track_running_stats=True)\n      (relu): ReLU(inplace=True)\n      (conv2): Conv2d(64, 64, kernel_size=(3, 3), stride=(1, 1), padding=(1, 1), bias=False)\n      (bn2): BatchNorm2d(64, eps=1e-05, momentum=0.1, affine=True, track_running_stats=True)\n    )\n  )\n  (layer2): Sequential(\n    (0): BasicBlock(\n      (conv1): Conv2d(64, 128, kernel_size=(3, 3), stride=(2, 2), padding=(1, 1), bias=False)\n      (bn1): BatchNorm2d(128, eps=1e-05, momentum=0.1, affine=True, track_running_stats=True)\n      (relu): ReLU(inplace=True)\n      (conv2): Conv2d(128, 128, kernel_size=(3, 3), stride=(1, 1), padding=(1, 1), bias=False)\n      (bn2): BatchNorm2d(128, eps=1e-05, momentum=0.1, affine=True, track_running_stats=True)\n      (downsample): Sequential(\n        (0): Conv2d(64, 128, kernel_size=(1, 1), stride=(2, 2), bias=False)\n        (1): BatchNorm2d(128, eps=1e-05, momentum=0.1, affine=True, track_running_stats=True)\n      )\n    )\n    (1): BasicBlock(\n      (conv1): Conv2d(128, 128, kernel_size=(3, 3), stride=(1, 1), padding=(1, 1), bias=False)\n      (bn1): BatchNorm2d(128, eps=1e-05, momentum=0.1, affine=True, track_running_stats=True)\n      (relu): ReLU(inplace=True)\n      (conv2): Conv2d(128, 128, kernel_size=(3, 3), stride=(1, 1), padding=(1, 1), bias=False)\n      (bn2): BatchNorm2d(128, eps=1e-05, momentum=0.1, affine=True, track_running_stats=True)\n    )\n  )\n  (layer3): Sequential(\n    (0): BasicBlock(\n      (conv1): Conv2d(128, 256, kernel_size=(3, 3), stride=(2, 2), padding=(1, 1), bias=False)\n      (bn1): BatchNorm2d(256, eps=1e-05, momentum=0.1, affine=True, track_running_stats=True)\n      (relu): ReLU(inplace=True)\n      (conv2): Conv2d(256, 256, kernel_size=(3, 3), stride=(1, 1), padding=(1, 1), bias=False)\n      (bn2): BatchNorm2d(256, eps=1e-05, momentum=0.1, affine=True, track_running_stats=True)\n      (downsample): Sequential(\n        (0): Conv2d(128, 256, kernel_size=(1, 1), stride=(2, 2), bias=False)\n        (1): BatchNorm2d(256, eps=1e-05, momentum=0.1, affine=True, track_running_stats=True)\n      )\n    )\n    (1): BasicBlock(\n      (conv1): Conv2d(256, 256, kernel_size=(3, 3), stride=(1, 1), padding=(1, 1), bias=False)\n      (bn1): BatchNorm2d(256, eps=1e-05, momentum=0.1, affine=True, track_running_stats=True)\n      (relu): ReLU(inplace=True)\n      (conv2): Conv2d(256, 256, kernel_size=(3, 3), stride=(1, 1), padding=(1, 1), bias=False)\n      (bn2): BatchNorm2d(256, eps=1e-05, momentum=0.1, affine=True, track_running_stats=True)\n    )\n  )\n  (layer4): Sequential(\n    (0): BasicBlock(\n      (conv1): Conv2d(256, 512, kernel_size=(3, 3), stride=(2, 2), padding=(1, 1), bias=False)\n      (bn1): BatchNorm2d(512, eps=1e-05, momentum=0.1, affine=True, track_running_stats=True)\n      (relu): ReLU(inplace=True)\n      (conv2): Conv2d(512, 512, kernel_size=(3, 3), stride=(1, 1), padding=(1, 1), bias=False)\n      (bn2): BatchNorm2d(512, eps=1e-05, momentum=0.1, affine=True, track_running_stats=True)\n      (downsample): Sequential(\n        (0): Conv2d(256, 512, kernel_size=(1, 1), stride=(2, 2), bias=False)\n        (1): BatchNorm2d(512, eps=1e-05, momentum=0.1, affine=True, track_running_stats=True)\n      )\n    )\n    (1): BasicBlock(\n      (conv1): Conv2d(512, 512, kernel_size=(3, 3), stride=(1, 1), padding=(1, 1), bias=False)\n      (bn1): BatchNorm2d(512, eps=1e-05, momentum=0.1, affine=True, track_running_stats=True)\n      (relu): ReLU(inplace=True)\n      (conv2): Conv2d(512, 512, kernel_size=(3, 3), stride=(1, 1), padding=(1, 1), bias=False)\n      (bn2): BatchNorm2d(512, eps=1e-05, momentum=0.1, affine=True, track_running_stats=True)\n    )\n  )\n  (avgpool): AdaptiveAvgPool2d(output_size=(1, 1))\n  (fc): Linear(in_features=512, out_features=1000, bias=True)\n)"
     },
     "execution_count": 6,
     "metadata": {},
     "output_type": "execute_result"
    }
   ],
   "source": [
    "net = torchvision.models.resnet18()"
   ],
   "metadata": {
    "collapsed": false,
    "ExecuteTime": {
     "end_time": "2023-09-17T08:31:31.963031900Z",
     "start_time": "2023-09-17T08:31:31.825987900Z"
    }
   }
  },
  {
   "cell_type": "markdown",
   "source": [
    "## 定义训练函数"
   ],
   "metadata": {
    "collapsed": false
   }
  },
  {
   "cell_type": "code",
   "execution_count": 2,
   "outputs": [],
   "source": [
    "import torch\n",
    "from matplotlib_inline import backend_inline\n",
    "import matplotlib.pyplot as plt\n",
    "from IPython import display\n",
    "import time\n",
    "from torch import nn\n",
    "import torchvision\n",
    "\n",
    "# 使用svg格式来展示图片\n",
    "def use_svg_display():\n",
    "    return backend_inline.set_matplotlib_formats(\"svg\")\n",
    "\n",
    "\n",
    "# 累加器类型\n",
    "class Accumulator:\n",
    "    def __init__(self, n):\n",
    "        self.data = [0.0] * n\n",
    "\n",
    "    def add(self, *args):\n",
    "        self.data = [a + float(b) for a, b in zip(self.data, args)]\n",
    "\n",
    "    def reset(self):\n",
    "        self.data = [0.0] * len(self.data)\n",
    "\n",
    "    def __getitem__(self, item):\n",
    "        return self.data[item]\n",
    "\n",
    "\n",
    "# 用于设置坐标轴\n",
    "def set_axes(axes, xlabel, ylabel, xlim, ylim, xscale, yscale, legend):\n",
    "    axes.set_xlabel(xlabel)\n",
    "    axes.set_ylabel(ylabel)\n",
    "    axes.set_xscale(xscale)\n",
    "    axes.set_yscale(yscale)\n",
    "    axes.set_xlim(xlim)\n",
    "    axes.set_ylim(ylim)\n",
    "    if legend:\n",
    "        axes.legend(legend)\n",
    "    axes.grid()\n",
    "\n",
    "\n",
    "# 展示正确率、错误率随训练轮数改变的曲线 这是一个动画类型！！！\n",
    "class Animator:\n",
    "    def __init__(self, xlabel=None, ylabel=None, legend=None, xlim=None, ylim=None,\n",
    "                 xscale='linear', yscale='linear',\n",
    "                 fmts=('-', 'm--', 'g-', 'r:'), nrows=1, ncols=1,\n",
    "                 figsize=(3.5, 2.5)):\n",
    "        if legend is None:\n",
    "            legend = []\n",
    "        use_svg_display()\n",
    "        self.fig, self.axes = plt.subplots(nrows, ncols, figsize=figsize)\n",
    "        if nrows * ncols == 1:\n",
    "            self.axes = [self.axes, ]  # 转换为列表用以统一数据结构\n",
    "        self.config_axes = lambda: set_axes(self.axes[0], xlabel, ylabel, xlim, ylim,\n",
    "                                            xscale, yscale, legend)\n",
    "        self.X, self.Y, self.fmts = None, None, fmts\n",
    "\n",
    "    def add(self, x, y):  # x,y包含多个数据点\n",
    "        if not hasattr(y, '__len__'):  # 判断y是否是一个可迭代类型（list等）\n",
    "            y = [y]\n",
    "        n = len(y)\n",
    "        if not hasattr(x, '__len__'):\n",
    "            x = [x] * n\n",
    "        if not self.X:\n",
    "            self.X = [[] for _ in range(n)]\n",
    "        if not self.Y:\n",
    "            self.Y = [[] for _ in range(n)]\n",
    "        for i, (a, b) in enumerate(zip(x, y)):  # 将要绘制的点的集合传入类中\n",
    "            if a is not None and b is not None:\n",
    "                self.X[i].append(a)\n",
    "                self.Y[i].append(b)\n",
    "        self.axes[0].cla()  # 清除该图上之前的内容，每次传进来的(x,y)是全体的，每一轮绘制从头绘制到最后一个点\n",
    "        for x, y, fmts in zip(self.X, self.Y, self.fmts):\n",
    "            self.axes[0].plot(x, y, fmts)  # 画图过程\n",
    "        self.config_axes()  # 配置axe的相关参数\n",
    "        display.display(self.fig)  # 显示绘制的图片\n",
    "        display.clear_output(wait=True)  # 清除notebook中的输出内容\n",
    "\n",
    "\n",
    "# 用于计数预测对的数量（多分类）\n",
    "def count_accurate(y_hat, y):\n",
    "    if len(y_hat.shape) > 1 and y_hat.shape[1] > 1:\n",
    "        y_hat = y_hat.argmax(axis=1)\n",
    "    correct_count = 0\n",
    "    for i in range(len(y_hat)):\n",
    "        if y_hat[i].type(y.dtype) == y[i]:\n",
    "            correct_count += 1\n",
    "    return float(correct_count)\n",
    "\n",
    "\n",
    "# 查询机器上所有可用的GPU\n",
    "def try_all_gpu():\n",
    "    devices = [torch.device(f'cuda:{i}') for i in range(torch.cuda.device_count())]\n",
    "    return devices if devices else torch.device('cpu')\n",
    "\n",
    "\n",
    "# 记录多任务训练时间\n",
    "class Timer:\n",
    "    def __init__(self):\n",
    "        self.times = []\n",
    "        self.start()\n",
    "\n",
    "    def start(self):\n",
    "        self.tik = time.time()\n",
    "\n",
    "    def stop(self):\n",
    "        self.times.append(time.time() - self.tik)\n",
    "        return self.times[-1]\n",
    "\n",
    "    def avg(self):\n",
    "        return (sum(self.times)) / (len(self.times))\n",
    "\n",
    "    def sum(self):\n",
    "        return sum(self.times)\n",
    "\n",
    "    def cumsum(self):\n",
    "        return np.array(self.times).cumsum().tolist()\n",
    "\n",
    "\n",
    "# GPU计算准确率\n",
    "def evaluate_accuracy_gpu(net, data_iter, device=None):\n",
    "    if isinstance(net, torch.nn.Module):\n",
    "        net.eval()\n",
    "        if not device:\n",
    "            device = next(iter(net.parameters())).device\n",
    "    metric = Accumulator(2)\n",
    "    for X, y in data_iter:\n",
    "        if isinstance(X, list):\n",
    "            X = [x.to(device) for x in X]\n",
    "        else:\n",
    "            X = X.to(device)\n",
    "        y = y.to(device)\n",
    "        metric.add(count_accurate(net(X), y), y.numel())\n",
    "    return metric[0] / metric[1]\n",
    "\n",
    "\n",
    "# 多GPU mini-batch训练函数\n",
    "def train_batch_gpus(net, X, y, loss, trainer, devices):\n",
    "    if isinstance(X, list):\n",
    "        X = [x.to(devices[0]) for x in X]\n",
    "    else:\n",
    "        X = X.to(devices[0])\n",
    "    y = y.to(devices[0])\n",
    "    net.train()  # 表示模型进入训练模式\n",
    "    trainer.zero_grad()  # 梯度清零\n",
    "    pred = net(X)  # 计算y_hat\n",
    "    l = loss(pred, y)  # 计算损失\n",
    "    l.sum().backward()  # 对损失求梯度\n",
    "    trainer.step()  # 用梯度更新模型参数\n",
    "    train_loss = l.sum()\n",
    "    train_acc_sum = count_accurate(pred, y)\n",
    "    return train_loss, train_acc_sum\n",
    "\n",
    "\n",
    "# 多GPU训练函数\n",
    "def train_gpus(net, train_iter, test_iter, loss, trainer, num_epochs, devices=try_all_gpu()):\n",
    "    timer, num_batches = Timer(), len(train_iter)\n",
    "    animator = Animator(xlabel='epoch', xlim=[1, num_epochs], ylim=[0, 5.0],\n",
    "                        legend=['train_loss', 'train_acc', 'test_acc'])\n",
    "    net = nn.DataParallel(net, device_ids=devices).to(devices[0])\n",
    "    best_test_acc = 0\n",
    "    for epoch in range(num_epochs):\n",
    "        metric = Accumulator(4)\n",
    "        for i, (features, labels) in enumerate(train_iter):\n",
    "            timer.start()\n",
    "            l, acc = train_batch_gpus(net, features, labels, loss, trainer, devices)\n",
    "            metric.add(l, acc, labels.shape[0], labels.numel())\n",
    "            \"\"\"\n",
    "            如果是分类问题，一个样本只有一个标签，这种情况下labels.shape[0]和labels.numel()没有区别\n",
    "            但是如果是多多标签分类问题，即一个样本有多个标签，那numel就会多于shape[0]\n",
    "            \"\"\"\n",
    "            timer.stop()\n",
    "            if (i + 1) % (num_batches // 5) == 0 or i == num_batches - 1:\n",
    "                animator.add(epoch + (i + 1) / num_batches, (metric[0] / metric[2], metric[1] / metric[3], None))\n",
    "                \"\"\"\n",
    "                计算平均损失率：总的损失/样本个数\n",
    "                计算训练正确率：正确的预测标签个数/总的预测标签个数\n",
    "                \"\"\"\n",
    "        test_acc = evaluate_accuracy_gpu(net, test_iter)\n",
    "        animator.add(epoch + 1, (None, None, test_acc))\n",
    "        if test_acc > best_test_acc:\n",
    "            torch.save(net.state_dict(), './pre_res_model.ckpt')\n",
    "            best_test_acc = test_acc\n",
    "    print(f'loss {metric[0] / metric[2]:.3f}, train_acc {metric[1] / metric[3]:.3f}, test_acc {test_acc:.3f}')\n",
    "    print((f'{metric[2] * num_epochs / timer.sum():.1f} examples/sec on ', f'{str(devices)}'))\n",
    "\n",
    "\n",
    "# 使用预训练参数进行训练的函数\n",
    "def train_fine_tuning(net, train_iter, test_iter, trainer, num_epochs, learning_rate, model_path='./pre_res_model.ckpt',\n",
    "                      param_group=True,\n",
    "                      devices=try_all_gpu()):\n",
    "    loss = nn.CrossEntropyLoss(reduction='none')\n",
    "    if param_group:\n",
    "        param_1x = [param for name, param in net.named_parameters() if\n",
    "                    name not in ['fc.weight', 'fc.bias']]  # net.named_parameters()返回每一层的变量名和变量的值\n",
    "        trainer = trainer([{'params': param_1x},\n",
    "                           {'params': net.fc.parameters(),\n",
    "                            'lr': learning_rate * 10}],\n",
    "                          lr=learning_rate, weight_decay=0.001)\n",
    "    else:\n",
    "        trainer = trainer(net.parameters(), lr=learning_rate, weight_decay=0.001)\n",
    "    train_gpus(net, train_iter, test_iter, loss, trainer, num_epochs, devices)"
   ],
   "metadata": {
    "collapsed": false,
    "ExecuteTime": {
     "end_time": "2023-09-17T08:28:44.250222200Z",
     "start_time": "2023-09-17T08:28:43.490436100Z"
    }
   }
  },
  {
   "cell_type": "code",
   "execution_count": null,
   "outputs": [],
   "source": [
    "# net = torchvision.models.resnet18()\n",
    "# net.fc = nn.Linear(net.fc.in_features, 5)\n",
    "# nn.init.xavier_uniform_(net.fc.weight)\n",
    "# trainer = torch.optim.Adam\n",
    "# num_epochs, lr = 20, 5e-5\n",
    "# train_fine_tuning(net, train_iter, valid_iter, trainer, num_epochs, lr)"
   ],
   "metadata": {
    "collapsed": false
   }
  },
  {
   "cell_type": "markdown",
   "source": [
    "## 正式训练并生成submission"
   ],
   "metadata": {
    "collapsed": false
   }
  },
  {
   "cell_type": "code",
   "execution_count": null,
   "outputs": [],
   "source": [
    "test_augs = torchvision.transforms.Compose([\n",
    "    torchvision.transforms.Resize(256),\n",
    "    torchvision.transforms.CenterCrop(224), # 从中心裁剪处224*224的图片\n",
    "    torchvision.transforms.ToTensor(),\n",
    "    normalize\n",
    "])\n",
    "train_set = MyCassavaLeafDataset(csv_path=train_csv_path, images_path=train_image_path, transform=train_augs, mode='train')\n",
    "train_iter = torch.utils.data.DataLoader(train_set, batch_size=128, shuffle=True)\n",
    "valid_set = MyCassavaLeafDataset(csv_path=train_csv_path, images_path=train_image_path, transform=valid_augs, mode='valid')\n",
    "valid_iter = torch.utils.data.DataLoader(valid_set, batch_size=128, shuffle=False)\n",
    "net = torchvision.models.resnet18()\n",
    "net.fc = nn.Linear(net.fc.in_features, 5)\n",
    "nn.init.xavier_uniform_(net.fc.weight)\n",
    "trainer = torch.optim.Adam\n",
    "num_epochs, lr = 20, 5e-5\n",
    "train_fine_tuning(net, train_iter, valid_iter, trainer, num_epochs, lr)"
   ],
   "metadata": {
    "collapsed": false
   }
  },
  {
   "cell_type": "code",
   "execution_count": 9,
   "outputs": [
    {
     "ename": "NameError",
     "evalue": "name 'test_image_path' is not defined",
     "output_type": "error",
     "traceback": [
      "\u001B[1;31m---------------------------------------------------------------------------\u001B[0m",
      "\u001B[1;31mNameError\u001B[0m                                 Traceback (most recent call last)",
      "Cell \u001B[1;32mIn[9], line 11\u001B[0m\n\u001B[0;32m      8\u001B[0m preds \u001B[38;5;241m=\u001B[39m []\n\u001B[0;32m      9\u001B[0m predictions \u001B[38;5;241m=\u001B[39m []\n\u001B[1;32m---> 11\u001B[0m images \u001B[38;5;241m=\u001B[39m np\u001B[38;5;241m.\u001B[39masarray([image \u001B[38;5;28;01mfor\u001B[39;00m image \u001B[38;5;129;01min\u001B[39;00m os\u001B[38;5;241m.\u001B[39mlistdir(\u001B[43mtest_image_path\u001B[49m)])\n\u001B[0;32m     12\u001B[0m \u001B[38;5;28;01mfor\u001B[39;00m single_image_name \u001B[38;5;129;01min\u001B[39;00m images:\n\u001B[0;32m     13\u001B[0m     \u001B[38;5;28;01mwith\u001B[39;00m torch\u001B[38;5;241m.\u001B[39mno_grad:\n",
      "\u001B[1;31mNameError\u001B[0m: name 'test_image_path' is not defined"
     ]
    }
   ],
   "source": [
    "net.eval()\n",
    "net = torchvision.models.resnet18()\n",
    "net.fc = nn.Linear(net.fc.in_features, 5)\n",
    "checkpoint = torch.load('./pre_res_model.ckpt')\n",
    "new_state_dict = {k[7:]: v for k, v in checkpoint.items() if 'module.' in k}\n",
    "net.load_state_dict(new_state_dict)\n",
    "preds = []\n",
    "predictions = []\n",
    "\n",
    "images = np.asarray([image for image in os.listdir(test_image_path)])\n",
    "for single_image_name in images:\n",
    "    with torch.no_grad():\n",
    "        image_for_test = test_augs(Image.open(os.path.join(test_image_path, single_image_name)))\n",
    "        ans = net(image_for_test.unsqueeze(0))\n",
    "        ans = ans.argmax(dim=-1).numpy()\n",
    "        preds.append(ans)\n",
    "\n",
    "df_sub = pd.DataFrame(columns=df_train.columns)\n",
    "df_sub['image_id'] = pd.DataFrame(images)\n",
    "df_sub['label'] = pd.DataFrame(preds)\n",
    "df_sub.to_csv('submission.csv', index=False)"
   ],
   "metadata": {
    "collapsed": false,
    "ExecuteTime": {
     "end_time": "2023-09-17T08:36:53.799869Z",
     "start_time": "2023-09-17T08:36:53.604842800Z"
    }
   }
  }
 ],
 "metadata": {
  "kernelspec": {
   "display_name": "Python 3",
   "language": "python",
   "name": "python3"
  },
  "language_info": {
   "codemirror_mode": {
    "name": "ipython",
    "version": 2
   },
   "file_extension": ".py",
   "mimetype": "text/x-python",
   "name": "python",
   "nbconvert_exporter": "python",
   "pygments_lexer": "ipython2",
   "version": "2.7.6"
  }
 },
 "nbformat": 4,
 "nbformat_minor": 0
}
