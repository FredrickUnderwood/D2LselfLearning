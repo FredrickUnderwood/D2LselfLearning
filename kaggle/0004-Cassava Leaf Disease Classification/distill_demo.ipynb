{
 "cells": [
  {
   "cell_type": "code",
   "execution_count": 1,
   "outputs": [],
   "source": [
    "import torch\n",
    "from torch import nn\n",
    "import torchvision\n",
    "from torchvision import datasets, transforms\n",
    "from torch.utils import data\n",
    "from torch.nn import functional as F"
   ],
   "metadata": {
    "collapsed": false,
    "ExecuteTime": {
     "end_time": "2023-11-06T11:45:40.506325900Z",
     "start_time": "2023-11-06T11:45:38.224532600Z"
    }
   },
   "id": "a116e377d4b00c83"
  },
  {
   "cell_type": "code",
   "execution_count": 2,
   "outputs": [],
   "source": [
    "def load_data_from_FashionMNIST(batch_size, resize=None):\n",
    "    trans = [transforms.ToTensor()]\n",
    "    if resize:\n",
    "        trans.insert(0, transforms.Resize(resize))  # 用于调整图片大小\n",
    "    trans = transforms.Compose(trans)  # compose用于将多个transform组合操作\n",
    "    train_set = torchvision.datasets.FashionMNIST(root='./data', train=True, transform=trans, download=True)\n",
    "    test_set = torchvision.datasets.FashionMNIST(root='./data', train=False, transform=trans, download=True)\n",
    "    workers_num = 4\n",
    "    return data.DataLoader(train_set, batch_size, shuffle=True, num_workers=workers_num), \\\n",
    "        data.DataLoader(test_set, batch_size, shuffle=False, num_workers=workers_num)"
   ],
   "metadata": {
    "collapsed": false,
    "ExecuteTime": {
     "end_time": "2023-11-06T11:45:40.520873700Z",
     "start_time": "2023-11-06T11:45:40.505729200Z"
    }
   },
   "id": "initial_id"
  },
  {
   "cell_type": "code",
   "execution_count": 3,
   "outputs": [],
   "source": [
    "train_loader, test_loader = load_data_from_FashionMNIST(256)"
   ],
   "metadata": {
    "collapsed": false,
    "ExecuteTime": {
     "end_time": "2023-11-06T11:45:40.583703200Z",
     "start_time": "2023-11-06T11:45:40.508913Z"
    }
   },
   "id": "6ac0c496f8a3e9ca"
  },
  {
   "cell_type": "code",
   "execution_count": 4,
   "outputs": [],
   "source": [
    "def to_one_hot(test_batch):\n",
    "    batch_size = test_batch.shape[0]\n",
    "    one_hot = torch.zeros(size=(batch_size, 10))\n",
    "    for i in range(batch_size):\n",
    "        label = int(test_batch[i])\n",
    "        one_hot[i][label] = 1\n",
    "    return one_hot"
   ],
   "metadata": {
    "collapsed": false,
    "ExecuteTime": {
     "end_time": "2023-11-06T11:45:40.595816100Z",
     "start_time": "2023-11-06T11:45:40.584756100Z"
    }
   },
   "id": "ab92e0b1e6a4cbe"
  },
  {
   "cell_type": "code",
   "execution_count": 5,
   "outputs": [],
   "source": [
    "class MLP(nn.Module):\n",
    "    def __init__(self):\n",
    "        super(MLP, self).__init__()\n",
    "        self.flatten = nn.Flatten()\n",
    "        self.fc1 = nn.Linear(784, 256)\n",
    "        self.relu = nn.ReLU()\n",
    "        self.fc2 = nn.Linear(256, 10)\n",
    "    def forward(self, x):\n",
    "        x = self.flatten(x)\n",
    "        x = self.fc1(x)\n",
    "        x = self.relu(x)\n",
    "        x = self.fc2(x)\n",
    "        return x\n",
    "import torch.nn as nn\n",
    "\n",
    "class LeNet(nn.Module):\n",
    "    def __init__(self):\n",
    "        super(LeNet, self).__init__()\n",
    "        self.conv1 = nn.Conv2d(1, 6, kernel_size=5, padding=2)\n",
    "        self.pool = nn.MaxPool2d(kernel_size=2, stride=2)\n",
    "        self.conv2 = nn.Conv2d(6, 16, kernel_size=5)\n",
    "        self.flatten = nn.Flatten()\n",
    "        # Adjust the following line if input dimensions change\n",
    "        self.fc1 = nn.Linear(16 * 5 * 5, 120)  \n",
    "        self.fc2 = nn.Linear(120, 84)\n",
    "        self.fc3 = nn.Linear(84, 10)\n",
    "        self.relu = nn.ReLU()\n",
    "\n",
    "    def forward(self, x):\n",
    "        x = self.relu(self.conv1(x))\n",
    "        x = self.pool(x)\n",
    "        x = self.relu(self.conv2(x))\n",
    "        x = self.pool(x)\n",
    "        x = self.flatten(x)\n",
    "        x = self.relu(self.fc1(x))\n",
    "        x = self.relu(self.fc2(x))\n",
    "        x = self.fc3(x)  # No activation here if using nn.CrossEntropyLoss\n",
    "        return x\n"
   ],
   "metadata": {
    "collapsed": false,
    "ExecuteTime": {
     "end_time": "2023-11-06T11:45:40.596892300Z",
     "start_time": "2023-11-06T11:45:40.587119700Z"
    }
   },
   "id": "4ced0b1564dd3524"
  },
  {
   "cell_type": "code",
   "execution_count": 6,
   "outputs": [],
   "source": [
    "class Accumulator:\n",
    "    def __init__(self, n):\n",
    "        self.data = [0.0] * n\n",
    "\n",
    "    def add(self, *args):\n",
    "        self.data = [a + float(b) for a, b in zip(self.data, args)]\n",
    "\n",
    "    def reset(self):\n",
    "        self.data = [0.0] * len(self.data)\n",
    "\n",
    "    def __getitem__(self, item):\n",
    "        return self.data[item]\n",
    "def count_accurate(y_hat, y):\n",
    "    if len(y_hat.shape) > 1 and y_hat.shape[1] > 1:\n",
    "        y_hat = y_hat.argmax(axis=1)\n",
    "    correct_count = 0\n",
    "    for i in range(len(y_hat)):\n",
    "        if y_hat[i].type(y.dtype) == y[i]:\n",
    "            correct_count += 1\n",
    "    return float(correct_count)\n",
    "def calc_accuracy(net, data_iter):\n",
    "    if isinstance(net, torch.nn.Module):\n",
    "        net.eval()  # 进入评估模式\n",
    "    metric = Accumulator(2)\n",
    "    with torch.no_grad():\n",
    "        for X, y in data_iter:\n",
    "            metric.add(count_accurate(net(X), y), y.numel())\n",
    "    return metric[0] / metric[1]"
   ],
   "metadata": {
    "collapsed": false,
    "ExecuteTime": {
     "end_time": "2023-11-06T11:45:40.596892300Z",
     "start_time": "2023-11-06T11:45:40.594375200Z"
    }
   },
   "id": "342aa3a63b0ce35a"
  },
  {
   "cell_type": "code",
   "execution_count": 7,
   "outputs": [
    {
     "name": "stdout",
     "output_type": "stream",
     "text": [
      "student model training\n",
      "loss:3.0192267894744873, train_acc:0.5307166666666666, test_acc:0.6516\n",
      "loss:1.970055103302002, train_acc:0.6667166666666666, test_acc:0.6588\n",
      "loss:1.626470923423767, train_acc:0.6799, test_acc:0.6712\n",
      "loss:1.4566562175750732, train_acc:0.7018833333333333, test_acc:0.7057\n",
      "loss:1.3486512899398804, train_acc:0.73075, test_acc:0.7297\n",
      "loss:1.2700363397598267, train_acc:0.7522333333333333, test_acc:0.7481\n",
      "loss:1.2082586288452148, train_acc:0.76695, test_acc:0.7632\n",
      "loss:1.1580709218978882, train_acc:0.7793833333333333, test_acc:0.7731\n",
      "loss:1.1164493560791016, train_acc:0.7902333333333333, test_acc:0.7837\n",
      "loss:1.0817862749099731, train_acc:0.7976, test_acc:0.7856\n",
      "loss:1.0526635646820068, train_acc:0.80405, test_acc:0.7944\n",
      "loss:1.0276020765304565, train_acc:0.8084666666666667, test_acc:0.7977\n",
      "loss:1.0055186748504639, train_acc:0.8128, test_acc:0.8028\n",
      "loss:0.9866871237754822, train_acc:0.8168833333333333, test_acc:0.8082\n",
      "loss:0.9700549244880676, train_acc:0.8195166666666667, test_acc:0.8077\n",
      "loss:0.9545307755470276, train_acc:0.8226166666666667, test_acc:0.8106\n",
      "loss:0.9409412145614624, train_acc:0.8247833333333333, test_acc:0.8135\n",
      "loss:0.92860347032547, train_acc:0.8269333333333333, test_acc:0.815\n",
      "loss:0.9172943830490112, train_acc:0.8291166666666666, test_acc:0.8174\n",
      "loss:0.9068481922149658, train_acc:0.831, test_acc:0.8196\n"
     ]
    }
   ],
   "source": [
    "num_epochs = 20\n",
    "lr1 = 0.1\n",
    "student_model = MLP()\n",
    "optimizer_s = torch.optim.SGD(params=student_model.parameters(), lr=lr1)\n",
    "criterion = F.binary_cross_entropy_with_logits\n",
    "# student model\n",
    "print(\"student model training\")\n",
    "for _ in range(num_epochs):\n",
    "    total_loss1 = 0\n",
    "    train_correct = 0\n",
    "    train_num = 0\n",
    "    student_model.train()\n",
    "    for x, y in train_loader:\n",
    "        one_hot_labels = to_one_hot(y)\n",
    "        pred1 = student_model(x)\n",
    "        train_num += one_hot_labels.shape[0]\n",
    "        train_correct += count_accurate(pred1, y)\n",
    "        l1 = criterion(pred1, one_hot_labels, reduction='none')\n",
    "        optimizer_s.zero_grad()\n",
    "        l1.mean().backward()\n",
    "        optimizer_s.step()\n",
    "        total_loss1 += l1.sum()\n",
    "    train_acc = train_correct / train_num\n",
    "    test_acc = calc_accuracy(student_model, test_loader)\n",
    "    print(f'loss:{total_loss1 / train_num}, train_acc:{train_acc}, test_acc:{test_acc}')"
   ],
   "metadata": {
    "collapsed": false,
    "ExecuteTime": {
     "end_time": "2023-11-06T11:47:30.012660700Z",
     "start_time": "2023-11-06T11:45:40.597927800Z"
    }
   },
   "id": "213c076a27edb96b"
  },
  {
   "cell_type": "code",
   "execution_count": 8,
   "outputs": [
    {
     "name": "stdout",
     "output_type": "stream",
     "text": [
      "teacher model training\n",
      "loss:2.3286850452423096, train_acc:0.47696666666666665, test_acc:0.7064\n",
      "loss:1.103438377380371, train_acc:0.75505, test_acc:0.7658\n",
      "loss:0.9096980690956116, train_acc:0.8043166666666667, test_acc:0.7987\n",
      "loss:0.8129816651344299, train_acc:0.829, test_acc:0.8345\n",
      "loss:0.741916835308075, train_acc:0.8459166666666667, test_acc:0.8529\n",
      "loss:0.692064106464386, train_acc:0.85575, test_acc:0.8297\n",
      "loss:0.6487722396850586, train_acc:0.8658333333333333, test_acc:0.8579\n",
      "loss:0.622210681438446, train_acc:0.8725666666666667, test_acc:0.8541\n",
      "loss:0.594935953617096, train_acc:0.8773666666666666, test_acc:0.8591\n",
      "loss:0.5793455839157104, train_acc:0.8813, test_acc:0.8544\n",
      "loss:0.5590655207633972, train_acc:0.88565, test_acc:0.8719\n",
      "loss:0.5408010482788086, train_acc:0.8895166666666666, test_acc:0.8777\n",
      "loss:0.5255268812179565, train_acc:0.8934166666666666, test_acc:0.8793\n",
      "loss:0.5084717273712158, train_acc:0.8966833333333334, test_acc:0.8576\n",
      "loss:0.49864572286605835, train_acc:0.8981333333333333, test_acc:0.8633\n",
      "loss:0.48328956961631775, train_acc:0.9018166666666667, test_acc:0.8728\n",
      "loss:0.4763467013835907, train_acc:0.90265, test_acc:0.8784\n",
      "loss:0.46304136514663696, train_acc:0.9057, test_acc:0.8835\n",
      "loss:0.457679808139801, train_acc:0.9069333333333334, test_acc:0.8837\n",
      "loss:0.44520288705825806, train_acc:0.9101833333333333, test_acc:0.8751\n"
     ]
    }
   ],
   "source": [
    "num_epochs = 20\n",
    "lr2 = 0.9\n",
    "teacher_model = LeNet()\n",
    "optimizer_t = torch.optim.SGD(params=teacher_model.parameters(), lr=lr2)\n",
    "# teacher model\n",
    "print(\"teacher model training\")\n",
    "for _ in range(num_epochs):\n",
    "    total_loss2 = 0\n",
    "    train_correct = 0\n",
    "    train_num = 0\n",
    "    teacher_model.train()\n",
    "    for x, y in train_loader:\n",
    "        one_hot_labels = to_one_hot(y)\n",
    "        pred2 = teacher_model(x)\n",
    "        train_num += one_hot_labels.shape[0]\n",
    "        train_correct += count_accurate(pred2, y)\n",
    "        l2 = criterion(pred2, one_hot_labels, reduction='none')\n",
    "        optimizer_t.zero_grad()\n",
    "        l2.mean().backward()\n",
    "        optimizer_t.step()\n",
    "        total_loss2 += l2.sum()\n",
    "    train_acc = train_correct / train_num\n",
    "    test_acc = calc_accuracy(teacher_model, test_loader)\n",
    "    print(f'loss:{total_loss2 / train_num}, train_acc:{train_acc}, test_acc:{test_acc}')"
   ],
   "metadata": {
    "collapsed": false,
    "ExecuteTime": {
     "end_time": "2023-11-06T11:51:08.328231Z",
     "start_time": "2023-11-06T11:47:30.015745400Z"
    }
   },
   "id": "89773f3ee24bb6be"
  },
  {
   "cell_type": "code",
   "execution_count": 11,
   "outputs": [
    {
     "name": "stdout",
     "output_type": "stream",
     "text": [
      "distill training\n",
      "loss:1.8577848672866821, train_acc:0.6235666666666667, test_acc:0.6999\n",
      "loss:1.1260950565338135, train_acc:0.7608666666666667, test_acc:0.7715\n",
      "loss:0.9580980539321899, train_acc:0.7983333333333333, test_acc:0.798\n",
      "loss:0.8693897724151611, train_acc:0.8115666666666667, test_acc:0.803\n",
      "loss:0.8128560185432434, train_acc:0.8203666666666667, test_acc:0.7985\n",
      "loss:0.7778867483139038, train_acc:0.8237, test_acc:0.8148\n",
      "loss:0.7482032179832458, train_acc:0.8277833333333333, test_acc:0.8106\n",
      "loss:0.7225842475891113, train_acc:0.8323333333333334, test_acc:0.8185\n",
      "loss:0.7027120590209961, train_acc:0.8356666666666667, test_acc:0.8201\n",
      "loss:0.6861705183982849, train_acc:0.8387, test_acc:0.8196\n",
      "loss:0.6714637279510498, train_acc:0.8411166666666666, test_acc:0.8333\n",
      "loss:0.6561890244483948, train_acc:0.8437166666666667, test_acc:0.8343\n",
      "loss:0.6449607610702515, train_acc:0.8450333333333333, test_acc:0.8279\n",
      "loss:0.6346712708473206, train_acc:0.8467666666666667, test_acc:0.8338\n",
      "loss:0.6239718794822693, train_acc:0.8478, test_acc:0.8386\n",
      "loss:0.6139463186264038, train_acc:0.8505333333333334, test_acc:0.8359\n",
      "loss:0.6058804392814636, train_acc:0.8517833333333333, test_acc:0.8376\n",
      "loss:0.5979458689689636, train_acc:0.8526666666666667, test_acc:0.8348\n",
      "loss:0.5906743407249451, train_acc:0.8535333333333334, test_acc:0.8405\n",
      "loss:0.5833060145378113, train_acc:0.8555166666666667, test_acc:0.84\n"
     ]
    }
   ],
   "source": [
    "# distill\n",
    "num_epochs = 20\n",
    "print(\"distill training\")\n",
    "teacher_model.eval()\n",
    "student_model = MLP()\n",
    "optimizer_s = torch.optim.SGD(params=student_model.parameters(), lr=0.5)\n",
    "for _ in range(num_epochs):\n",
    "    total_loss1 = 0\n",
    "    train_correct = 0\n",
    "    train_num = 0\n",
    "    student_model.train()\n",
    "    for x, y in train_loader:\n",
    "        one_hot_labels = teacher_model(x)\n",
    "        one_hot_labels = F.softmax(one_hot_labels, dim=1)\n",
    "        pred1 = student_model(x)\n",
    "        train_num += one_hot_labels.shape[0]\n",
    "        train_correct += count_accurate(pred1, y)\n",
    "        l1 = criterion(pred1, one_hot_labels, reduction='none')\n",
    "        optimizer_s.zero_grad()\n",
    "        l1.mean().backward()\n",
    "        optimizer_s.step()\n",
    "        total_loss1 += l1.sum()\n",
    "    train_acc = train_correct / train_num\n",
    "    test_acc = calc_accuracy(student_model, test_loader)\n",
    "    print(f'loss:{total_loss1 / train_num}, train_acc:{train_acc}, test_acc:{test_acc}')"
   ],
   "metadata": {
    "collapsed": false,
    "ExecuteTime": {
     "end_time": "2023-11-06T12:17:21.613700700Z",
     "start_time": "2023-11-06T12:14:47.911142800Z"
    }
   },
   "id": "53f83fc5a7b792c5"
  }
 ],
 "metadata": {
  "kernelspec": {
   "display_name": "Python 3",
   "language": "python",
   "name": "python3"
  },
  "language_info": {
   "codemirror_mode": {
    "name": "ipython",
    "version": 2
   },
   "file_extension": ".py",
   "mimetype": "text/x-python",
   "name": "python",
   "nbconvert_exporter": "python",
   "pygments_lexer": "ipython2",
   "version": "2.7.6"
  }
 },
 "nbformat": 4,
 "nbformat_minor": 5
}
