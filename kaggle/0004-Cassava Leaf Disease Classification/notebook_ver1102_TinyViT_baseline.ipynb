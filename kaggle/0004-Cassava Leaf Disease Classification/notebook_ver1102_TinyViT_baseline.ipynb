{
 "cells": [
  {
   "cell_type": "markdown",
   "source": [
    "# import"
   ],
   "metadata": {
    "collapsed": false
   }
  },
  {
   "cell_type": "code",
   "execution_count": null,
   "outputs": [],
   "source": [
    "# !pip install --upgrade timm\n",
    "# !pip uninstall torch\n",
    "# !pip install torch==2.0.1"
   ],
   "metadata": {
    "collapsed": false
   }
  },
  {
   "cell_type": "code",
   "execution_count": 5,
   "outputs": [],
   "source": [
    "import torch\n",
    "from torch import nn\n",
    "import torch.nn.functional as F\n",
    "import torchvision\n",
    "import math\n",
    "import matplotlib.pyplot as plt\n",
    "import albumentations as A\n",
    "from albumentations.pytorch import ToTensorV2\n",
    "from torch.utils.data import Dataset\n",
    "import pandas as pd\n",
    "import numpy as np\n",
    "from  PIL import Image\n",
    "import os\n",
    "import random\n",
    "from tqdm import tqdm\n",
    "import timm\n",
    "import sys\n",
    "sys.path.insert(0, '../input/tiny-vit-model')\n",
    "import tiny_vit"
   ],
   "metadata": {
    "collapsed": false,
    "ExecuteTime": {
     "end_time": "2023-11-02T08:19:59.316484300Z",
     "start_time": "2023-11-02T08:19:59.305609500Z"
    }
   }
  },
  {
   "cell_type": "markdown",
   "source": [
    "# 定义参数"
   ],
   "metadata": {
    "collapsed": false
   }
  },
  {
   "cell_type": "code",
   "execution_count": 6,
   "outputs": [],
   "source": [
    "INPUT_PATH = '../input/mymodelparam'\n",
    "TRAIN_CSV_PATH = '../input/cassava-leaf-disease-classification/train.csv'\n",
    "TRAIN_IMAGE_PATH = '../input/cassava-leaf-disease-classification/train_images/'\n",
    "TEST_IMAGE_PATH = '../input/cassava-leaf-disease-classification/test_images/'\n",
    "SUBMISSION_PATH = 'submission.csv'\n",
    "DEVICES = [torch.device(f'cuda:{i}') for i in range(torch.cuda.device_count())]\n",
    "OUT_CLASSES = 5\n",
    "NUM_EPOCHS = 13\n",
    "BATCH_SIZE = 16\n",
    "IMAGE_SIZE =  512\n",
    "OPTIMIZER = torch.optim.AdamW\n",
    "SEED = 42\n",
    "LR_START = 1e-5\n",
    "LR_MAX = 2e-4\n",
    "LR_FINAL = 1e-5\n",
    "TTA = 5\n",
    "T1 = 0.8\n",
    "T2 = 1.4\n",
    "SMOOTHING = 0.06"
   ],
   "metadata": {
    "collapsed": false,
    "ExecuteTime": {
     "end_time": "2023-11-02T08:20:00.389139300Z",
     "start_time": "2023-11-02T08:20:00.284687900Z"
    }
   }
  },
  {
   "cell_type": "markdown",
   "source": [
    "# tr1.损失函数\n",
    "1st solution's loss\n",
    "1. B4: Sigmoid Focal Cross Entropy Loss: is good for class imbalance problems / label smoothing\n",
    "2. ResNeXt50: Cross Entropy Loss\n",
    "3. ViT: bi-tempered-loss"
   ],
   "metadata": {
    "collapsed": false
   }
  },
  {
   "cell_type": "code",
   "execution_count": null,
   "outputs": [],
   "source": [
    "import torch\n",
    "\n",
    "\n",
    "def log_t(u, t):\n",
    "    \"\"\"Compute log_t for `u'.\"\"\"\n",
    "    if t == 1.0:\n",
    "        return u.log()\n",
    "    else:\n",
    "        return (u.pow(1.0 - t) - 1.0) / (1.0 - t)\n",
    "\n",
    "\n",
    "def exp_t(u, t):\n",
    "    \"\"\"Compute exp_t for `u'.\"\"\"\n",
    "    if t == 1:\n",
    "        return u.exp()\n",
    "    else:\n",
    "        return (1.0 + (1.0 - t) * u).relu().pow(1.0 / (1.0 - t))\n",
    "\n",
    "\n",
    "def compute_normalization_fixed_point(activations, t, num_iters):\n",
    "    \"\"\"Returns the normalization value for each example (t > 1.0).\n",
    "\n",
    "    Args:\n",
    "      activations: A multi-dimensional tensor with last dimension `num_classes`.\n",
    "      t: Temperature 2 (> 1.0 for tail heaviness).\n",
    "      num_iters: Number of iterations to run the method.\n",
    "    Return: A tensor of same shape as activation with the last dimension being 1.\n",
    "    \"\"\"\n",
    "    mu, _ = torch.max(activations, -1, keepdim=True)\n",
    "    normalized_activations_step_0 = activations - mu\n",
    "\n",
    "    normalized_activations = normalized_activations_step_0\n",
    "\n",
    "    for _ in range(num_iters):\n",
    "        logt_partition = torch.sum(\n",
    "            exp_t(normalized_activations, t), -1, keepdim=True)\n",
    "        normalized_activations = normalized_activations_step_0 * \\\n",
    "                                 logt_partition.pow(1.0 - t)\n",
    "\n",
    "    logt_partition = torch.sum(\n",
    "        exp_t(normalized_activations, t), -1, keepdim=True)\n",
    "    normalization_constants = - log_t(1.0 / logt_partition, t) + mu\n",
    "\n",
    "    return normalization_constants\n",
    "\n",
    "\n",
    "def compute_normalization_binary_search(activations, t, num_iters):\n",
    "    \"\"\"Returns the normalization value for each example (t < 1.0).\n",
    "\n",
    "    Args:\n",
    "      activations: A multi-dimensional tensor with last dimension `num_classes`.\n",
    "      t: Temperature 2 (< 1.0 for finite support).\n",
    "      num_iters: Number of iterations to run the method.\n",
    "    Return: A tensor of same rank as activation with the last dimension being 1.\n",
    "    \"\"\"\n",
    "\n",
    "    mu, _ = torch.max(activations, -1, keepdim=True)\n",
    "    normalized_activations = activations - mu\n",
    "\n",
    "    effective_dim = \\\n",
    "        torch.sum(\n",
    "            (normalized_activations > -1.0 / (1.0 - t)).to(torch.int32),\n",
    "            dim=-1, keepdim=True).to(activations.dtype)\n",
    "\n",
    "    shape_partition = activations.shape[:-1] + (1,)\n",
    "    lower = torch.zeros(shape_partition, dtype=activations.dtype, device=activations.device)\n",
    "    upper = -log_t(1.0 / effective_dim, t) * torch.ones_like(lower)\n",
    "\n",
    "    for _ in range(num_iters):\n",
    "        logt_partition = (upper + lower) / 2.0\n",
    "        sum_probs = torch.sum(\n",
    "            exp_t(normalized_activations - logt_partition, t),\n",
    "            dim=-1, keepdim=True)\n",
    "        update = (sum_probs < 1.0).to(activations.dtype)\n",
    "        lower = torch.reshape(\n",
    "            lower * update + (1.0 - update) * logt_partition,\n",
    "            shape_partition)\n",
    "        upper = torch.reshape(\n",
    "            upper * (1.0 - update) + update * logt_partition,\n",
    "            shape_partition)\n",
    "\n",
    "    logt_partition = (upper + lower) / 2.0\n",
    "    return logt_partition + mu\n",
    "\n",
    "\n",
    "class ComputeNormalization(torch.autograd.Function):\n",
    "    \"\"\"\n",
    "    Class implementing custom backward pass for compute_normalization. See compute_normalization.\n",
    "    \"\"\"\n",
    "\n",
    "    @staticmethod\n",
    "    def forward(ctx, activations, t, num_iters):\n",
    "        if t < 1.0:\n",
    "            normalization_constants = compute_normalization_binary_search(activations, t, num_iters)\n",
    "        else:\n",
    "            normalization_constants = compute_normalization_fixed_point(activations, t, num_iters)\n",
    "\n",
    "        ctx.save_for_backward(activations, normalization_constants)\n",
    "        ctx.t = t\n",
    "        return normalization_constants\n",
    "\n",
    "    @staticmethod\n",
    "    def backward(ctx, grad_output):\n",
    "        activations, normalization_constants = ctx.saved_tensors\n",
    "        t = ctx.t\n",
    "        normalized_activations = activations - normalization_constants\n",
    "        probabilities = exp_t(normalized_activations, t)\n",
    "        escorts = probabilities.pow(t)\n",
    "        escorts = escorts / escorts.sum(dim=-1, keepdim=True)\n",
    "        grad_input = escorts * grad_output\n",
    "\n",
    "        return grad_input, None, None\n",
    "\n",
    "\n",
    "def compute_normalization(activations, t, num_iters=5):\n",
    "    \"\"\"Returns the normalization value for each example.\n",
    "    Backward pass is implemented.\n",
    "    Args:\n",
    "      activations: A multi-dimensional tensor with last dimension `num_classes`.\n",
    "      t: Temperature 2 (> 1.0 for tail heaviness, < 1.0 for finite support).\n",
    "      num_iters: Number of iterations to run the method.\n",
    "    Return: A tensor of same rank as activation with the last dimension being 1.\n",
    "    \"\"\"\n",
    "    return ComputeNormalization.apply(activations, t, num_iters)\n",
    "\n",
    "\n",
    "def tempered_sigmoid(activations, t, num_iters=5):\n",
    "    \"\"\"Tempered sigmoid function.\n",
    "\n",
    "    Args:\n",
    "      activations: Activations for the positive class for binary classification.\n",
    "      t: Temperature tensor > 0.0.\n",
    "      num_iters: Number of iterations to run the method.\n",
    "\n",
    "    Returns:\n",
    "      A probabilities tensor.\n",
    "    \"\"\"\n",
    "    internal_activations = torch.stack([activations,\n",
    "                                        torch.zeros_like(activations)],\n",
    "                                       dim=-1)\n",
    "    internal_probabilities = tempered_softmax(internal_activations, t, num_iters)\n",
    "    return internal_probabilities[..., 0]\n",
    "\n",
    "\n",
    "def tempered_softmax(activations, t, num_iters=5):\n",
    "    \"\"\"Tempered softmax function.\n",
    "    Args:\n",
    "      activations: A multi-dimensional tensor with last dimension `num_classes`.\n",
    "      t: Temperature > 1.0.\n",
    "      num_iters: Number of iterations to run the method.\n",
    "    Returns:\n",
    "      A probabilities tensor.\n",
    "    \"\"\"\n",
    "    if t == 1.0:\n",
    "        return activations.softmax(dim=-1)\n",
    "\n",
    "    normalization_constants = compute_normalization(activations, t, num_iters)\n",
    "    return exp_t(activations - normalization_constants, t)\n",
    "\n",
    "\n",
    "def bi_tempered_binary_logistic_loss(activations,\n",
    "                                     labels,\n",
    "                                     t1,\n",
    "                                     t2,\n",
    "                                     label_smoothing=0.0,\n",
    "                                     num_iters=5,\n",
    "                                     reduction='mean'):\n",
    "    \"\"\"Bi-Tempered binary logistic loss.\n",
    "\n",
    "    Args:\n",
    "      activations: A tensor containing activations for class 1.\n",
    "      labels: A tensor with shape as activations, containing probabilities for class 1\n",
    "      t1: Temperature 1 (< 1.0 for boundedness).\n",
    "      t2: Temperature 2 (> 1.0 for tail heaviness, < 1.0 for finite support).\n",
    "      label_smoothing: Label smoothing\n",
    "      num_iters: Number of iterations to run the method.\n",
    "\n",
    "    Returns:\n",
    "      A loss tensor.\n",
    "    \"\"\"\n",
    "    internal_activations = torch.stack([activations,\n",
    "                                        torch.zeros_like(activations)],\n",
    "                                       dim=-1)\n",
    "    internal_labels = torch.stack([labels.to(activations.dtype),\n",
    "                                   1.0 - labels.to(activations.dtype)],\n",
    "                                  dim=-1)\n",
    "    return bi_tempered_logistic_loss(internal_activations,\n",
    "                                     internal_labels,\n",
    "                                     t1,\n",
    "                                     t2,\n",
    "                                     label_smoothing=label_smoothing,\n",
    "                                     num_iters=num_iters,\n",
    "                                     reduction=reduction)\n",
    "\n",
    "\n",
    "def bi_tempered_logistic_loss(activations,\n",
    "                              labels,\n",
    "                              t1,\n",
    "                              t2,\n",
    "                              label_smoothing=0.0,\n",
    "                              num_iters=5,\n",
    "                              reduction='mean'):\n",
    "    \"\"\"Bi-Tempered Logistic Loss.\n",
    "    Args:\n",
    "      activations: A multi-dimensional tensor with last dimension `num_classes`.\n",
    "      labels: A tensor with shape and dtype as activations (onehot),\n",
    "        or a long tensor of one dimension less than activations (pytorch standard)\n",
    "      t1: Temperature 1 (< 1.0 for boundedness).\n",
    "      t2: Temperature 2 (> 1.0 for tail heaviness, < 1.0 for finite support).\n",
    "      label_smoothing: Label smoothing parameter between [0, 1). Default 0.0.\n",
    "      num_iters: Number of iterations to run the method. Default 5.\n",
    "      reduction: ``'none'`` | ``'mean'`` | ``'sum'``. Default ``'mean'``.\n",
    "        ``'none'``: No reduction is applied, return shape is shape of\n",
    "        activations without the last dimension.\n",
    "        ``'mean'``: Loss is averaged over minibatch. Return shape (1,)\n",
    "        ``'sum'``: Loss is summed over minibatch. Return shape (1,)\n",
    "    Returns:\n",
    "      A loss tensor.\n",
    "    \"\"\"\n",
    "\n",
    "    if len(labels.shape) < len(activations.shape):  # not one-hot\n",
    "        labels_onehot = torch.zeros_like(activations)\n",
    "        labels_onehot.scatter_(1, labels[..., None], 1)\n",
    "    else:\n",
    "        labels_onehot = labels\n",
    "\n",
    "    if label_smoothing > 0:\n",
    "        num_classes = labels_onehot.shape[-1]\n",
    "        labels_onehot = (1 - label_smoothing * num_classes / (num_classes - 1)) \\\n",
    "                        * labels_onehot + \\\n",
    "                        label_smoothing / (num_classes - 1)\n",
    "\n",
    "    probabilities = tempered_softmax(activations, t2, num_iters)\n",
    "\n",
    "    loss_values = labels_onehot * log_t(labels_onehot + 1e-10, t1) \\\n",
    "                  - labels_onehot * log_t(probabilities, t1) \\\n",
    "                  - labels_onehot.pow(2.0 - t1) / (2.0 - t1) \\\n",
    "                  + probabilities.pow(2.0 - t1) / (2.0 - t1)\n",
    "    loss_values = loss_values.sum(dim=-1)  # sum over classes\n",
    "\n",
    "    if reduction == 'none':\n",
    "        return loss_values\n",
    "    if reduction == 'sum':\n",
    "        return loss_values.sum()\n",
    "    if reduction == 'mean':\n",
    "        return loss_values.mean()\n"
   ],
   "metadata": {
    "collapsed": false
   }
  },
  {
   "cell_type": "markdown",
   "source": [
    "# tr2.learning_rate"
   ],
   "metadata": {
    "collapsed": false
   }
  },
  {
   "cell_type": "code",
   "execution_count": 4,
   "outputs": [
    {
     "data": {
      "text/plain": "[<matplotlib.lines.Line2D at 0x227d8d09950>]"
     },
     "execution_count": 4,
     "metadata": {},
     "output_type": "execute_result"
    },
    {
     "data": {
      "text/plain": "<Figure size 640x480 with 1 Axes>",
      "image/png": "[encoded data removed]"
     },
     "metadata": {},
     "output_type": "display_data"
    }
   ],
   "source": [
    "def lr_tune(epoch, num_epochs=NUM_EPOCHS):\n",
    "    lr_start = LR_START\n",
    "    lr_max = LR_MAX\n",
    "    lr_final = LR_FINAL\n",
    "    lr_warmup_epoch = 4\n",
    "    lr_sustain_epoch = 0\n",
    "    lr_decay_epoch = num_epochs - lr_warmup_epoch - lr_sustain_epoch - 1\n",
    "\n",
    "    if epoch <= lr_warmup_epoch:\n",
    "        lr = lr_start + (lr_max - lr_start) * (epoch / lr_warmup_epoch) ** 2.5\n",
    "    elif epoch < lr_warmup_epoch + lr_sustain_epoch:\n",
    "        lr = lr_max\n",
    "    else:\n",
    "        epoch_diff = epoch - lr_warmup_epoch - lr_sustain_epoch\n",
    "        decay_factor = (epoch_diff / lr_decay_epoch) * math.pi\n",
    "        decay_factor = (torch.cos(torch.tensor(decay_factor)).numpy() + 1) / 2\n",
    "        lr = lr_final + (lr_max - lr_final) * decay_factor\n",
    "    return lr\n",
    "x = [i for i in range(NUM_EPOCHS)]\n",
    "y = [lr_tune(i) for i in x]\n",
    "plt.plot(x, y)"
   ],
   "metadata": {
    "collapsed": false,
    "ExecuteTime": {
     "end_time": "2023-10-08T13:04:31.925103900Z",
     "start_time": "2023-10-08T13:04:31.528405Z"
    }
   }
  },
  {
   "cell_type": "markdown",
   "source": [
    "# tr3.albumentations"
   ],
   "metadata": {
    "collapsed": false
   }
  },
  {
   "cell_type": "code",
   "execution_count": 5,
   "outputs": [],
   "source": [
    "train_augs = A.Compose(\n",
    "    [\n",
    "        A.RandomResizedCrop(IMAGE_SIZE, IMAGE_SIZE),\n",
    "        A.Transpose(p=0.5),\n",
    "        A.HorizontalFlip(p=0.5),\n",
    "        A.VerticalFlip(p=0.5),\n",
    "        A.ShiftScaleRotate(p=0.5),\n",
    "        A.HueSaturationValue(hue_shift_limit=0.2, sat_shift_limit=0.2, val_shift_limit=0.2, p=0.5),\n",
    "        A.RandomBrightnessContrast(brightness_limit=(-0.1, 0.1), contrast_limit=(-0.1, 0.1), p=0.5),\n",
    "        A.Normalize(mean=[0.485, 0.456, 0.406], std=[0.229, 0.224, 0.225], max_pixel_value=255.0, p=1.0),\n",
    "        A.CoarseDropout(p=0.5),\n",
    "        A.Cutout(p=0.5),\n",
    "        ToTensorV2(p=1.0)\n",
    "    ], p=1.0)\n",
    "valid_augs = A.Compose(\n",
    "    [\n",
    "        A.Resize(IMAGE_SIZE, IMAGE_SIZE),\n",
    "        A.CenterCrop(IMAGE_SIZE, IMAGE_SIZE),\n",
    "        A.Normalize(\n",
    "             mean=[0.485, 0.456, 0.406],\n",
    "             std=[0.229, 0.224, 0.225]\n",
    "        ),\n",
    "        ToTensorV2(),\n",
    "    ]\n",
    ")"
   ],
   "metadata": {
    "collapsed": false,
    "ExecuteTime": {
     "end_time": "2023-09-26T09:34:14.337538100Z",
     "start_time": "2023-09-26T09:34:14.332625200Z"
    }
   }
  },
  {
   "cell_type": "markdown",
   "source": [
    "# tr4.TTA"
   ],
   "metadata": {
    "collapsed": false
   }
  },
  {
   "cell_type": "code",
   "execution_count": null,
   "outputs": [],
   "source": [
    "test_augs = A.Compose([\n",
    "    A.OneOf([\n",
    "        A.Resize(IMAGE_SIZE, IMAGE_SIZE, p=1.0),\n",
    "        A.CenterCrop(IMAGE_SIZE, IMAGE_SIZE, p=1.0),\n",
    "        A.RandomResizedCrop(IMAGE_SIZE, IMAGE_SIZE, p=1.0)\n",
    "    ], p=1.0),\n",
    "    A.Transpose(p=0.5),\n",
    "    A.HorizontalFlip(p=0.5),\n",
    "    A.VerticalFlip(p=0.5),\n",
    "    A.Resize(IMAGE_SIZE, IMAGE_SIZE),\n",
    "    A.Normalize(mean=[0.485, 0.456, 0.406], std=[0.229, 0.224, 0.225], max_pixel_value=255.0, p=1.0),\n",
    "    ToTensorV2(p=1.0)\n",
    "    ], p=1.0\n",
    ")"
   ],
   "metadata": {
    "collapsed": false
   }
  },
  {
   "cell_type": "markdown",
   "source": [
    "# tr5.seed"
   ],
   "metadata": {
    "collapsed": false
   }
  },
  {
   "cell_type": "code",
   "execution_count": null,
   "outputs": [],
   "source": [
    "def seed_everything(seed=42):\n",
    "    random.seed(seed)\n",
    "    os.environ['PYTHONHASHSEED'] = str(seed)\n",
    "    np.random.seed(seed)\n",
    "    torch.manual_seed(seed)\n",
    "    torch.cuda.manual_seed(seed)\n",
    "    torch.backends.cudnn.deterministic = True\n",
    "# os.environ[\"CUDA_LAUNCH_BLOCKING\"] = \"1\"\n",
    "seed_everything(SEED)"
   ],
   "metadata": {
    "collapsed": false
   }
  },
  {
   "cell_type": "markdown",
   "source": [
    "# 定义数据集"
   ],
   "metadata": {
    "collapsed": false
   }
  },
  {
   "cell_type": "code",
   "execution_count": null,
   "outputs": [],
   "source": [
    "class MyCassavaLeafDataset(Dataset):\n",
    "    @staticmethod\n",
    "    def generate_index(num_total, ratio):\n",
    "        if ratio != 0.0:\n",
    "            all_index = [i for i in range(num_total)]\n",
    "            k = ratio * 10\n",
    "            valid_index = np.arange(0, num_total, k)\n",
    "            train_index = [i for i in all_index if i not in valid_index]\n",
    "            return train_index, valid_index\n",
    "        else:\n",
    "            return [i for i in range(num_total)], []\n",
    "\n",
    "    def __init__(self, csv_path=None, images_path=None, transform=None, mode='train', train_ratio=0.5):\n",
    "        super().__init__()\n",
    "        self.transform = transform\n",
    "        self.mode = mode\n",
    "        self.images_path = images_path\n",
    "        self.data_info = pd.read_csv(csv_path)\n",
    "        self.data_len = self.data_info.shape[0]\n",
    "        if self.mode == 'train':\n",
    "            train_index, _ = MyCassavaLeafDataset.generate_index(self.data_len, train_ratio)\n",
    "            self.image_arr = np.asarray(self.data_info.iloc[train_index, 0])\n",
    "            self.label_arr = np.asarray(self.data_info.iloc[train_index, 1])\n",
    "            self.real_len = len(self.image_arr)\n",
    "        elif self.mode == 'valid':\n",
    "            _, valid_index = MyCassavaLeafDataset.generate_index(self.data_len, train_ratio)\n",
    "            self.image_arr = np.asarray(self.data_info.iloc[valid_index, 0])\n",
    "            self.label_arr = np.asarray(self.data_info.iloc[valid_index, 1])\n",
    "            self.real_len = len(self.image_arr)\n",
    "\n",
    "    def __getitem__(self, index):\n",
    "        if self.mode != 'test':\n",
    "            single_image_name = self.image_arr[index]\n",
    "            image = Image.open(os.path.join(self.images_path, single_image_name))\n",
    "            image = np.array(image)\n",
    "            label = self.label_arr[index]\n",
    "            return self.transform(image=image)[\"image\"], label\n",
    "\n",
    "\n",
    "    def __len__(self):\n",
    "        return self.real_len"
   ],
   "metadata": {
    "collapsed": false
   }
  },
  {
   "cell_type": "code",
   "execution_count": null,
   "outputs": [],
   "source": [
    "train_set = MyCassavaLeafDataset(csv_path=TRAIN_CSV_PATH, images_path=TRAIN_IMAGE_PATH, transform=train_augs, mode='train', train_ratio=0.0)\n",
    "my_train_dataloader = torch.utils.data.DataLoader(train_set, batch_size=BATCH_SIZE, shuffle=True)\n",
    "valid_set = MyCassavaLeafDataset(csv_path=TRAIN_CSV_PATH, images_path=TRAIN_IMAGE_PATH, transform=valid_augs, mode='valid')\n",
    "my_valid_dataloader = torch.utils.data.DataLoader(valid_set, batch_size=BATCH_SIZE, shuffle=False)"
   ],
   "metadata": {
    "collapsed": false
   }
  },
  {
   "cell_type": "markdown",
   "source": [
    "# 定义模型"
   ],
   "metadata": {
    "collapsed": false
   }
  },
  {
   "cell_type": "code",
   "execution_count": 23,
   "outputs": [
    {
     "data": {
      "text/plain": "TinyViT(\n  (patch_embed): PatchEmbed(\n    (seq): Sequential(\n      (0): Conv2d_BN(\n        (c): Conv2d(3, 48, kernel_size=(3, 3), stride=(2, 2), padding=(1, 1), bias=False)\n        (bn): BatchNorm2d(48, eps=1e-05, momentum=0.1, affine=True, track_running_stats=True)\n      )\n      (1): GELU(approximate='none')\n      (2): Conv2d_BN(\n        (c): Conv2d(48, 96, kernel_size=(3, 3), stride=(2, 2), padding=(1, 1), bias=False)\n        (bn): BatchNorm2d(96, eps=1e-05, momentum=0.1, affine=True, track_running_stats=True)\n      )\n    )\n  )\n  (layers): ModuleList(\n    (0): ConvLayer(\n      (blocks): ModuleList(\n        (0): MBConv(\n          (conv1): Conv2d_BN(\n            (c): Conv2d(96, 384, kernel_size=(1, 1), stride=(1, 1), bias=False)\n            (bn): BatchNorm2d(384, eps=1e-05, momentum=0.1, affine=True, track_running_stats=True)\n          )\n          (act1): GELU(approximate='none')\n          (conv2): Conv2d_BN(\n            (c): Conv2d(384, 384, kernel_size=(3, 3), stride=(1, 1), padding=(1, 1), groups=384, bias=False)\n            (bn): BatchNorm2d(384, eps=1e-05, momentum=0.1, affine=True, track_running_stats=True)\n          )\n          (act2): GELU(approximate='none')\n          (conv3): Conv2d_BN(\n            (c): Conv2d(384, 96, kernel_size=(1, 1), stride=(1, 1), bias=False)\n            (bn): BatchNorm2d(96, eps=1e-05, momentum=0.1, affine=True, track_running_stats=True)\n          )\n          (act3): GELU(approximate='none')\n          (drop_path): Identity()\n        )\n        (1): MBConv(\n          (conv1): Conv2d_BN(\n            (c): Conv2d(96, 384, kernel_size=(1, 1), stride=(1, 1), bias=False)\n            (bn): BatchNorm2d(384, eps=1e-05, momentum=0.1, affine=True, track_running_stats=True)\n          )\n          (act1): GELU(approximate='none')\n          (conv2): Conv2d_BN(\n            (c): Conv2d(384, 384, kernel_size=(3, 3), stride=(1, 1), padding=(1, 1), groups=384, bias=False)\n            (bn): BatchNorm2d(384, eps=1e-05, momentum=0.1, affine=True, track_running_stats=True)\n          )\n          (act2): GELU(approximate='none')\n          (conv3): Conv2d_BN(\n            (c): Conv2d(384, 96, kernel_size=(1, 1), stride=(1, 1), bias=False)\n            (bn): BatchNorm2d(96, eps=1e-05, momentum=0.1, affine=True, track_running_stats=True)\n          )\n          (act3): GELU(approximate='none')\n          (drop_path): DropPath(drop_prob=0.009)(drop_prob=0.00909090880304575)\n        )\n      )\n      (downsample): PatchMerging(\n        (act): GELU(approximate='none')\n        (conv1): Conv2d_BN(\n          (c): Conv2d(96, 192, kernel_size=(1, 1), stride=(1, 1), bias=False)\n          (bn): BatchNorm2d(192, eps=1e-05, momentum=0.1, affine=True, track_running_stats=True)\n        )\n        (conv2): Conv2d_BN(\n          (c): Conv2d(192, 192, kernel_size=(3, 3), stride=(2, 2), padding=(1, 1), groups=192, bias=False)\n          (bn): BatchNorm2d(192, eps=1e-05, momentum=0.1, affine=True, track_running_stats=True)\n        )\n        (conv3): Conv2d_BN(\n          (c): Conv2d(192, 192, kernel_size=(1, 1), stride=(1, 1), bias=False)\n          (bn): BatchNorm2d(192, eps=1e-05, momentum=0.1, affine=True, track_running_stats=True)\n        )\n      )\n    )\n    (1): BasicLayer(\n      dim=192, input_resolution=(64, 64), depth=2\n      (blocks): ModuleList(\n        (0): TinyViTBlock(\n          dim=192, input_resolution=(64, 64), num_heads=6, window_size=16, mlp_ratio=4.0\n          (drop_path): DropPath(drop_prob=0.018)(drop_prob=0.0181818176060915)\n          (attn): Attention(\n            (norm): LayerNorm((192,), eps=1e-05, elementwise_affine=True)\n            (qkv): Linear(in_features=192, out_features=576, bias=True)\n            (proj): Linear(in_features=192, out_features=192, bias=True)\n          )\n          (mlp): Mlp(\n            (norm): LayerNorm((192,), eps=1e-05, elementwise_affine=True)\n            (fc1): Linear(in_features=192, out_features=768, bias=True)\n            (fc2): Linear(in_features=768, out_features=192, bias=True)\n            (act): GELU(approximate='none')\n            (drop): Dropout(p=0.0, inplace=False)\n          )\n          (local_conv): Conv2d_BN(\n            (c): Conv2d(192, 192, kernel_size=(3, 3), stride=(1, 1), padding=(1, 1), groups=192, bias=False)\n            (bn): BatchNorm2d(192, eps=1e-05, momentum=0.1, affine=True, track_running_stats=True)\n          )\n        )\n        (1): TinyViTBlock(\n          dim=192, input_resolution=(64, 64), num_heads=6, window_size=16, mlp_ratio=4.0\n          (drop_path): DropPath(drop_prob=0.027)(drop_prob=0.027272727340459824)\n          (attn): Attention(\n            (norm): LayerNorm((192,), eps=1e-05, elementwise_affine=True)\n            (qkv): Linear(in_features=192, out_features=576, bias=True)\n            (proj): Linear(in_features=192, out_features=192, bias=True)\n          )\n          (mlp): Mlp(\n            (norm): LayerNorm((192,), eps=1e-05, elementwise_affine=True)\n            (fc1): Linear(in_features=192, out_features=768, bias=True)\n            (fc2): Linear(in_features=768, out_features=192, bias=True)\n            (act): GELU(approximate='none')\n            (drop): Dropout(p=0.0, inplace=False)\n          )\n          (local_conv): Conv2d_BN(\n            (c): Conv2d(192, 192, kernel_size=(3, 3), stride=(1, 1), padding=(1, 1), groups=192, bias=False)\n            (bn): BatchNorm2d(192, eps=1e-05, momentum=0.1, affine=True, track_running_stats=True)\n          )\n        )\n      )\n      (downsample): PatchMerging(\n        (act): GELU(approximate='none')\n        (conv1): Conv2d_BN(\n          (c): Conv2d(192, 384, kernel_size=(1, 1), stride=(1, 1), bias=False)\n          (bn): BatchNorm2d(384, eps=1e-05, momentum=0.1, affine=True, track_running_stats=True)\n        )\n        (conv2): Conv2d_BN(\n          (c): Conv2d(384, 384, kernel_size=(3, 3), stride=(2, 2), padding=(1, 1), groups=384, bias=False)\n          (bn): BatchNorm2d(384, eps=1e-05, momentum=0.1, affine=True, track_running_stats=True)\n        )\n        (conv3): Conv2d_BN(\n          (c): Conv2d(384, 384, kernel_size=(1, 1), stride=(1, 1), bias=False)\n          (bn): BatchNorm2d(384, eps=1e-05, momentum=0.1, affine=True, track_running_stats=True)\n        )\n      )\n    )\n    (2): BasicLayer(\n      dim=384, input_resolution=(32, 32), depth=6\n      (blocks): ModuleList(\n        (0): TinyViTBlock(\n          dim=384, input_resolution=(32, 32), num_heads=12, window_size=32, mlp_ratio=4.0\n          (drop_path): DropPath(drop_prob=0.036)(drop_prob=0.036363635212183)\n          (attn): Attention(\n            (norm): LayerNorm((384,), eps=1e-05, elementwise_affine=True)\n            (qkv): Linear(in_features=384, out_features=1152, bias=True)\n            (proj): Linear(in_features=384, out_features=384, bias=True)\n          )\n          (mlp): Mlp(\n            (norm): LayerNorm((384,), eps=1e-05, elementwise_affine=True)\n            (fc1): Linear(in_features=384, out_features=1536, bias=True)\n            (fc2): Linear(in_features=1536, out_features=384, bias=True)\n            (act): GELU(approximate='none')\n            (drop): Dropout(p=0.0, inplace=False)\n          )\n          (local_conv): Conv2d_BN(\n            (c): Conv2d(384, 384, kernel_size=(3, 3), stride=(1, 1), padding=(1, 1), groups=384, bias=False)\n            (bn): BatchNorm2d(384, eps=1e-05, momentum=0.1, affine=True, track_running_stats=True)\n          )\n        )\n        (1): TinyViTBlock(\n          dim=384, input_resolution=(32, 32), num_heads=12, window_size=32, mlp_ratio=4.0\n          (drop_path): DropPath(drop_prob=0.045)(drop_prob=0.045454543083906174)\n          (attn): Attention(\n            (norm): LayerNorm((384,), eps=1e-05, elementwise_affine=True)\n            (qkv): Linear(in_features=384, out_features=1152, bias=True)\n            (proj): Linear(in_features=384, out_features=384, bias=True)\n          )\n          (mlp): Mlp(\n            (norm): LayerNorm((384,), eps=1e-05, elementwise_affine=True)\n            (fc1): Linear(in_features=384, out_features=1536, bias=True)\n            (fc2): Linear(in_features=1536, out_features=384, bias=True)\n            (act): GELU(approximate='none')\n            (drop): Dropout(p=0.0, inplace=False)\n          )\n          (local_conv): Conv2d_BN(\n            (c): Conv2d(384, 384, kernel_size=(3, 3), stride=(1, 1), padding=(1, 1), groups=384, bias=False)\n            (bn): BatchNorm2d(384, eps=1e-05, momentum=0.1, affine=True, track_running_stats=True)\n          )\n        )\n        (2): TinyViTBlock(\n          dim=384, input_resolution=(32, 32), num_heads=12, window_size=32, mlp_ratio=4.0\n          (drop_path): DropPath(drop_prob=0.055)(drop_prob=0.054545458406209946)\n          (attn): Attention(\n            (norm): LayerNorm((384,), eps=1e-05, elementwise_affine=True)\n            (qkv): Linear(in_features=384, out_features=1152, bias=True)\n            (proj): Linear(in_features=384, out_features=384, bias=True)\n          )\n          (mlp): Mlp(\n            (norm): LayerNorm((384,), eps=1e-05, elementwise_affine=True)\n            (fc1): Linear(in_features=384, out_features=1536, bias=True)\n            (fc2): Linear(in_features=1536, out_features=384, bias=True)\n            (act): GELU(approximate='none')\n            (drop): Dropout(p=0.0, inplace=False)\n          )\n          (local_conv): Conv2d_BN(\n            (c): Conv2d(384, 384, kernel_size=(3, 3), stride=(1, 1), padding=(1, 1), groups=384, bias=False)\n            (bn): BatchNorm2d(384, eps=1e-05, momentum=0.1, affine=True, track_running_stats=True)\n          )\n        )\n        (3): TinyViTBlock(\n          dim=384, input_resolution=(32, 32), num_heads=12, window_size=32, mlp_ratio=4.0\n          (drop_path): DropPath(drop_prob=0.064)(drop_prob=0.06363636255264282)\n          (attn): Attention(\n            (norm): LayerNorm((384,), eps=1e-05, elementwise_affine=True)\n            (qkv): Linear(in_features=384, out_features=1152, bias=True)\n            (proj): Linear(in_features=384, out_features=384, bias=True)\n          )\n          (mlp): Mlp(\n            (norm): LayerNorm((384,), eps=1e-05, elementwise_affine=True)\n            (fc1): Linear(in_features=384, out_features=1536, bias=True)\n            (fc2): Linear(in_features=1536, out_features=384, bias=True)\n            (act): GELU(approximate='none')\n            (drop): Dropout(p=0.0, inplace=False)\n          )\n          (local_conv): Conv2d_BN(\n            (c): Conv2d(384, 384, kernel_size=(3, 3), stride=(1, 1), padding=(1, 1), groups=384, bias=False)\n            (bn): BatchNorm2d(384, eps=1e-05, momentum=0.1, affine=True, track_running_stats=True)\n          )\n        )\n        (4): TinyViTBlock(\n          dim=384, input_resolution=(32, 32), num_heads=12, window_size=32, mlp_ratio=4.0\n          (drop_path): DropPath(drop_prob=0.073)(drop_prob=0.0727272778749466)\n          (attn): Attention(\n            (norm): LayerNorm((384,), eps=1e-05, elementwise_affine=True)\n            (qkv): Linear(in_features=384, out_features=1152, bias=True)\n            (proj): Linear(in_features=384, out_features=384, bias=True)\n          )\n          (mlp): Mlp(\n            (norm): LayerNorm((384,), eps=1e-05, elementwise_affine=True)\n            (fc1): Linear(in_features=384, out_features=1536, bias=True)\n            (fc2): Linear(in_features=1536, out_features=384, bias=True)\n            (act): GELU(approximate='none')\n            (drop): Dropout(p=0.0, inplace=False)\n          )\n          (local_conv): Conv2d_BN(\n            (c): Conv2d(384, 384, kernel_size=(3, 3), stride=(1, 1), padding=(1, 1), groups=384, bias=False)\n            (bn): BatchNorm2d(384, eps=1e-05, momentum=0.1, affine=True, track_running_stats=True)\n          )\n        )\n        (5): TinyViTBlock(\n          dim=384, input_resolution=(32, 32), num_heads=12, window_size=32, mlp_ratio=4.0\n          (drop_path): DropPath(drop_prob=0.082)(drop_prob=0.08181818574666977)\n          (attn): Attention(\n            (norm): LayerNorm((384,), eps=1e-05, elementwise_affine=True)\n            (qkv): Linear(in_features=384, out_features=1152, bias=True)\n            (proj): Linear(in_features=384, out_features=384, bias=True)\n          )\n          (mlp): Mlp(\n            (norm): LayerNorm((384,), eps=1e-05, elementwise_affine=True)\n            (fc1): Linear(in_features=384, out_features=1536, bias=True)\n            (fc2): Linear(in_features=1536, out_features=384, bias=True)\n            (act): GELU(approximate='none')\n            (drop): Dropout(p=0.0, inplace=False)\n          )\n          (local_conv): Conv2d_BN(\n            (c): Conv2d(384, 384, kernel_size=(3, 3), stride=(1, 1), padding=(1, 1), groups=384, bias=False)\n            (bn): BatchNorm2d(384, eps=1e-05, momentum=0.1, affine=True, track_running_stats=True)\n          )\n        )\n      )\n      (downsample): PatchMerging(\n        (act): GELU(approximate='none')\n        (conv1): Conv2d_BN(\n          (c): Conv2d(384, 576, kernel_size=(1, 1), stride=(1, 1), bias=False)\n          (bn): BatchNorm2d(576, eps=1e-05, momentum=0.1, affine=True, track_running_stats=True)\n        )\n        (conv2): Conv2d_BN(\n          (c): Conv2d(576, 576, kernel_size=(3, 3), stride=(2, 2), padding=(1, 1), groups=576, bias=False)\n          (bn): BatchNorm2d(576, eps=1e-05, momentum=0.1, affine=True, track_running_stats=True)\n        )\n        (conv3): Conv2d_BN(\n          (c): Conv2d(576, 576, kernel_size=(1, 1), stride=(1, 1), bias=False)\n          (bn): BatchNorm2d(576, eps=1e-05, momentum=0.1, affine=True, track_running_stats=True)\n        )\n      )\n    )\n    (3): BasicLayer(\n      dim=576, input_resolution=(16, 16), depth=2\n      (blocks): ModuleList(\n        (0): TinyViTBlock(\n          dim=576, input_resolution=(16, 16), num_heads=18, window_size=16, mlp_ratio=4.0\n          (drop_path): DropPath(drop_prob=0.091)(drop_prob=0.09090909361839294)\n          (attn): Attention(\n            (norm): LayerNorm((576,), eps=1e-05, elementwise_affine=True)\n            (qkv): Linear(in_features=576, out_features=1728, bias=True)\n            (proj): Linear(in_features=576, out_features=576, bias=True)\n          )\n          (mlp): Mlp(\n            (norm): LayerNorm((576,), eps=1e-05, elementwise_affine=True)\n            (fc1): Linear(in_features=576, out_features=2304, bias=True)\n            (fc2): Linear(in_features=2304, out_features=576, bias=True)\n            (act): GELU(approximate='none')\n            (drop): Dropout(p=0.0, inplace=False)\n          )\n          (local_conv): Conv2d_BN(\n            (c): Conv2d(576, 576, kernel_size=(3, 3), stride=(1, 1), padding=(1, 1), groups=576, bias=False)\n            (bn): BatchNorm2d(576, eps=1e-05, momentum=0.1, affine=True, track_running_stats=True)\n          )\n        )\n        (1): TinyViTBlock(\n          dim=576, input_resolution=(16, 16), num_heads=18, window_size=16, mlp_ratio=4.0\n          (drop_path): DropPath(drop_prob=0.100)(drop_prob=0.10000000149011612)\n          (attn): Attention(\n            (norm): LayerNorm((576,), eps=1e-05, elementwise_affine=True)\n            (qkv): Linear(in_features=576, out_features=1728, bias=True)\n            (proj): Linear(in_features=576, out_features=576, bias=True)\n          )\n          (mlp): Mlp(\n            (norm): LayerNorm((576,), eps=1e-05, elementwise_affine=True)\n            (fc1): Linear(in_features=576, out_features=2304, bias=True)\n            (fc2): Linear(in_features=2304, out_features=576, bias=True)\n            (act): GELU(approximate='none')\n            (drop): Dropout(p=0.0, inplace=False)\n          )\n          (local_conv): Conv2d_BN(\n            (c): Conv2d(576, 576, kernel_size=(3, 3), stride=(1, 1), padding=(1, 1), groups=576, bias=False)\n            (bn): BatchNorm2d(576, eps=1e-05, momentum=0.1, affine=True, track_running_stats=True)\n          )\n        )\n      )\n    )\n  )\n  (norm_head): LayerNorm((576,), eps=1e-05, elementwise_affine=True)\n  (head): Linear(in_features=576, out_features=5, bias=True)\n)"
     },
     "execution_count": 23,
     "metadata": {},
     "output_type": "execute_result"
    }
   ],
   "source": [
    "my_model = tiny_vit.tiny_vit_21m_512(pretrained=True)\n",
    "my_model.head = nn.Linear(my_model.head.in_features, OUT_CLASSES)\n",
    "nn.init.xavier_uniform_(my_model.head.weight)\n",
    "if my_model.head.bias is not None:\n",
    "    nn.init.zeros_(my_model.head.bias)"
   ],
   "metadata": {
    "collapsed": false,
    "ExecuteTime": {
     "end_time": "2023-11-02T08:41:46.202921200Z",
     "start_time": "2023-11-02T08:41:44.913436Z"
    }
   }
  },
  {
   "cell_type": "markdown",
   "source": [
    "# 定义训练"
   ],
   "metadata": {
    "collapsed": false
   }
  },
  {
   "cell_type": "code",
   "execution_count": null,
   "outputs": [],
   "source": [
    "class MyTrainer:\n",
    "    @staticmethod\n",
    "    def accurate_count(y_hat, y_true):\n",
    "        y_hat = y_hat.argmax(axis=1)\n",
    "        y_true = y_true.argmax(axis=1)\n",
    "        correct_count = 0\n",
    "        for i in range(len(y_hat)):\n",
    "            if y_hat[i].type(y_true.dtype) == y_true[i]:\n",
    "                correct_count += 1\n",
    "        return float(correct_count)\n",
    "    @staticmethod\n",
    "    def calc_valid_acc(model, valid_dataloader):\n",
    "        model.eval()\n",
    "        device = next(iter(model.parameters())).device\n",
    "        test_num = 0\n",
    "        test_acc_num = 0\n",
    "        for x, y_true in valid_dataloader:\n",
    "            if isinstance(x, list):\n",
    "                x = [x_1.to(device) for x_1 in x]\n",
    "            else:\n",
    "                x = x.to(device)\n",
    "            y_true_tensor = torch.zeros(size=(len(y_true), OUT_CLASSES))\n",
    "            for i in range(len(y_true)):\n",
    "                label = y_true[i]\n",
    "                y_true_tensor[i, label] = 1\n",
    "            y_true = y_true_tensor\n",
    "            y_true = y_true.to(device)\n",
    "            test_num += y_true.shape[0]\n",
    "            test_acc_num += MyTrainer.accurate_count(model(x), y_true)\n",
    "        return test_acc_num / test_num\n",
    "\n",
    "    def __init__(self, optimizer, model, criterion, train_dataloader, valid_dataloader, param_group=True, learning_rate=lr_tune, num_epochs=NUM_EPOCHS, devices=DEVICES):\n",
    "        self.optimizer_class = optimizer\n",
    "        self.model = model\n",
    "        self.criterion = criterion\n",
    "        self.devices = devices\n",
    "        self.train_dataloader = train_dataloader\n",
    "        self.valid_dataloader = valid_dataloader\n",
    "        self.param_group = param_group\n",
    "        self.learning_rate = learning_rate\n",
    "        self.num_epochs = num_epochs\n",
    "    def train_epoch(self, epoch):\n",
    "        self.model.train()\n",
    "        total_loss = 0\n",
    "        train_num = 0\n",
    "        train_acc_num = 0\n",
    "        batch_num = len(self.train_dataloader)\n",
    "        param_1x = [param for name, param in self.model.named_parameters() if\n",
    "                    name not in ['module.head.weight', 'module.head.bias']]\n",
    "        optimizer = self.optimizer_class([{'params': param_1x},\n",
    "                            {'params': self.model.module.head.parameters(),\n",
    "                            'lr': self.learning_rate(epoch) * 10}],\n",
    "                            lr=self.learning_rate(epoch), weight_decay=0.001)\n",
    "        print(f'epoch{epoch + 1} begins:')\n",
    "        tk0 = tqdm(enumerate(self.train_dataloader), total=batch_num)\n",
    "        for batch_idx, (x, y_true) in tk0:\n",
    "            y_true_tensor = torch.zeros(size=(len(y_true), OUT_CLASSES))\n",
    "            for i in range(len(y_true)):\n",
    "                label = y_true[i]\n",
    "                y_true_tensor[i, label] = 1\n",
    "            y_true = y_true_tensor\n",
    "            x, y_true = x.to(self.devices[0]), y_true.to(self.devices[0])\n",
    "            optimizer.zero_grad()\n",
    "            y_hat = self.model(x)\n",
    "            loss = self.criterion(y_hat, y_true, T1, T2, SMOOTHING)\n",
    "            loss.sum().backward()\n",
    "            optimizer.step()\n",
    "            total_loss += loss.sum()\n",
    "            train_num += y_true.shape[0]\n",
    "            train_acc_num += MyTrainer.accurate_count(y_hat, y_true)\n",
    "\n",
    "        return total_loss / train_num, train_acc_num / train_num\n",
    "    def train(self):\n",
    "        best_valid_acc = 0\n",
    "        self.model = nn.DataParallel(self.model ,device_ids=self.devices).to(self.devices[0])\n",
    "        for epoch in range(self.num_epochs):\n",
    "            train_loss, train_acc = MyTrainer.train_epoch(self, epoch)\n",
    "            if epoch == self.num_epochs - 1:\n",
    "                torch.save(self.model.state_dict(), os.path.join('tinyvit.pth'))\n",
    "            print(f'epoch{epoch + 1}:train_loss:{train_loss}, train_acc:{train_acc}')"
   ],
   "metadata": {
    "collapsed": false
   }
  },
  {
   "cell_type": "markdown",
   "source": [
    "# 训练"
   ],
   "metadata": {
    "collapsed": false
   }
  },
  {
   "cell_type": "code",
   "execution_count": null,
   "outputs": [],
   "source": [
    "torch.cuda.empty_cache()"
   ],
   "metadata": {
    "collapsed": false
   }
  },
  {
   "cell_type": "code",
   "execution_count": null,
   "outputs": [],
   "source": [
    "my_criterion = bi_tempered_logistic_loss\n",
    "my_trainer = MyTrainer(OPTIMIZER, my_model, my_criterion, my_train_dataloader, my_valid_dataloader)\n",
    "my_trainer.train()"
   ],
   "metadata": {
    "collapsed": false
   }
  }
 ],
 "metadata": {
  "kernelspec": {
   "display_name": "Python 3",
   "language": "python",
   "name": "python3"
  },
  "language_info": {
   "codemirror_mode": {
    "name": "ipython",
    "version": 2
   },
   "file_extension": ".py",
   "mimetype": "text/x-python",
   "name": "python",
   "nbconvert_exporter": "python",
   "pygments_lexer": "ipython2",
   "version": "2.7.6"
  }
 },
 "nbformat": 4,
 "nbformat_minor": 0
}
