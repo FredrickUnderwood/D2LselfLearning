{
 "cells": [
  {
   "cell_type": "markdown",
   "id": "6a5f3f61",
   "metadata": {
    "papermill": {
     "duration": 0.006801,
     "end_time": "2023-10-22T06:12:17.992327",
     "exception": false,
     "start_time": "2023-10-22T06:12:17.985526",
     "status": "completed"
    },
    "tags": []
   },
   "source": [
    "# import"
   ]
  },
  {
   "cell_type": "code",
   "execution_count": 1,
   "id": "3698d089",
   "metadata": {
    "ExecuteTime": {
     "end_time": "2023-10-11T14:22:51.223798300Z",
     "start_time": "2023-10-11T14:22:50.042861500Z"
    },
    "collapsed": false,
    "execution": {
     "iopub.execute_input": "2023-10-22T06:12:18.006806Z",
     "iopub.status.busy": "2023-10-22T06:12:18.006476Z",
     "iopub.status.idle": "2023-10-22T06:12:31.389137Z",
     "shell.execute_reply": "2023-10-22T06:12:31.387945Z"
    },
    "papermill": {
     "duration": 13.392839,
     "end_time": "2023-10-22T06:12:31.391886",
     "exception": false,
     "start_time": "2023-10-22T06:12:17.999047",
     "status": "completed"
    },
    "tags": []
   },
   "outputs": [
    {
     "name": "stderr",
     "output_type": "stream",
     "text": [
      "/opt/conda/lib/python3.10/site-packages/scipy/__init__.py:146: UserWarning: A NumPy version >=1.16.5 and <1.23.0 is required for this version of SciPy (detected version 1.23.5\n",
      "  warnings.warn(f\"A NumPy version >={np_minversion} and <{np_maxversion}\"\n"
     ]
    }
   ],
   "source": [
    "import torch\n",
    "from torch import nn\n",
    "import torch.nn.functional as F\n",
    "import torchvision\n",
    "import math\n",
    "import matplotlib.pyplot as plt\n",
    "import albumentations as A\n",
    "from albumentations.pytorch import ToTensorV2\n",
    "from torch.utils.data import Dataset\n",
    "import pandas as pd\n",
    "import numpy as np\n",
    "from  PIL import Image\n",
    "import os\n",
    "import random\n",
    "from tqdm import tqdm\n",
    "import timm"
   ]
  },
  {
   "cell_type": "markdown",
   "id": "005f2c4c",
   "metadata": {
    "papermill": {
     "duration": 0.006768,
     "end_time": "2023-10-22T06:12:31.405904",
     "exception": false,
     "start_time": "2023-10-22T06:12:31.399136",
     "status": "completed"
    },
    "tags": []
   },
   "source": [
    "# 定义参数"
   ]
  },
  {
   "cell_type": "code",
   "execution_count": 2,
   "id": "68902c5f",
   "metadata": {
    "ExecuteTime": {
     "end_time": "2023-10-11T14:22:53.418479500Z",
     "start_time": "2023-10-11T14:22:53.382279700Z"
    },
    "collapsed": false,
    "execution": {
     "iopub.execute_input": "2023-10-22T06:12:31.420718Z",
     "iopub.status.busy": "2023-10-22T06:12:31.420406Z",
     "iopub.status.idle": "2023-10-22T06:12:31.441310Z",
     "shell.execute_reply": "2023-10-22T06:12:31.440594Z"
    },
    "papermill": {
     "duration": 0.030449,
     "end_time": "2023-10-22T06:12:31.443298",
     "exception": false,
     "start_time": "2023-10-22T06:12:31.412849",
     "status": "completed"
    },
    "tags": []
   },
   "outputs": [],
   "source": [
    "INPUT_PATH = '../input/mymodelparam'\n",
    "TRAIN_CSV_PATH = '../input/cassava-leaf-disease-classification/train.csv'\n",
    "TRAIN_IMAGE_PATH = '../input/cassava-leaf-disease-classification/train_images/'\n",
    "TEST_IMAGE_PATH = '../input/cassava-leaf-disease-classification/test_images/'\n",
    "SUBMISSION_PATH = 'submission.csv'\n",
    "DEVICES = [torch.device(f'cuda:{i}') for i in range(torch.cuda.device_count())]\n",
    "OUT_FEATURES = 5\n",
    "NUM_EPOCHS = 20\n",
    "BATCH_SIZE = 32\n",
    "IMAGE_SIZE = 512\n",
    "OPTIMIZER = torch.optim.AdamW\n",
    "SEED = 42\n",
    "LR_START = 1e-5\n",
    "LR_MAX = 2e-4\n",
    "LR_FINAL = 1e-5\n",
    "TTA = 3"
   ]
  },
  {
   "cell_type": "markdown",
   "id": "8e6828f9",
   "metadata": {
    "papermill": {
     "duration": 0.006575,
     "end_time": "2023-10-22T06:12:31.456897",
     "exception": false,
     "start_time": "2023-10-22T06:12:31.450322",
     "status": "completed"
    },
    "tags": []
   },
   "source": [
    "# tr1.损失函数\n",
    "1st solution's loss\n",
    "1. B4: Sigmoid Focal Cross Entropy Loss: is good for class imbalance problems / label smoothing\n",
    "2. ResNeXt50: Cross Entropy Loss"
   ]
  },
  {
   "cell_type": "code",
   "execution_count": 3,
   "id": "411d77f6",
   "metadata": {
    "collapsed": false,
    "execution": {
     "iopub.execute_input": "2023-10-22T06:12:31.472319Z",
     "iopub.status.busy": "2023-10-22T06:12:31.472026Z",
     "iopub.status.idle": "2023-10-22T06:12:31.479999Z",
     "shell.execute_reply": "2023-10-22T06:12:31.479052Z"
    },
    "is_executing": true,
    "papermill": {
     "duration": 0.018185,
     "end_time": "2023-10-22T06:12:31.482106",
     "exception": false,
     "start_time": "2023-10-22T06:12:31.463921",
     "status": "completed"
    },
    "tags": []
   },
   "outputs": [],
   "source": [
    "def sigmoid_focal_cross_entropy(y_hat, y_true, alpha=0.25, gamma=2.0):\n",
    "    # label smoothing\n",
    "    def smooth(y, smooth_factor):\n",
    "        assert  len(y.shape) == 2\n",
    "        y *= 1 - smooth_factor\n",
    "        y += smooth_factor / y.shape[1]\n",
    "        return y\n",
    "\n",
    "    smooth_factor = 0.1\n",
    "\n",
    "    if not isinstance(y_true, torch.Tensor):\n",
    "        y_true = torch.tensor(y_true)\n",
    "    if not isinstance(y_hat, torch.Tensor):\n",
    "        y_hat = torch.tensor(y_hat)\n",
    "\n",
    "    y_true = smooth(y_true, smooth_factor)\n",
    "\n",
    "    cross_entropy = F.binary_cross_entropy_with_logits(y_hat, y_true, reduction='none')\n",
    "    p_t = y_true * y_hat + (1 - y_true) * (1 - y_hat)\n",
    "    alpha_t = y_true * alpha + (1 - y_true) * (1 - alpha)\n",
    "    modulating_factor = (1.0 - p_t).pow(gamma)\n",
    "\n",
    "    return torch.sum(alpha_t * modulating_factor * cross_entropy, dim=-1)"
   ]
  },
  {
   "cell_type": "markdown",
   "id": "bf5a3f10",
   "metadata": {
    "papermill": {
     "duration": 0.006956,
     "end_time": "2023-10-22T06:12:31.495998",
     "exception": false,
     "start_time": "2023-10-22T06:12:31.489042",
     "status": "completed"
    },
    "tags": []
   },
   "source": [
    "# tr2.learning_rate"
   ]
  },
  {
   "cell_type": "code",
   "execution_count": 4,
   "id": "777846cd",
   "metadata": {
    "ExecuteTime": {
     "end_time": "2023-10-08T13:04:31.925103900Z",
     "start_time": "2023-10-08T13:04:31.528405Z"
    },
    "collapsed": false,
    "execution": {
     "iopub.execute_input": "2023-10-22T06:12:31.511071Z",
     "iopub.status.busy": "2023-10-22T06:12:31.510793Z",
     "iopub.status.idle": "2023-10-22T06:12:31.912448Z",
     "shell.execute_reply": "2023-10-22T06:12:31.911551Z"
    },
    "papermill": {
     "duration": 0.411446,
     "end_time": "2023-10-22T06:12:31.914432",
     "exception": false,
     "start_time": "2023-10-22T06:12:31.502986",
     "status": "completed"
    },
    "tags": []
   },
   "outputs": [
    {
     "data": {
      "text/plain": [
       "[<matplotlib.lines.Line2D at 0x7f3527101de0>]"
      ]
     },
     "execution_count": 4,
     "metadata": {},
     "output_type": "execute_result"
    },
    {
     "data": {
      "image/png": "[encoded data removed]",
      "text/plain": [
       "<Figure size 640x480 with 1 Axes>"
      ]
     },
     "metadata": {},
     "output_type": "display_data"
    }
   ],
   "source": [
    "def lr_tune(epoch, num_epochs=NUM_EPOCHS):\n",
    "    lr_start = LR_START\n",
    "    lr_max = LR_MAX\n",
    "    lr_final = LR_FINAL\n",
    "    lr_warmup_epoch = 4\n",
    "    lr_sustain_epoch = 0\n",
    "    lr_decay_epoch = num_epochs - lr_warmup_epoch - lr_sustain_epoch - 1\n",
    "\n",
    "    if epoch <= lr_warmup_epoch:\n",
    "        lr = lr_start + (lr_max - lr_start) * (epoch / lr_warmup_epoch) ** 2.5\n",
    "    elif epoch < lr_warmup_epoch + lr_sustain_epoch:\n",
    "        lr = lr_max\n",
    "    else:\n",
    "        epoch_diff = epoch - lr_warmup_epoch - lr_sustain_epoch\n",
    "        decay_factor = (epoch_diff / lr_decay_epoch) * math.pi\n",
    "        decay_factor = (torch.cos(torch.tensor(decay_factor)).numpy() + 1) / 2\n",
    "        lr = lr_final + (lr_max - lr_final) * decay_factor\n",
    "    return lr\n",
    "x = [i for i in range(NUM_EPOCHS)]\n",
    "y = [lr_tune(i) for i in x]\n",
    "plt.plot(x, y)"
   ]
  },
  {
   "cell_type": "markdown",
   "id": "d5cd848b",
   "metadata": {
    "papermill": {
     "duration": 0.007292,
     "end_time": "2023-10-22T06:12:31.929290",
     "exception": false,
     "start_time": "2023-10-22T06:12:31.921998",
     "status": "completed"
    },
    "tags": []
   },
   "source": [
    "# tr3.albumentations"
   ]
  },
  {
   "cell_type": "code",
   "execution_count": 5,
   "id": "1385d0f3",
   "metadata": {
    "ExecuteTime": {
     "end_time": "2023-09-26T09:34:14.337538100Z",
     "start_time": "2023-09-26T09:34:14.332625200Z"
    },
    "collapsed": false,
    "execution": {
     "iopub.execute_input": "2023-10-22T06:12:31.945345Z",
     "iopub.status.busy": "2023-10-22T06:12:31.945042Z",
     "iopub.status.idle": "2023-10-22T06:12:31.956381Z",
     "shell.execute_reply": "2023-10-22T06:12:31.955384Z"
    },
    "papermill": {
     "duration": 0.021939,
     "end_time": "2023-10-22T06:12:31.958709",
     "exception": false,
     "start_time": "2023-10-22T06:12:31.936770",
     "status": "completed"
    },
    "tags": []
   },
   "outputs": [
    {
     "name": "stderr",
     "output_type": "stream",
     "text": [
      "/opt/conda/lib/python3.10/site-packages/albumentations/augmentations/dropout/cutout.py:49: FutureWarning: Cutout has been deprecated. Please use CoarseDropout\n",
      "  warnings.warn(\n"
     ]
    }
   ],
   "source": [
    "train_augs = A.Compose(\n",
    "    [\n",
    "        A.RandomResizedCrop(IMAGE_SIZE, IMAGE_SIZE),\n",
    "        A.Transpose(p=0.5),\n",
    "        A.HorizontalFlip(p=0.5),\n",
    "        A.VerticalFlip(p=0.5),\n",
    "        A.ShiftScaleRotate(p=0.5),\n",
    "        A.HueSaturationValue(hue_shift_limit=0.2, sat_shift_limit=0.2, val_shift_limit=0.2, p=0.5),\n",
    "        A.RandomBrightnessContrast(brightness_limit=(-0.1, 0.1), contrast_limit=(-0.1, 0.1), p=0.5),\n",
    "        A.Normalize(mean=[0.485, 0.456, 0.406], std=[0.229, 0.224, 0.225], max_pixel_value=255.0, p=1.0),\n",
    "        A.CoarseDropout(p=0.5),\n",
    "        A.Cutout(p=0.5),\n",
    "        ToTensorV2(p=1.0)\n",
    "    ], p=1.0)\n",
    "valid_augs = A.Compose(\n",
    "    [\n",
    "        A.Resize(IMAGE_SIZE, IMAGE_SIZE),\n",
    "        A.CenterCrop(IMAGE_SIZE, IMAGE_SIZE),\n",
    "        A.Normalize(\n",
    "             mean=[0.485, 0.456, 0.406],\n",
    "             std=[0.229, 0.224, 0.225]\n",
    "        ),\n",
    "        ToTensorV2(),\n",
    "    ]\n",
    ")"
   ]
  },
  {
   "cell_type": "markdown",
   "id": "0b57dba9",
   "metadata": {
    "papermill": {
     "duration": 0.007637,
     "end_time": "2023-10-22T06:12:31.974377",
     "exception": false,
     "start_time": "2023-10-22T06:12:31.966740",
     "status": "completed"
    },
    "tags": []
   },
   "source": [
    "# tr4.TTA"
   ]
  },
  {
   "cell_type": "code",
   "execution_count": 6,
   "id": "ee2fafa7",
   "metadata": {
    "collapsed": false,
    "execution": {
     "iopub.execute_input": "2023-10-22T06:12:31.990326Z",
     "iopub.status.busy": "2023-10-22T06:12:31.989989Z",
     "iopub.status.idle": "2023-10-22T06:12:31.996268Z",
     "shell.execute_reply": "2023-10-22T06:12:31.995415Z"
    },
    "papermill": {
     "duration": 0.01682,
     "end_time": "2023-10-22T06:12:31.998373",
     "exception": false,
     "start_time": "2023-10-22T06:12:31.981553",
     "status": "completed"
    },
    "tags": []
   },
   "outputs": [],
   "source": [
    "test_augs = A.Compose([\n",
    "    A.OneOf([\n",
    "        A.Resize(IMAGE_SIZE, IMAGE_SIZE, p=1.0),\n",
    "        A.CenterCrop(IMAGE_SIZE, IMAGE_SIZE, p=1.0),\n",
    "        A.RandomResizedCrop(IMAGE_SIZE, IMAGE_SIZE, p=1.0)\n",
    "    ], p=1.0),\n",
    "    A.Transpose(p=0.5),\n",
    "    A.HorizontalFlip(p=0.5),\n",
    "    A.VerticalFlip(p=0.5),\n",
    "    A.Resize(IMAGE_SIZE, IMAGE_SIZE),\n",
    "    A.Normalize(mean=[0.485, 0.456, 0.406], std=[0.229, 0.224, 0.225], max_pixel_value=255.0, p=1.0),\n",
    "    ToTensorV2(p=1.0)\n",
    "    ], p=1.0\n",
    ")"
   ]
  },
  {
   "cell_type": "markdown",
   "id": "8885ac17",
   "metadata": {
    "papermill": {
     "duration": 0.007842,
     "end_time": "2023-10-22T06:12:32.014849",
     "exception": false,
     "start_time": "2023-10-22T06:12:32.007007",
     "status": "completed"
    },
    "tags": []
   },
   "source": [
    "# tr5.seed"
   ]
  },
  {
   "cell_type": "code",
   "execution_count": 7,
   "id": "076b0af9",
   "metadata": {
    "collapsed": false,
    "execution": {
     "iopub.execute_input": "2023-10-22T06:12:32.032309Z",
     "iopub.status.busy": "2023-10-22T06:12:32.032031Z",
     "iopub.status.idle": "2023-10-22T06:12:32.044276Z",
     "shell.execute_reply": "2023-10-22T06:12:32.043451Z"
    },
    "papermill": {
     "duration": 0.023133,
     "end_time": "2023-10-22T06:12:32.046266",
     "exception": false,
     "start_time": "2023-10-22T06:12:32.023133",
     "status": "completed"
    },
    "tags": []
   },
   "outputs": [],
   "source": [
    "def seed_everything(seed=42):\n",
    "    random.seed(seed)\n",
    "    os.environ['PYTHONHASHSEED'] = str(seed)\n",
    "    np.random.seed(seed)\n",
    "    torch.manual_seed(seed)\n",
    "    torch.cuda.manual_seed(seed)\n",
    "    torch.backends.cudnn.deterministic = True\n",
    "# os.environ[\"CUDA_LAUNCH_BLOCKING\"] = \"1\"\n",
    "seed_everything(SEED)"
   ]
  },
  {
   "cell_type": "markdown",
   "id": "f1b421bf",
   "metadata": {
    "papermill": {
     "duration": 0.007603,
     "end_time": "2023-10-22T06:12:32.062058",
     "exception": false,
     "start_time": "2023-10-22T06:12:32.054455",
     "status": "completed"
    },
    "tags": []
   },
   "source": [
    "# 定义数据集"
   ]
  },
  {
   "cell_type": "code",
   "execution_count": 8,
   "id": "97013aa2",
   "metadata": {
    "collapsed": false,
    "execution": {
     "iopub.execute_input": "2023-10-22T06:12:32.079331Z",
     "iopub.status.busy": "2023-10-22T06:12:32.078942Z",
     "iopub.status.idle": "2023-10-22T06:12:32.091780Z",
     "shell.execute_reply": "2023-10-22T06:12:32.091033Z"
    },
    "papermill": {
     "duration": 0.023813,
     "end_time": "2023-10-22T06:12:32.093777",
     "exception": false,
     "start_time": "2023-10-22T06:12:32.069964",
     "status": "completed"
    },
    "tags": []
   },
   "outputs": [],
   "source": [
    "class MyCassavaLeafDataset(Dataset):\n",
    "    @staticmethod\n",
    "    def generate_index(num_total, ratio):\n",
    "        all_index = [i for i in range(num_total)]\n",
    "        k = ratio * 10\n",
    "        valid_index = np.arange(0, num_total, k)\n",
    "        train_index = [i for i in all_index if i not in valid_index]\n",
    "        return train_index, valid_index\n",
    "\n",
    "    def __init__(self, csv_path=None, images_path=None, transform=None, mode='train', train_ratio=0.5):\n",
    "        super().__init__()\n",
    "        self.transform = transform\n",
    "        self.mode = mode\n",
    "        self.images_path = images_path\n",
    "        self.data_info = pd.read_csv(csv_path)\n",
    "        self.data_len = self.data_info.shape[0]\n",
    "        if self.mode == 'train':\n",
    "            train_index, _ = MyCassavaLeafDataset.generate_index(self.data_len, train_ratio)\n",
    "            self.image_arr = np.asarray(self.data_info.iloc[train_index, 0])\n",
    "            self.label_arr = np.asarray(self.data_info.iloc[train_index, 1])\n",
    "            self.real_len = len(self.image_arr)\n",
    "        elif self.mode == 'valid':\n",
    "            _, valid_index = MyCassavaLeafDataset.generate_index(self.data_len, train_ratio)\n",
    "            self.image_arr = np.asarray(self.data_info.iloc[valid_index, 0])\n",
    "            self.label_arr = np.asarray(self.data_info.iloc[valid_index, 1])\n",
    "            self.real_len = len(self.image_arr)\n",
    "\n",
    "    def __getitem__(self, index):\n",
    "        if self.mode != 'test':\n",
    "            single_image_name = self.image_arr[index]\n",
    "            image = Image.open(os.path.join(self.images_path, single_image_name))\n",
    "            image = np.array(image)\n",
    "            label = self.label_arr[index]\n",
    "            return self.transform(image=image)[\"image\"], label\n",
    "\n",
    "\n",
    "    def __len__(self):\n",
    "        return self.real_len"
   ]
  },
  {
   "cell_type": "code",
   "execution_count": 9,
   "id": "f3fefa58",
   "metadata": {
    "collapsed": false,
    "execution": {
     "iopub.execute_input": "2023-10-22T06:12:32.111054Z",
     "iopub.status.busy": "2023-10-22T06:12:32.110736Z",
     "iopub.status.idle": "2023-10-22T06:12:32.508926Z",
     "shell.execute_reply": "2023-10-22T06:12:32.508028Z"
    },
    "papermill": {
     "duration": 0.409689,
     "end_time": "2023-10-22T06:12:32.511485",
     "exception": false,
     "start_time": "2023-10-22T06:12:32.101796",
     "status": "completed"
    },
    "tags": []
   },
   "outputs": [],
   "source": [
    "train_set = MyCassavaLeafDataset(csv_path=TRAIN_CSV_PATH, images_path=TRAIN_IMAGE_PATH, transform=train_augs, mode='train')\n",
    "my_train_dataloader = torch.utils.data.DataLoader(train_set, batch_size=BATCH_SIZE, shuffle=True)\n",
    "valid_set = MyCassavaLeafDataset(csv_path=TRAIN_CSV_PATH, images_path=TRAIN_IMAGE_PATH, transform=valid_augs, mode='valid')\n",
    "my_valid_dataloader = torch.utils.data.DataLoader(valid_set, batch_size=BATCH_SIZE, shuffle=False)"
   ]
  },
  {
   "cell_type": "markdown",
   "id": "d15ea3b2",
   "metadata": {
    "papermill": {
     "duration": 0.008125,
     "end_time": "2023-10-22T06:12:32.528170",
     "exception": false,
     "start_time": "2023-10-22T06:12:32.520045",
     "status": "completed"
    },
    "tags": []
   },
   "source": [
    "# 定义模型"
   ]
  },
  {
   "cell_type": "code",
   "execution_count": 10,
   "id": "7d8d6737",
   "metadata": {
    "ExecuteTime": {
     "end_time": "2023-10-11T14:28:50.450840300Z",
     "start_time": "2023-10-11T14:28:49.912560600Z"
    },
    "collapsed": false,
    "execution": {
     "iopub.execute_input": "2023-10-22T06:12:32.545708Z",
     "iopub.status.busy": "2023-10-22T06:12:32.545387Z",
     "iopub.status.idle": "2023-10-22T06:12:33.875117Z",
     "shell.execute_reply": "2023-10-22T06:12:33.874175Z"
    },
    "papermill": {
     "duration": 1.340866,
     "end_time": "2023-10-22T06:12:33.877281",
     "exception": false,
     "start_time": "2023-10-22T06:12:32.536415",
     "status": "completed"
    },
    "tags": []
   },
   "outputs": [
    {
     "data": {
      "application/vnd.jupyter.widget-view+json": {
       "model_id": "36bc894858524ed689c5f750c94effd7",
       "version_major": 2,
       "version_minor": 0
      },
      "text/plain": [
       "Downloading model.safetensors:   0%|          | 0.00/100M [00:00<?, ?B/s]"
      ]
     },
     "metadata": {},
     "output_type": "display_data"
    },
    {
     "data": {
      "text/plain": [
       "ResNet(\n",
       "  (conv1): Conv2d(3, 64, kernel_size=(7, 7), stride=(2, 2), padding=(3, 3), bias=False)\n",
       "  (bn1): BatchNorm2d(64, eps=1e-05, momentum=0.1, affine=True, track_running_stats=True)\n",
       "  (act1): ReLU(inplace=True)\n",
       "  (maxpool): MaxPool2d(kernel_size=3, stride=2, padding=1, dilation=1, ceil_mode=False)\n",
       "  (layer1): Sequential(\n",
       "    (0): Bottleneck(\n",
       "      (conv1): Conv2d(64, 128, kernel_size=(1, 1), stride=(1, 1), bias=False)\n",
       "      (bn1): BatchNorm2d(128, eps=1e-05, momentum=0.1, affine=True, track_running_stats=True)\n",
       "      (act1): ReLU(inplace=True)\n",
       "      (conv2): Conv2d(128, 128, kernel_size=(3, 3), stride=(1, 1), padding=(1, 1), groups=32, bias=False)\n",
       "      (bn2): BatchNorm2d(128, eps=1e-05, momentum=0.1, affine=True, track_running_stats=True)\n",
       "      (drop_block): Identity()\n",
       "      (act2): ReLU(inplace=True)\n",
       "      (aa): Identity()\n",
       "      (conv3): Conv2d(128, 256, kernel_size=(1, 1), stride=(1, 1), bias=False)\n",
       "      (bn3): BatchNorm2d(256, eps=1e-05, momentum=0.1, affine=True, track_running_stats=True)\n",
       "      (act3): ReLU(inplace=True)\n",
       "      (downsample): Sequential(\n",
       "        (0): Conv2d(64, 256, kernel_size=(1, 1), stride=(1, 1), bias=False)\n",
       "        (1): BatchNorm2d(256, eps=1e-05, momentum=0.1, affine=True, track_running_stats=True)\n",
       "      )\n",
       "    )\n",
       "    (1): Bottleneck(\n",
       "      (conv1): Conv2d(256, 128, kernel_size=(1, 1), stride=(1, 1), bias=False)\n",
       "      (bn1): BatchNorm2d(128, eps=1e-05, momentum=0.1, affine=True, track_running_stats=True)\n",
       "      (act1): ReLU(inplace=True)\n",
       "      (conv2): Conv2d(128, 128, kernel_size=(3, 3), stride=(1, 1), padding=(1, 1), groups=32, bias=False)\n",
       "      (bn2): BatchNorm2d(128, eps=1e-05, momentum=0.1, affine=True, track_running_stats=True)\n",
       "      (drop_block): Identity()\n",
       "      (act2): ReLU(inplace=True)\n",
       "      (aa): Identity()\n",
       "      (conv3): Conv2d(128, 256, kernel_size=(1, 1), stride=(1, 1), bias=False)\n",
       "      (bn3): BatchNorm2d(256, eps=1e-05, momentum=0.1, affine=True, track_running_stats=True)\n",
       "      (act3): ReLU(inplace=True)\n",
       "    )\n",
       "    (2): Bottleneck(\n",
       "      (conv1): Conv2d(256, 128, kernel_size=(1, 1), stride=(1, 1), bias=False)\n",
       "      (bn1): BatchNorm2d(128, eps=1e-05, momentum=0.1, affine=True, track_running_stats=True)\n",
       "      (act1): ReLU(inplace=True)\n",
       "      (conv2): Conv2d(128, 128, kernel_size=(3, 3), stride=(1, 1), padding=(1, 1), groups=32, bias=False)\n",
       "      (bn2): BatchNorm2d(128, eps=1e-05, momentum=0.1, affine=True, track_running_stats=True)\n",
       "      (drop_block): Identity()\n",
       "      (act2): ReLU(inplace=True)\n",
       "      (aa): Identity()\n",
       "      (conv3): Conv2d(128, 256, kernel_size=(1, 1), stride=(1, 1), bias=False)\n",
       "      (bn3): BatchNorm2d(256, eps=1e-05, momentum=0.1, affine=True, track_running_stats=True)\n",
       "      (act3): ReLU(inplace=True)\n",
       "    )\n",
       "  )\n",
       "  (layer2): Sequential(\n",
       "    (0): Bottleneck(\n",
       "      (conv1): Conv2d(256, 256, kernel_size=(1, 1), stride=(1, 1), bias=False)\n",
       "      (bn1): BatchNorm2d(256, eps=1e-05, momentum=0.1, affine=True, track_running_stats=True)\n",
       "      (act1): ReLU(inplace=True)\n",
       "      (conv2): Conv2d(256, 256, kernel_size=(3, 3), stride=(2, 2), padding=(1, 1), groups=32, bias=False)\n",
       "      (bn2): BatchNorm2d(256, eps=1e-05, momentum=0.1, affine=True, track_running_stats=True)\n",
       "      (drop_block): Identity()\n",
       "      (act2): ReLU(inplace=True)\n",
       "      (aa): Identity()\n",
       "      (conv3): Conv2d(256, 512, kernel_size=(1, 1), stride=(1, 1), bias=False)\n",
       "      (bn3): BatchNorm2d(512, eps=1e-05, momentum=0.1, affine=True, track_running_stats=True)\n",
       "      (act3): ReLU(inplace=True)\n",
       "      (downsample): Sequential(\n",
       "        (0): Conv2d(256, 512, kernel_size=(1, 1), stride=(2, 2), bias=False)\n",
       "        (1): BatchNorm2d(512, eps=1e-05, momentum=0.1, affine=True, track_running_stats=True)\n",
       "      )\n",
       "    )\n",
       "    (1): Bottleneck(\n",
       "      (conv1): Conv2d(512, 256, kernel_size=(1, 1), stride=(1, 1), bias=False)\n",
       "      (bn1): BatchNorm2d(256, eps=1e-05, momentum=0.1, affine=True, track_running_stats=True)\n",
       "      (act1): ReLU(inplace=True)\n",
       "      (conv2): Conv2d(256, 256, kernel_size=(3, 3), stride=(1, 1), padding=(1, 1), groups=32, bias=False)\n",
       "      (bn2): BatchNorm2d(256, eps=1e-05, momentum=0.1, affine=True, track_running_stats=True)\n",
       "      (drop_block): Identity()\n",
       "      (act2): ReLU(inplace=True)\n",
       "      (aa): Identity()\n",
       "      (conv3): Conv2d(256, 512, kernel_size=(1, 1), stride=(1, 1), bias=False)\n",
       "      (bn3): BatchNorm2d(512, eps=1e-05, momentum=0.1, affine=True, track_running_stats=True)\n",
       "      (act3): ReLU(inplace=True)\n",
       "    )\n",
       "    (2): Bottleneck(\n",
       "      (conv1): Conv2d(512, 256, kernel_size=(1, 1), stride=(1, 1), bias=False)\n",
       "      (bn1): BatchNorm2d(256, eps=1e-05, momentum=0.1, affine=True, track_running_stats=True)\n",
       "      (act1): ReLU(inplace=True)\n",
       "      (conv2): Conv2d(256, 256, kernel_size=(3, 3), stride=(1, 1), padding=(1, 1), groups=32, bias=False)\n",
       "      (bn2): BatchNorm2d(256, eps=1e-05, momentum=0.1, affine=True, track_running_stats=True)\n",
       "      (drop_block): Identity()\n",
       "      (act2): ReLU(inplace=True)\n",
       "      (aa): Identity()\n",
       "      (conv3): Conv2d(256, 512, kernel_size=(1, 1), stride=(1, 1), bias=False)\n",
       "      (bn3): BatchNorm2d(512, eps=1e-05, momentum=0.1, affine=True, track_running_stats=True)\n",
       "      (act3): ReLU(inplace=True)\n",
       "    )\n",
       "    (3): Bottleneck(\n",
       "      (conv1): Conv2d(512, 256, kernel_size=(1, 1), stride=(1, 1), bias=False)\n",
       "      (bn1): BatchNorm2d(256, eps=1e-05, momentum=0.1, affine=True, track_running_stats=True)\n",
       "      (act1): ReLU(inplace=True)\n",
       "      (conv2): Conv2d(256, 256, kernel_size=(3, 3), stride=(1, 1), padding=(1, 1), groups=32, bias=False)\n",
       "      (bn2): BatchNorm2d(256, eps=1e-05, momentum=0.1, affine=True, track_running_stats=True)\n",
       "      (drop_block): Identity()\n",
       "      (act2): ReLU(inplace=True)\n",
       "      (aa): Identity()\n",
       "      (conv3): Conv2d(256, 512, kernel_size=(1, 1), stride=(1, 1), bias=False)\n",
       "      (bn3): BatchNorm2d(512, eps=1e-05, momentum=0.1, affine=True, track_running_stats=True)\n",
       "      (act3): ReLU(inplace=True)\n",
       "    )\n",
       "  )\n",
       "  (layer3): Sequential(\n",
       "    (0): Bottleneck(\n",
       "      (conv1): Conv2d(512, 512, kernel_size=(1, 1), stride=(1, 1), bias=False)\n",
       "      (bn1): BatchNorm2d(512, eps=1e-05, momentum=0.1, affine=True, track_running_stats=True)\n",
       "      (act1): ReLU(inplace=True)\n",
       "      (conv2): Conv2d(512, 512, kernel_size=(3, 3), stride=(2, 2), padding=(1, 1), groups=32, bias=False)\n",
       "      (bn2): BatchNorm2d(512, eps=1e-05, momentum=0.1, affine=True, track_running_stats=True)\n",
       "      (drop_block): Identity()\n",
       "      (act2): ReLU(inplace=True)\n",
       "      (aa): Identity()\n",
       "      (conv3): Conv2d(512, 1024, kernel_size=(1, 1), stride=(1, 1), bias=False)\n",
       "      (bn3): BatchNorm2d(1024, eps=1e-05, momentum=0.1, affine=True, track_running_stats=True)\n",
       "      (act3): ReLU(inplace=True)\n",
       "      (downsample): Sequential(\n",
       "        (0): Conv2d(512, 1024, kernel_size=(1, 1), stride=(2, 2), bias=False)\n",
       "        (1): BatchNorm2d(1024, eps=1e-05, momentum=0.1, affine=True, track_running_stats=True)\n",
       "      )\n",
       "    )\n",
       "    (1): Bottleneck(\n",
       "      (conv1): Conv2d(1024, 512, kernel_size=(1, 1), stride=(1, 1), bias=False)\n",
       "      (bn1): BatchNorm2d(512, eps=1e-05, momentum=0.1, affine=True, track_running_stats=True)\n",
       "      (act1): ReLU(inplace=True)\n",
       "      (conv2): Conv2d(512, 512, kernel_size=(3, 3), stride=(1, 1), padding=(1, 1), groups=32, bias=False)\n",
       "      (bn2): BatchNorm2d(512, eps=1e-05, momentum=0.1, affine=True, track_running_stats=True)\n",
       "      (drop_block): Identity()\n",
       "      (act2): ReLU(inplace=True)\n",
       "      (aa): Identity()\n",
       "      (conv3): Conv2d(512, 1024, kernel_size=(1, 1), stride=(1, 1), bias=False)\n",
       "      (bn3): BatchNorm2d(1024, eps=1e-05, momentum=0.1, affine=True, track_running_stats=True)\n",
       "      (act3): ReLU(inplace=True)\n",
       "    )\n",
       "    (2): Bottleneck(\n",
       "      (conv1): Conv2d(1024, 512, kernel_size=(1, 1), stride=(1, 1), bias=False)\n",
       "      (bn1): BatchNorm2d(512, eps=1e-05, momentum=0.1, affine=True, track_running_stats=True)\n",
       "      (act1): ReLU(inplace=True)\n",
       "      (conv2): Conv2d(512, 512, kernel_size=(3, 3), stride=(1, 1), padding=(1, 1), groups=32, bias=False)\n",
       "      (bn2): BatchNorm2d(512, eps=1e-05, momentum=0.1, affine=True, track_running_stats=True)\n",
       "      (drop_block): Identity()\n",
       "      (act2): ReLU(inplace=True)\n",
       "      (aa): Identity()\n",
       "      (conv3): Conv2d(512, 1024, kernel_size=(1, 1), stride=(1, 1), bias=False)\n",
       "      (bn3): BatchNorm2d(1024, eps=1e-05, momentum=0.1, affine=True, track_running_stats=True)\n",
       "      (act3): ReLU(inplace=True)\n",
       "    )\n",
       "    (3): Bottleneck(\n",
       "      (conv1): Conv2d(1024, 512, kernel_size=(1, 1), stride=(1, 1), bias=False)\n",
       "      (bn1): BatchNorm2d(512, eps=1e-05, momentum=0.1, affine=True, track_running_stats=True)\n",
       "      (act1): ReLU(inplace=True)\n",
       "      (conv2): Conv2d(512, 512, kernel_size=(3, 3), stride=(1, 1), padding=(1, 1), groups=32, bias=False)\n",
       "      (bn2): BatchNorm2d(512, eps=1e-05, momentum=0.1, affine=True, track_running_stats=True)\n",
       "      (drop_block): Identity()\n",
       "      (act2): ReLU(inplace=True)\n",
       "      (aa): Identity()\n",
       "      (conv3): Conv2d(512, 1024, kernel_size=(1, 1), stride=(1, 1), bias=False)\n",
       "      (bn3): BatchNorm2d(1024, eps=1e-05, momentum=0.1, affine=True, track_running_stats=True)\n",
       "      (act3): ReLU(inplace=True)\n",
       "    )\n",
       "    (4): Bottleneck(\n",
       "      (conv1): Conv2d(1024, 512, kernel_size=(1, 1), stride=(1, 1), bias=False)\n",
       "      (bn1): BatchNorm2d(512, eps=1e-05, momentum=0.1, affine=True, track_running_stats=True)\n",
       "      (act1): ReLU(inplace=True)\n",
       "      (conv2): Conv2d(512, 512, kernel_size=(3, 3), stride=(1, 1), padding=(1, 1), groups=32, bias=False)\n",
       "      (bn2): BatchNorm2d(512, eps=1e-05, momentum=0.1, affine=True, track_running_stats=True)\n",
       "      (drop_block): Identity()\n",
       "      (act2): ReLU(inplace=True)\n",
       "      (aa): Identity()\n",
       "      (conv3): Conv2d(512, 1024, kernel_size=(1, 1), stride=(1, 1), bias=False)\n",
       "      (bn3): BatchNorm2d(1024, eps=1e-05, momentum=0.1, affine=True, track_running_stats=True)\n",
       "      (act3): ReLU(inplace=True)\n",
       "    )\n",
       "    (5): Bottleneck(\n",
       "      (conv1): Conv2d(1024, 512, kernel_size=(1, 1), stride=(1, 1), bias=False)\n",
       "      (bn1): BatchNorm2d(512, eps=1e-05, momentum=0.1, affine=True, track_running_stats=True)\n",
       "      (act1): ReLU(inplace=True)\n",
       "      (conv2): Conv2d(512, 512, kernel_size=(3, 3), stride=(1, 1), padding=(1, 1), groups=32, bias=False)\n",
       "      (bn2): BatchNorm2d(512, eps=1e-05, momentum=0.1, affine=True, track_running_stats=True)\n",
       "      (drop_block): Identity()\n",
       "      (act2): ReLU(inplace=True)\n",
       "      (aa): Identity()\n",
       "      (conv3): Conv2d(512, 1024, kernel_size=(1, 1), stride=(1, 1), bias=False)\n",
       "      (bn3): BatchNorm2d(1024, eps=1e-05, momentum=0.1, affine=True, track_running_stats=True)\n",
       "      (act3): ReLU(inplace=True)\n",
       "    )\n",
       "  )\n",
       "  (layer4): Sequential(\n",
       "    (0): Bottleneck(\n",
       "      (conv1): Conv2d(1024, 1024, kernel_size=(1, 1), stride=(1, 1), bias=False)\n",
       "      (bn1): BatchNorm2d(1024, eps=1e-05, momentum=0.1, affine=True, track_running_stats=True)\n",
       "      (act1): ReLU(inplace=True)\n",
       "      (conv2): Conv2d(1024, 1024, kernel_size=(3, 3), stride=(2, 2), padding=(1, 1), groups=32, bias=False)\n",
       "      (bn2): BatchNorm2d(1024, eps=1e-05, momentum=0.1, affine=True, track_running_stats=True)\n",
       "      (drop_block): Identity()\n",
       "      (act2): ReLU(inplace=True)\n",
       "      (aa): Identity()\n",
       "      (conv3): Conv2d(1024, 2048, kernel_size=(1, 1), stride=(1, 1), bias=False)\n",
       "      (bn3): BatchNorm2d(2048, eps=1e-05, momentum=0.1, affine=True, track_running_stats=True)\n",
       "      (act3): ReLU(inplace=True)\n",
       "      (downsample): Sequential(\n",
       "        (0): Conv2d(1024, 2048, kernel_size=(1, 1), stride=(2, 2), bias=False)\n",
       "        (1): BatchNorm2d(2048, eps=1e-05, momentum=0.1, affine=True, track_running_stats=True)\n",
       "      )\n",
       "    )\n",
       "    (1): Bottleneck(\n",
       "      (conv1): Conv2d(2048, 1024, kernel_size=(1, 1), stride=(1, 1), bias=False)\n",
       "      (bn1): BatchNorm2d(1024, eps=1e-05, momentum=0.1, affine=True, track_running_stats=True)\n",
       "      (act1): ReLU(inplace=True)\n",
       "      (conv2): Conv2d(1024, 1024, kernel_size=(3, 3), stride=(1, 1), padding=(1, 1), groups=32, bias=False)\n",
       "      (bn2): BatchNorm2d(1024, eps=1e-05, momentum=0.1, affine=True, track_running_stats=True)\n",
       "      (drop_block): Identity()\n",
       "      (act2): ReLU(inplace=True)\n",
       "      (aa): Identity()\n",
       "      (conv3): Conv2d(1024, 2048, kernel_size=(1, 1), stride=(1, 1), bias=False)\n",
       "      (bn3): BatchNorm2d(2048, eps=1e-05, momentum=0.1, affine=True, track_running_stats=True)\n",
       "      (act3): ReLU(inplace=True)\n",
       "    )\n",
       "    (2): Bottleneck(\n",
       "      (conv1): Conv2d(2048, 1024, kernel_size=(1, 1), stride=(1, 1), bias=False)\n",
       "      (bn1): BatchNorm2d(1024, eps=1e-05, momentum=0.1, affine=True, track_running_stats=True)\n",
       "      (act1): ReLU(inplace=True)\n",
       "      (conv2): Conv2d(1024, 1024, kernel_size=(3, 3), stride=(1, 1), padding=(1, 1), groups=32, bias=False)\n",
       "      (bn2): BatchNorm2d(1024, eps=1e-05, momentum=0.1, affine=True, track_running_stats=True)\n",
       "      (drop_block): Identity()\n",
       "      (act2): ReLU(inplace=True)\n",
       "      (aa): Identity()\n",
       "      (conv3): Conv2d(1024, 2048, kernel_size=(1, 1), stride=(1, 1), bias=False)\n",
       "      (bn3): BatchNorm2d(2048, eps=1e-05, momentum=0.1, affine=True, track_running_stats=True)\n",
       "      (act3): ReLU(inplace=True)\n",
       "    )\n",
       "  )\n",
       "  (global_pool): SelectAdaptivePool2d (pool_type=avg, flatten=Flatten(start_dim=1, end_dim=-1))\n",
       "  (fc): Linear(in_features=2048, out_features=5, bias=True)\n",
       ")"
      ]
     },
     "execution_count": 10,
     "metadata": {},
     "output_type": "execute_result"
    }
   ],
   "source": [
    "model_name = \"resnext50_32x4d\"\n",
    "my_model = timm.create_model(model_name, pretrained=True)\n",
    "my_model.fc = nn.Linear(my_model.fc.in_features, OUT_FEATURES)\n",
    "nn.init.xavier_uniform_(my_model.fc.weight)\n",
    "if my_model.fc.bias is not None:\n",
    "    nn.init.zeros_(my_model.fc.bias)\n",
    "my_model"
   ]
  },
  {
   "cell_type": "markdown",
   "id": "8cbf8b6b",
   "metadata": {
    "papermill": {
     "duration": 0.008461,
     "end_time": "2023-10-22T06:12:33.894361",
     "exception": false,
     "start_time": "2023-10-22T06:12:33.885900",
     "status": "completed"
    },
    "tags": []
   },
   "source": [
    "# 定义训练"
   ]
  },
  {
   "cell_type": "code",
   "execution_count": 11,
   "id": "887c77ec",
   "metadata": {
    "collapsed": false,
    "execution": {
     "iopub.execute_input": "2023-10-22T06:12:33.912828Z",
     "iopub.status.busy": "2023-10-22T06:12:33.912221Z",
     "iopub.status.idle": "2023-10-22T06:12:33.931890Z",
     "shell.execute_reply": "2023-10-22T06:12:33.931026Z"
    },
    "papermill": {
     "duration": 0.031354,
     "end_time": "2023-10-22T06:12:33.933876",
     "exception": false,
     "start_time": "2023-10-22T06:12:33.902522",
     "status": "completed"
    },
    "tags": []
   },
   "outputs": [],
   "source": [
    "class MyTrainer:\n",
    "    @staticmethod\n",
    "    def accurate_count(y_hat, y_true):\n",
    "        y_hat = y_hat.argmax(axis=1)\n",
    "        y_true = y_true.argmax(axis=1)\n",
    "        correct_count = 0\n",
    "        for i in range(len(y_hat)):\n",
    "            if y_hat[i].type(y_true.dtype) == y_true[i]:\n",
    "                correct_count += 1\n",
    "        return float(correct_count)\n",
    "    @staticmethod\n",
    "    def calc_valid_acc(model, valid_dataloader):\n",
    "        model.eval()\n",
    "        device = next(iter(model.parameters())).device\n",
    "        test_num = 0\n",
    "        test_acc_num = 0\n",
    "        for x, y_true in valid_dataloader:\n",
    "            if isinstance(x, list):\n",
    "                x = [x_1.to(device) for x_1 in x]\n",
    "            else:\n",
    "                x = x.to(device)\n",
    "            y_true_tensor = torch.zeros(size=(len(y_true), OUT_FEATURES))\n",
    "            for i in range(len(y_true)):\n",
    "                label = y_true[i]\n",
    "                y_true_tensor[i, label] = 1\n",
    "            y_true = y_true_tensor\n",
    "            y_true = y_true.to(device)\n",
    "            test_num += y_true.shape[0]\n",
    "            test_acc_num += MyTrainer.accurate_count(model(x), y_true)\n",
    "        return test_acc_num / test_num\n",
    "\n",
    "    def __init__(self, optimizer, model, criterion, train_dataloader, valid_dataloader, param_group=True, learning_rate=lr_tune, num_epochs=NUM_EPOCHS, devices=DEVICES):\n",
    "        self.optimizer_class = optimizer\n",
    "        self.model = model\n",
    "        self.criterion = criterion\n",
    "        self.devices = devices\n",
    "        self.train_dataloader = train_dataloader\n",
    "        self.valid_dataloader = valid_dataloader\n",
    "        self.param_group = param_group\n",
    "        self.learning_rate = learning_rate\n",
    "        self.num_epochs = num_epochs\n",
    "    def train_epoch(self, epoch):\n",
    "        self.model.train()\n",
    "        total_loss = 0\n",
    "        train_num = 0\n",
    "        train_acc_num = 0\n",
    "        batch_num = len(self.train_dataloader)\n",
    "        param_1x = [param for name, param in self.model.named_parameters() if\n",
    "                    name not in ['module.fc.weight', 'module.fc.bias']]\n",
    "        optimizer = self.optimizer_class([{'params': param_1x},\n",
    "                            {'params': self.model.module.fc.parameters(),\n",
    "                            'lr': self.learning_rate(epoch) * 10}],\n",
    "                            lr=self.learning_rate(epoch), weight_decay=0.001)\n",
    "        print(f'epoch{epoch + 1} begins:')\n",
    "        tk0 = tqdm(enumerate(self.train_dataloader), total=batch_num)\n",
    "        for batch_idx, (x, y_true) in tk0:\n",
    "            y_true_tensor = torch.zeros(size=(len(y_true), OUT_FEATURES))\n",
    "            for i in range(len(y_true)):\n",
    "                label = y_true[i]\n",
    "                y_true_tensor[i, label] = 1\n",
    "            y_true = y_true_tensor\n",
    "            x, y_true = x.to(self.devices[0]), y_true.to(self.devices[0])\n",
    "            optimizer.zero_grad()\n",
    "            y_hat = self.model(x)\n",
    "            loss = self.criterion(y_hat, y_true, reduction='none')\n",
    "            loss.sum().backward()\n",
    "            optimizer.step()\n",
    "            total_loss += loss.sum()\n",
    "            train_num += y_true.shape[0]\n",
    "            train_acc_num += MyTrainer.accurate_count(y_hat, y_true)\n",
    "\n",
    "        return total_loss / train_num, train_acc_num / train_num\n",
    "    def train(self):\n",
    "        best_valid_acc = 0\n",
    "        self.model = nn.DataParallel(self.model ,device_ids=self.devices).to(self.devices[0])\n",
    "        for epoch in range(self.num_epochs):\n",
    "            train_loss, train_acc = MyTrainer.train_epoch(self, epoch)\n",
    "            valid_acc = MyTrainer.calc_valid_acc(self.model, self.valid_dataloader)\n",
    "            if valid_acc > best_valid_acc:\n",
    "                torch.save(self.model.state_dict(), os.path.join('best_model.pth'))\n",
    "            print(f'epoch{epoch + 1}:train_loss:{train_loss}, train_acc:{train_acc}, valid_acc:{valid_acc}')"
   ]
  },
  {
   "cell_type": "markdown",
   "id": "3beca6c2",
   "metadata": {
    "papermill": {
     "duration": 0.008502,
     "end_time": "2023-10-22T06:12:33.951171",
     "exception": false,
     "start_time": "2023-10-22T06:12:33.942669",
     "status": "completed"
    },
    "tags": []
   },
   "source": [
    "# 训练"
   ]
  },
  {
   "cell_type": "code",
   "execution_count": 12,
   "id": "d2bb297a",
   "metadata": {
    "collapsed": false,
    "execution": {
     "iopub.execute_input": "2023-10-22T06:12:33.968607Z",
     "iopub.status.busy": "2023-10-22T06:12:33.968333Z",
     "iopub.status.idle": "2023-10-22T06:12:33.972533Z",
     "shell.execute_reply": "2023-10-22T06:12:33.971702Z"
    },
    "papermill": {
     "duration": 0.014989,
     "end_time": "2023-10-22T06:12:33.974384",
     "exception": false,
     "start_time": "2023-10-22T06:12:33.959395",
     "status": "completed"
    },
    "tags": []
   },
   "outputs": [],
   "source": [
    "torch.cuda.empty_cache()"
   ]
  },
  {
   "cell_type": "code",
   "execution_count": 13,
   "id": "6ead6004",
   "metadata": {
    "collapsed": false,
    "execution": {
     "iopub.execute_input": "2023-10-22T06:12:33.992764Z",
     "iopub.status.busy": "2023-10-22T06:12:33.992476Z",
     "iopub.status.idle": "2023-10-22T11:51:19.543367Z",
     "shell.execute_reply": "2023-10-22T11:51:19.542443Z"
    },
    "papermill": {
     "duration": 20326.342337,
     "end_time": "2023-10-22T11:51:20.325251",
     "exception": false,
     "start_time": "2023-10-22T06:12:33.982914",
     "status": "completed"
    },
    "tags": []
   },
   "outputs": [
    {
     "name": "stdout",
     "output_type": "stream",
     "text": [
      "epoch1 begins:\n"
     ]
    },
    {
     "name": "stderr",
     "output_type": "stream",
     "text": [
      "100%|██████████| 535/535 [17:38<00:00,  1.98s/it]\n"
     ]
    },
    {
     "name": "stdout",
     "output_type": "stream",
     "text": [
      "epoch1:train_loss:0.12163790315389633, train_acc:0.6286148273646083, valid_acc:0.6848130841121496\n",
      "epoch2 begins:\n"
     ]
    },
    {
     "name": "stderr",
     "output_type": "stream",
     "text": [
      "100%|██████████| 535/535 [15:28<00:00,  1.74s/it]\n"
     ]
    },
    {
     "name": "stdout",
     "output_type": "stream",
     "text": [
      "epoch2:train_loss:0.09970029443502426, train_acc:0.7108722322836946, valid_acc:0.7651869158878505\n",
      "epoch3 begins:\n"
     ]
    },
    {
     "name": "stderr",
     "output_type": "stream",
     "text": [
      "100%|██████████| 535/535 [15:16<00:00,  1.71s/it]\n"
     ]
    },
    {
     "name": "stdout",
     "output_type": "stream",
     "text": [
      "epoch3:train_loss:0.08858554810285568, train_acc:0.7594204591926156, valid_acc:0.8065420560747664\n",
      "epoch4 begins:\n"
     ]
    },
    {
     "name": "stderr",
     "output_type": "stream",
     "text": [
      "100%|██████████| 535/535 [15:22<00:00,  1.73s/it]\n"
     ]
    },
    {
     "name": "stdout",
     "output_type": "stream",
     "text": [
      "epoch4:train_loss:0.07842681556940079, train_acc:0.8055149851025296, valid_acc:0.8434579439252337\n",
      "epoch5 begins:\n"
     ]
    },
    {
     "name": "stderr",
     "output_type": "stream",
     "text": [
      "100%|██████████| 535/535 [15:14<00:00,  1.71s/it]\n"
     ]
    },
    {
     "name": "stdout",
     "output_type": "stream",
     "text": [
      "epoch5:train_loss:0.07362321019172668, train_acc:0.8226908920955774, valid_acc:0.8488317757009346\n",
      "epoch6 begins:\n"
     ]
    },
    {
     "name": "stderr",
     "output_type": "stream",
     "text": [
      "100%|██████████| 535/535 [15:13<00:00,  1.71s/it]\n"
     ]
    },
    {
     "name": "stdout",
     "output_type": "stream",
     "text": [
      "epoch6:train_loss:0.06768012046813965, train_acc:0.8403925921598411, valid_acc:0.8635514018691589\n",
      "epoch7 begins:\n"
     ]
    },
    {
     "name": "stderr",
     "output_type": "stream",
     "text": [
      "100%|██████████| 535/535 [15:16<00:00,  1.71s/it]\n"
     ]
    },
    {
     "name": "stdout",
     "output_type": "stream",
     "text": [
      "epoch7:train_loss:0.06503792107105255, train_acc:0.8451247298007828, valid_acc:0.8663551401869158\n",
      "epoch8 begins:\n"
     ]
    },
    {
     "name": "stderr",
     "output_type": "stream",
     "text": [
      "100%|██████████| 535/535 [15:14<00:00,  1.71s/it]\n"
     ]
    },
    {
     "name": "stdout",
     "output_type": "stream",
     "text": [
      "epoch8:train_loss:0.06315765529870987, train_acc:0.8502073961558685, valid_acc:0.8761682242990654\n",
      "epoch9 begins:\n"
     ]
    },
    {
     "name": "stderr",
     "output_type": "stream",
     "text": [
      "100%|██████████| 535/535 [15:18<00:00,  1.72s/it]\n"
     ]
    },
    {
     "name": "stdout",
     "output_type": "stream",
     "text": [
      "epoch9:train_loss:0.06096189469099045, train_acc:0.8589706140094643, valid_acc:0.8796728971962616\n",
      "epoch10 begins:\n"
     ]
    },
    {
     "name": "stderr",
     "output_type": "stream",
     "text": [
      "100%|██████████| 535/535 [15:18<00:00,  1.72s/it]\n"
     ]
    },
    {
     "name": "stdout",
     "output_type": "stream",
     "text": [
      "epoch10:train_loss:0.059055063873529434, train_acc:0.8653969737687679, valid_acc:0.8845794392523364\n",
      "epoch11 begins:\n"
     ]
    },
    {
     "name": "stderr",
     "output_type": "stream",
     "text": [
      "100%|██████████| 535/535 [15:16<00:00,  1.71s/it]\n"
     ]
    },
    {
     "name": "stdout",
     "output_type": "stream",
     "text": [
      "epoch11:train_loss:0.0571998730301857, train_acc:0.8674417246012736, valid_acc:0.8841121495327103\n",
      "epoch12 begins:\n"
     ]
    },
    {
     "name": "stderr",
     "output_type": "stream",
     "text": [
      "100%|██████████| 535/535 [15:20<00:00,  1.72s/it]\n"
     ]
    },
    {
     "name": "stdout",
     "output_type": "stream",
     "text": [
      "epoch12:train_loss:0.055083032697439194, train_acc:0.8739849272652919, valid_acc:0.8829439252336448\n",
      "epoch13 begins:\n"
     ]
    },
    {
     "name": "stderr",
     "output_type": "stream",
     "text": [
      "100%|██████████| 535/535 [15:20<00:00,  1.72s/it]\n"
     ]
    },
    {
     "name": "stdout",
     "output_type": "stream",
     "text": [
      "epoch13:train_loss:0.05392856523394585, train_acc:0.8744522988841502, valid_acc:0.8876168224299066\n",
      "epoch14 begins:\n"
     ]
    },
    {
     "name": "stderr",
     "output_type": "stream",
     "text": [
      "100%|██████████| 535/535 [15:23<00:00,  1.73s/it]\n"
     ]
    },
    {
     "name": "stdout",
     "output_type": "stream",
     "text": [
      "epoch14:train_loss:0.052912820130586624, train_acc:0.8797686510486651, valid_acc:0.8897196261682243\n",
      "epoch15 begins:\n"
     ]
    },
    {
     "name": "stderr",
     "output_type": "stream",
     "text": [
      "100%|██████████| 535/535 [15:23<00:00,  1.73s/it]\n"
     ]
    },
    {
     "name": "stdout",
     "output_type": "stream",
     "text": [
      "epoch15:train_loss:0.050898995250463486, train_acc:0.8818718233335281, valid_acc:0.8911214953271028\n",
      "epoch16 begins:\n"
     ]
    },
    {
     "name": "stderr",
     "output_type": "stream",
     "text": [
      "100%|██████████| 535/535 [15:22<00:00,  1.72s/it]\n"
     ]
    },
    {
     "name": "stdout",
     "output_type": "stream",
     "text": [
      "epoch16:train_loss:0.05003606155514717, train_acc:0.8850850032131798, valid_acc:0.8927570093457944\n",
      "epoch17 begins:\n"
     ]
    },
    {
     "name": "stderr",
     "output_type": "stream",
     "text": [
      "100%|██████████| 535/535 [15:16<00:00,  1.71s/it]\n"
     ]
    },
    {
     "name": "stdout",
     "output_type": "stream",
     "text": [
      "epoch17:train_loss:0.04865530505776405, train_acc:0.8888239761640474, valid_acc:0.891822429906542\n",
      "epoch18 begins:\n"
     ]
    },
    {
     "name": "stderr",
     "output_type": "stream",
     "text": [
      "100%|██████████| 535/535 [15:16<00:00,  1.71s/it]\n"
     ]
    },
    {
     "name": "stdout",
     "output_type": "stream",
     "text": [
      "epoch18:train_loss:0.04778115823864937, train_acc:0.8898755623064789, valid_acc:0.8908878504672897\n",
      "epoch19 begins:\n"
     ]
    },
    {
     "name": "stderr",
     "output_type": "stream",
     "text": [
      "100%|██████████| 535/535 [15:19<00:00,  1.72s/it]\n"
     ]
    },
    {
     "name": "stdout",
     "output_type": "stream",
     "text": [
      "epoch19:train_loss:0.04771780967712402, train_acc:0.8895834550446924, valid_acc:0.891588785046729\n",
      "epoch20 begins:\n"
     ]
    },
    {
     "name": "stderr",
     "output_type": "stream",
     "text": [
      "100%|██████████| 535/535 [15:31<00:00,  1.74s/it]\n"
     ]
    },
    {
     "name": "stdout",
     "output_type": "stream",
     "text": [
      "epoch20:train_loss:0.04701843485236168, train_acc:0.8930887421861308, valid_acc:0.8929906542056075\n"
     ]
    }
   ],
   "source": [
    "my_criterion = F.binary_cross_entropy_with_logits\n",
    "my_trainer = MyTrainer(OPTIMIZER, my_model, my_criterion, my_train_dataloader, my_valid_dataloader)\n",
    "my_trainer.train()"
   ]
  },
  {
   "cell_type": "markdown",
   "id": "0c997075",
   "metadata": {
    "papermill": {
     "duration": 0.809046,
     "end_time": "2023-10-22T11:51:21.945047",
     "exception": false,
     "start_time": "2023-10-22T11:51:21.136001",
     "status": "completed"
    },
    "tags": []
   },
   "source": [
    "# Inference"
   ]
  },
  {
   "cell_type": "code",
   "execution_count": 14,
   "id": "905b5ac8",
   "metadata": {
    "collapsed": false,
    "execution": {
     "iopub.execute_input": "2023-10-22T11:51:23.658030Z",
     "iopub.status.busy": "2023-10-22T11:51:23.657646Z",
     "iopub.status.idle": "2023-10-22T11:51:24.472685Z",
     "shell.execute_reply": "2023-10-22T11:51:24.471424Z"
    },
    "papermill": {
     "duration": 1.622841,
     "end_time": "2023-10-22T11:51:24.474274",
     "exception": true,
     "start_time": "2023-10-22T11:51:22.851433",
     "status": "failed"
    },
    "tags": []
   },
   "outputs": [
    {
     "ename": "FileNotFoundError",
     "evalue": "[Errno 2] No such file or directory: '../input/mymodelparam/best_model.pth'",
     "output_type": "error",
     "traceback": [
      "\u001B[0;31m---------------------------------------------------------------------------\u001B[0m",
      "\u001B[0;31mFileNotFoundError\u001B[0m                         Traceback (most recent call last)",
      "Cell \u001B[0;32mIn[14], line 4\u001B[0m\n\u001B[1;32m      2\u001B[0m preds \u001B[38;5;241m=\u001B[39m []\n\u001B[1;32m      3\u001B[0m my_model\u001B[38;5;241m.\u001B[39meval()\n\u001B[0;32m----> 4\u001B[0m model_param \u001B[38;5;241m=\u001B[39m \u001B[43mtorch\u001B[49m\u001B[38;5;241;43m.\u001B[39;49m\u001B[43mload\u001B[49m\u001B[43m(\u001B[49m\u001B[43mos\u001B[49m\u001B[38;5;241;43m.\u001B[39;49m\u001B[43mpath\u001B[49m\u001B[38;5;241;43m.\u001B[39;49m\u001B[43mjoin\u001B[49m\u001B[43m(\u001B[49m\u001B[43mINPUT_PATH\u001B[49m\u001B[43m,\u001B[49m\u001B[43m \u001B[49m\u001B[38;5;124;43m'\u001B[39;49m\u001B[38;5;124;43mbest_model.pth\u001B[39;49m\u001B[38;5;124;43m'\u001B[39;49m\u001B[43m)\u001B[49m\u001B[43m)\u001B[49m\n\u001B[1;32m      5\u001B[0m new_model_param \u001B[38;5;241m=\u001B[39m {k[\u001B[38;5;241m7\u001B[39m:]: v \u001B[38;5;28;01mfor\u001B[39;00m k, v \u001B[38;5;129;01min\u001B[39;00m model_param\u001B[38;5;241m.\u001B[39mitems() \u001B[38;5;28;01mif\u001B[39;00m \u001B[38;5;124m'\u001B[39m\u001B[38;5;124mmodule.\u001B[39m\u001B[38;5;124m'\u001B[39m \u001B[38;5;129;01min\u001B[39;00m k}\n\u001B[1;32m      6\u001B[0m my_model\u001B[38;5;241m.\u001B[39mload_state_dict(new_model_param)\n",
      "File \u001B[0;32m/opt/conda/lib/python3.10/site-packages/torch/serialization.py:791\u001B[0m, in \u001B[0;36mload\u001B[0;34m(f, map_location, pickle_module, weights_only, **pickle_load_args)\u001B[0m\n\u001B[1;32m    788\u001B[0m \u001B[38;5;28;01mif\u001B[39;00m \u001B[38;5;124m'\u001B[39m\u001B[38;5;124mencoding\u001B[39m\u001B[38;5;124m'\u001B[39m \u001B[38;5;129;01mnot\u001B[39;00m \u001B[38;5;129;01min\u001B[39;00m pickle_load_args\u001B[38;5;241m.\u001B[39mkeys():\n\u001B[1;32m    789\u001B[0m     pickle_load_args[\u001B[38;5;124m'\u001B[39m\u001B[38;5;124mencoding\u001B[39m\u001B[38;5;124m'\u001B[39m] \u001B[38;5;241m=\u001B[39m \u001B[38;5;124m'\u001B[39m\u001B[38;5;124mutf-8\u001B[39m\u001B[38;5;124m'\u001B[39m\n\u001B[0;32m--> 791\u001B[0m \u001B[38;5;28;01mwith\u001B[39;00m \u001B[43m_open_file_like\u001B[49m\u001B[43m(\u001B[49m\u001B[43mf\u001B[49m\u001B[43m,\u001B[49m\u001B[43m \u001B[49m\u001B[38;5;124;43m'\u001B[39;49m\u001B[38;5;124;43mrb\u001B[39;49m\u001B[38;5;124;43m'\u001B[39;49m\u001B[43m)\u001B[49m \u001B[38;5;28;01mas\u001B[39;00m opened_file:\n\u001B[1;32m    792\u001B[0m     \u001B[38;5;28;01mif\u001B[39;00m _is_zipfile(opened_file):\n\u001B[1;32m    793\u001B[0m         \u001B[38;5;66;03m# The zipfile reader is going to advance the current file position.\u001B[39;00m\n\u001B[1;32m    794\u001B[0m         \u001B[38;5;66;03m# If we want to actually tail call to torch.jit.load, we need to\u001B[39;00m\n\u001B[1;32m    795\u001B[0m         \u001B[38;5;66;03m# reset back to the original position.\u001B[39;00m\n\u001B[1;32m    796\u001B[0m         orig_position \u001B[38;5;241m=\u001B[39m opened_file\u001B[38;5;241m.\u001B[39mtell()\n",
      "File \u001B[0;32m/opt/conda/lib/python3.10/site-packages/torch/serialization.py:271\u001B[0m, in \u001B[0;36m_open_file_like\u001B[0;34m(name_or_buffer, mode)\u001B[0m\n\u001B[1;32m    269\u001B[0m \u001B[38;5;28;01mdef\u001B[39;00m \u001B[38;5;21m_open_file_like\u001B[39m(name_or_buffer, mode):\n\u001B[1;32m    270\u001B[0m     \u001B[38;5;28;01mif\u001B[39;00m _is_path(name_or_buffer):\n\u001B[0;32m--> 271\u001B[0m         \u001B[38;5;28;01mreturn\u001B[39;00m \u001B[43m_open_file\u001B[49m\u001B[43m(\u001B[49m\u001B[43mname_or_buffer\u001B[49m\u001B[43m,\u001B[49m\u001B[43m \u001B[49m\u001B[43mmode\u001B[49m\u001B[43m)\u001B[49m\n\u001B[1;32m    272\u001B[0m     \u001B[38;5;28;01melse\u001B[39;00m:\n\u001B[1;32m    273\u001B[0m         \u001B[38;5;28;01mif\u001B[39;00m \u001B[38;5;124m'\u001B[39m\u001B[38;5;124mw\u001B[39m\u001B[38;5;124m'\u001B[39m \u001B[38;5;129;01min\u001B[39;00m mode:\n",
      "File \u001B[0;32m/opt/conda/lib/python3.10/site-packages/torch/serialization.py:252\u001B[0m, in \u001B[0;36m_open_file.__init__\u001B[0;34m(self, name, mode)\u001B[0m\n\u001B[1;32m    251\u001B[0m \u001B[38;5;28;01mdef\u001B[39;00m \u001B[38;5;21m__init__\u001B[39m(\u001B[38;5;28mself\u001B[39m, name, mode):\n\u001B[0;32m--> 252\u001B[0m     \u001B[38;5;28msuper\u001B[39m()\u001B[38;5;241m.\u001B[39m\u001B[38;5;21m__init__\u001B[39m(\u001B[38;5;28;43mopen\u001B[39;49m\u001B[43m(\u001B[49m\u001B[43mname\u001B[49m\u001B[43m,\u001B[49m\u001B[43m \u001B[49m\u001B[43mmode\u001B[49m\u001B[43m)\u001B[49m)\n",
      "\u001B[0;31mFileNotFoundError\u001B[0m: [Errno 2] No such file or directory: '../input/mymodelparam/best_model.pth'"
     ]
    }
   ],
   "source": [
    "test_device = next(iter(my_model.parameters())).device\n",
    "preds = []\n",
    "my_model.eval()\n",
    "model_param = torch.load(os.path.join(INPUT_PATH, 'best_model.pth'))\n",
    "new_model_param = {k[7:]: v for k, v in model_param.items() if 'module.' in k}\n",
    "my_model.load_state_dict(new_model_param)\n",
    "test_image_list = np.asarray([image_name for image_name in os.listdir(TEST_IMAGE_PATH)])\n",
    "for single_image_name in test_image_list:\n",
    "    with torch.no_grad():\n",
    "        ans = torch.zeros(5, device=test_device)\n",
    "        for _ in range(TTA):\n",
    "            image = Image.open(os.path.join(TEST_IMAGE_PATH, single_image_name))\n",
    "            aug_image = test_augs(image=np.array(image))['image']\n",
    "            test_image = torch.tensor(aug_image, dtype=torch.float, device=test_device).unsqueeze(0)\n",
    "            ans += my_model(test_image).view(ans.shape)\n",
    "            label = ans.argmax(dim=-1).cpu().numpy()\n",
    "        preds.append(label)\n",
    "\n",
    "df_submission = pd.DataFrame(columns=pd.read_csv(TRAIN_CSV_PATH).columns)\n",
    "df_submission['image_id'] = pd.DataFrame(test_image_list)\n",
    "df_submission['label'] = pd.DataFrame(preds)\n",
    "df_submission.to_csv(SUBMISSION_PATH, index=False)"
   ]
  }
 ],
 "metadata": {
  "kernelspec": {
   "display_name": "Python 3",
   "language": "python",
   "name": "python3"
  },
  "language_info": {
   "codemirror_mode": {
    "name": "ipython",
    "version": 3
   },
   "file_extension": ".py",
   "mimetype": "text/x-python",
   "name": "python",
   "nbconvert_exporter": "python",
   "pygments_lexer": "ipython3",
   "version": "3.10.12"
  },
  "papermill": {
   "default_parameters": {},
   "duration": 20355.855971,
   "end_time": "2023-10-22T11:51:29.209007",
   "environment_variables": {},
   "exception": true,
   "input_path": "__notebook__.ipynb",
   "output_path": "__notebook__.ipynb",
   "parameters": {},
   "start_time": "2023-10-22T06:12:13.353036",
   "version": "2.4.0"
  },
  "widgets": {
   "application/vnd.jupyter.widget-state+json": {
    "state": {
     "04020c32b4634e77a36109f47c123a88": {
      "model_module": "@jupyter-widgets/base",
      "model_module_version": "1.2.0",
      "model_name": "LayoutModel",
      "state": {
       "_model_module": "@jupyter-widgets/base",
       "_model_module_version": "1.2.0",
       "_model_name": "LayoutModel",
       "_view_count": null,
       "_view_module": "@jupyter-widgets/base",
       "_view_module_version": "1.2.0",
       "_view_name": "LayoutView",
       "align_content": null,
       "align_items": null,
       "align_self": null,
       "border": null,
       "bottom": null,
       "display": null,
       "flex": null,
       "flex_flow": null,
       "grid_area": null,
       "grid_auto_columns": null,
       "grid_auto_flow": null,
       "grid_auto_rows": null,
       "grid_column": null,
       "grid_gap": null,
       "grid_row": null,
       "grid_template_areas": null,
       "grid_template_columns": null,
       "grid_template_rows": null,
       "height": null,
       "justify_content": null,
       "justify_items": null,
       "left": null,
       "margin": null,
       "max_height": null,
       "max_width": null,
       "min_height": null,
       "min_width": null,
       "object_fit": null,
       "object_position": null,
       "order": null,
       "overflow": null,
       "overflow_x": null,
       "overflow_y": null,
       "padding": null,
       "right": null,
       "top": null,
       "visibility": null,
       "width": null
      }
     },
     "16577b7058c642da9d7f822251f7b42b": {
      "model_module": "@jupyter-widgets/controls",
      "model_module_version": "1.5.0",
      "model_name": "FloatProgressModel",
      "state": {
       "_dom_classes": [],
       "_model_module": "@jupyter-widgets/controls",
       "_model_module_version": "1.5.0",
       "_model_name": "FloatProgressModel",
       "_view_count": null,
       "_view_module": "@jupyter-widgets/controls",
       "_view_module_version": "1.5.0",
       "_view_name": "ProgressView",
       "bar_style": "success",
       "description": "",
       "description_tooltip": null,
       "layout": "IPY_MODEL_d9cead30ddc1409d85c1fb552d419ed0",
       "max": 1.00417784E8,
       "min": 0.0,
       "orientation": "horizontal",
       "style": "IPY_MODEL_17aabe0c80fc40aaa0c194ef9bd3561e",
       "value": 1.00417784E8
      }
     },
     "17aabe0c80fc40aaa0c194ef9bd3561e": {
      "model_module": "@jupyter-widgets/controls",
      "model_module_version": "1.5.0",
      "model_name": "ProgressStyleModel",
      "state": {
       "_model_module": "@jupyter-widgets/controls",
       "_model_module_version": "1.5.0",
       "_model_name": "ProgressStyleModel",
       "_view_count": null,
       "_view_module": "@jupyter-widgets/base",
       "_view_module_version": "1.2.0",
       "_view_name": "StyleView",
       "bar_color": null,
       "description_width": ""
      }
     },
     "36bc894858524ed689c5f750c94effd7": {
      "model_module": "@jupyter-widgets/controls",
      "model_module_version": "1.5.0",
      "model_name": "HBoxModel",
      "state": {
       "_dom_classes": [],
       "_model_module": "@jupyter-widgets/controls",
       "_model_module_version": "1.5.0",
       "_model_name": "HBoxModel",
       "_view_count": null,
       "_view_module": "@jupyter-widgets/controls",
       "_view_module_version": "1.5.0",
       "_view_name": "HBoxView",
       "box_style": "",
       "children": [
        "IPY_MODEL_c917c0c045364ef6a7a0632a924d4341",
        "IPY_MODEL_16577b7058c642da9d7f822251f7b42b",
        "IPY_MODEL_44da949406154025a96aa05d312f0223"
       ],
       "layout": "IPY_MODEL_04020c32b4634e77a36109f47c123a88"
      }
     },
     "37543351cc324b158159763c06ffcfb1": {
      "model_module": "@jupyter-widgets/base",
      "model_module_version": "1.2.0",
      "model_name": "LayoutModel",
      "state": {
       "_model_module": "@jupyter-widgets/base",
       "_model_module_version": "1.2.0",
       "_model_name": "LayoutModel",
       "_view_count": null,
       "_view_module": "@jupyter-widgets/base",
       "_view_module_version": "1.2.0",
       "_view_name": "LayoutView",
       "align_content": null,
       "align_items": null,
       "align_self": null,
       "border": null,
       "bottom": null,
       "display": null,
       "flex": null,
       "flex_flow": null,
       "grid_area": null,
       "grid_auto_columns": null,
       "grid_auto_flow": null,
       "grid_auto_rows": null,
       "grid_column": null,
       "grid_gap": null,
       "grid_row": null,
       "grid_template_areas": null,
       "grid_template_columns": null,
       "grid_template_rows": null,
       "height": null,
       "justify_content": null,
       "justify_items": null,
       "left": null,
       "margin": null,
       "max_height": null,
       "max_width": null,
       "min_height": null,
       "min_width": null,
       "object_fit": null,
       "object_position": null,
       "order": null,
       "overflow": null,
       "overflow_x": null,
       "overflow_y": null,
       "padding": null,
       "right": null,
       "top": null,
       "visibility": null,
       "width": null
      }
     },
     "44da949406154025a96aa05d312f0223": {
      "model_module": "@jupyter-widgets/controls",
      "model_module_version": "1.5.0",
      "model_name": "HTMLModel",
      "state": {
       "_dom_classes": [],
       "_model_module": "@jupyter-widgets/controls",
       "_model_module_version": "1.5.0",
       "_model_name": "HTMLModel",
       "_view_count": null,
       "_view_module": "@jupyter-widgets/controls",
       "_view_module_version": "1.5.0",
       "_view_name": "HTMLView",
       "description": "",
       "description_tooltip": null,
       "layout": "IPY_MODEL_37543351cc324b158159763c06ffcfb1",
       "placeholder": "​",
       "style": "IPY_MODEL_6059c13728704dd9b3ce5863f5012009",
       "value": " 100M/100M [00:00&lt;00:00, 193MB/s]"
      }
     },
     "6059c13728704dd9b3ce5863f5012009": {
      "model_module": "@jupyter-widgets/controls",
      "model_module_version": "1.5.0",
      "model_name": "DescriptionStyleModel",
      "state": {
       "_model_module": "@jupyter-widgets/controls",
       "_model_module_version": "1.5.0",
       "_model_name": "DescriptionStyleModel",
       "_view_count": null,
       "_view_module": "@jupyter-widgets/base",
       "_view_module_version": "1.2.0",
       "_view_name": "StyleView",
       "description_width": ""
      }
     },
     "b4985343db2b4910833bd27376dbac1a": {
      "model_module": "@jupyter-widgets/base",
      "model_module_version": "1.2.0",
      "model_name": "LayoutModel",
      "state": {
       "_model_module": "@jupyter-widgets/base",
       "_model_module_version": "1.2.0",
       "_model_name": "LayoutModel",
       "_view_count": null,
       "_view_module": "@jupyter-widgets/base",
       "_view_module_version": "1.2.0",
       "_view_name": "LayoutView",
       "align_content": null,
       "align_items": null,
       "align_self": null,
       "border": null,
       "bottom": null,
       "display": null,
       "flex": null,
       "flex_flow": null,
       "grid_area": null,
       "grid_auto_columns": null,
       "grid_auto_flow": null,
       "grid_auto_rows": null,
       "grid_column": null,
       "grid_gap": null,
       "grid_row": null,
       "grid_template_areas": null,
       "grid_template_columns": null,
       "grid_template_rows": null,
       "height": null,
       "justify_content": null,
       "justify_items": null,
       "left": null,
       "margin": null,
       "max_height": null,
       "max_width": null,
       "min_height": null,
       "min_width": null,
       "object_fit": null,
       "object_position": null,
       "order": null,
       "overflow": null,
       "overflow_x": null,
       "overflow_y": null,
       "padding": null,
       "right": null,
       "top": null,
       "visibility": null,
       "width": null
      }
     },
     "c917c0c045364ef6a7a0632a924d4341": {
      "model_module": "@jupyter-widgets/controls",
      "model_module_version": "1.5.0",
      "model_name": "HTMLModel",
      "state": {
       "_dom_classes": [],
       "_model_module": "@jupyter-widgets/controls",
       "_model_module_version": "1.5.0",
       "_model_name": "HTMLModel",
       "_view_count": null,
       "_view_module": "@jupyter-widgets/controls",
       "_view_module_version": "1.5.0",
       "_view_name": "HTMLView",
       "description": "",
       "description_tooltip": null,
       "layout": "IPY_MODEL_b4985343db2b4910833bd27376dbac1a",
       "placeholder": "​",
       "style": "IPY_MODEL_e1790c2285704b5da61a6e6932be87d4",
       "value": "Downloading model.safetensors: 100%"
      }
     },
     "d9cead30ddc1409d85c1fb552d419ed0": {
      "model_module": "@jupyter-widgets/base",
      "model_module_version": "1.2.0",
      "model_name": "LayoutModel",
      "state": {
       "_model_module": "@jupyter-widgets/base",
       "_model_module_version": "1.2.0",
       "_model_name": "LayoutModel",
       "_view_count": null,
       "_view_module": "@jupyter-widgets/base",
       "_view_module_version": "1.2.0",
       "_view_name": "LayoutView",
       "align_content": null,
       "align_items": null,
       "align_self": null,
       "border": null,
       "bottom": null,
       "display": null,
       "flex": null,
       "flex_flow": null,
       "grid_area": null,
       "grid_auto_columns": null,
       "grid_auto_flow": null,
       "grid_auto_rows": null,
       "grid_column": null,
       "grid_gap": null,
       "grid_row": null,
       "grid_template_areas": null,
       "grid_template_columns": null,
       "grid_template_rows": null,
       "height": null,
       "justify_content": null,
       "justify_items": null,
       "left": null,
       "margin": null,
       "max_height": null,
       "max_width": null,
       "min_height": null,
       "min_width": null,
       "object_fit": null,
       "object_position": null,
       "order": null,
       "overflow": null,
       "overflow_x": null,
       "overflow_y": null,
       "padding": null,
       "right": null,
       "top": null,
       "visibility": null,
       "width": null
      }
     },
     "e1790c2285704b5da61a6e6932be87d4": {
      "model_module": "@jupyter-widgets/controls",
      "model_module_version": "1.5.0",
      "model_name": "DescriptionStyleModel",
      "state": {
       "_model_module": "@jupyter-widgets/controls",
       "_model_module_version": "1.5.0",
       "_model_name": "DescriptionStyleModel",
       "_view_count": null,
       "_view_module": "@jupyter-widgets/base",
       "_view_module_version": "1.2.0",
       "_view_name": "StyleView",
       "description_width": ""
      }
     }
    },
    "version_major": 2,
    "version_minor": 0
   }
  }
 },
 "nbformat": 4,
 "nbformat_minor": 5
}
