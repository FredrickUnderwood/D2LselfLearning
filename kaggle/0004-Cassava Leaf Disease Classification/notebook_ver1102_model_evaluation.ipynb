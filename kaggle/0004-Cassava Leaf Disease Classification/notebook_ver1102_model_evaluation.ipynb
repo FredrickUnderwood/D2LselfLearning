{
 "cells": [
  {
   "cell_type": "markdown",
   "source": [
    "# Import"
   ],
   "metadata": {
    "collapsed": false
   },
   "id": "3eca5478dcd68a62"
  },
  {
   "cell_type": "code",
   "execution_count": 2,
   "outputs": [],
   "source": [
    "import pandas as pd\n",
    "from sklearn.metrics import classification_report\n",
    "from sklearn.metrics import confusion_matrix"
   ],
   "metadata": {
    "collapsed": false,
    "ExecuteTime": {
     "end_time": "2023-11-06T06:42:55.713406400Z",
     "start_time": "2023-11-06T06:42:55.692291100Z"
    }
   },
   "id": "72cffccf3085e760"
  },
  {
   "cell_type": "markdown",
   "source": [
    "# Load Answer"
   ],
   "metadata": {
    "collapsed": false
   },
   "id": "fd35191be4898187"
  },
  {
   "cell_type": "code",
   "execution_count": 3,
   "outputs": [],
   "source": [
    "df_train = pd.read_csv('train_sorted.csv')\n",
    "df_ans = df_train.iloc[:, 2]"
   ],
   "metadata": {
    "collapsed": false,
    "ExecuteTime": {
     "end_time": "2023-11-06T06:42:55.741548900Z",
     "start_time": "2023-11-06T06:42:55.697316400Z"
    }
   },
   "id": "591a42039b749448"
  },
  {
   "cell_type": "markdown",
   "source": [
    "# Load Prediction"
   ],
   "metadata": {
    "collapsed": false
   },
   "id": "5709dad92c224ec"
  },
  {
   "cell_type": "code",
   "execution_count": 4,
   "outputs": [
    {
     "name": "stdout",
     "output_type": "stream",
     "text": [
      "              precision    recall  f1-score   support\n",
      "\n",
      "           0       0.77      0.74      0.75      1087\n",
      "           1       0.88      0.87      0.88      2189\n",
      "           2       0.86      0.87      0.87      2386\n",
      "           3       0.97      0.98      0.97     13158\n",
      "           4       0.82      0.81      0.81      2577\n",
      "\n",
      "    accuracy                           0.92     21397\n",
      "   macro avg       0.86      0.85      0.86     21397\n",
      "weighted avg       0.92      0.92      0.92     21397\n",
      "\n",
      "[[  799    58    25    29   176]\n",
      " [   71  1913    41    45   119]\n",
      " [   24    50  2083   143    86]\n",
      " [   18    50   174 12832    84]\n",
      " [  131   106   103   146  2091]]\n"
     ]
    }
   ],
   "source": [
    "df_1 = pd.read_csv('b4ns.csv')\n",
    "df_1_ = df_1.iloc[:, 1:]\n",
    "df_1_.columns = [0, 1, 2, 3, 4]\n",
    "df_1_['pred'] = df_1_.idxmax(axis=1)\n",
    "df_1_pred = df_1_.iloc[:, 5]\n",
    "print(classification_report(df_ans, df_1_pred))\n",
    "print(confusion_matrix(df_ans, df_1_pred))"
   ],
   "metadata": {
    "collapsed": false,
    "ExecuteTime": {
     "end_time": "2023-11-06T06:42:55.810667200Z",
     "start_time": "2023-11-06T06:42:55.714414900Z"
    }
   },
   "id": "initial_id"
  },
  {
   "cell_type": "code",
   "execution_count": 5,
   "outputs": [
    {
     "name": "stdout",
     "output_type": "stream",
     "text": [
      "              precision    recall  f1-score   support\n",
      "\n",
      "           0       0.82      0.73      0.78      1087\n",
      "           1       0.89      0.87      0.88      2189\n",
      "           2       0.89      0.87      0.88      2386\n",
      "           3       0.97      0.98      0.98     13158\n",
      "           4       0.81      0.84      0.83      2577\n",
      "\n",
      "    accuracy                           0.93     21397\n",
      "   macro avg       0.88      0.86      0.87     21397\n",
      "weighted avg       0.93      0.93      0.93     21397\n",
      "\n",
      "[[  796    49    20    26   196]\n",
      " [   60  1897    42    46   144]\n",
      " [   18    35  2074   153   106]\n",
      " [   16    43   112 12924    63]\n",
      " [   77    97    87   143  2173]]\n"
     ]
    }
   ],
   "source": [
    "df_2 = pd.read_csv('b5ns.csv')\n",
    "df_2_ = df_2.iloc[:, 1:]\n",
    "df_2_.columns = [0, 1, 2, 3, 4]\n",
    "df_2_['pred'] = df_2_.idxmax(axis=1)\n",
    "df_2_pred = df_2_.iloc[:, 5]\n",
    "print(classification_report(df_ans, df_2_pred))\n",
    "print(confusion_matrix(df_ans, df_2_pred))"
   ],
   "metadata": {
    "collapsed": false,
    "ExecuteTime": {
     "end_time": "2023-11-06T06:42:55.899164400Z",
     "start_time": "2023-11-06T06:42:55.810667200Z"
    }
   },
   "id": "abf6eb5fc68d171c"
  },
  {
   "cell_type": "code",
   "execution_count": 6,
   "outputs": [
    {
     "name": "stdout",
     "output_type": "stream",
     "text": [
      "              precision    recall  f1-score   support\n",
      "\n",
      "           0       0.74      0.63      0.68      1087\n",
      "           1       0.86      0.81      0.84      2189\n",
      "           2       0.86      0.82      0.84      2386\n",
      "           3       0.95      0.98      0.96     13158\n",
      "           4       0.77      0.77      0.77      2577\n",
      "\n",
      "    accuracy                           0.90     21397\n",
      "   macro avg       0.84      0.80      0.82     21397\n",
      "weighted avg       0.90      0.90      0.90     21397\n",
      "\n",
      "[[  689    64    21    74   239]\n",
      " [   90  1770    51   127   151]\n",
      " [   21    37  1952   255   121]\n",
      " [   15    52   129 12875    87]\n",
      " [  116   124   106   253  1978]]\n"
     ]
    }
   ],
   "source": [
    "df_3 = pd.read_csv('res50.csv')\n",
    "df_3_ = df_3.iloc[:, 1:]\n",
    "df_3_.columns = [0, 1, 2, 3, 4]\n",
    "df_3_['pred'] = df_3_.idxmax(axis=1)\n",
    "df_3_pred = df_3_.iloc[:, 5]\n",
    "print(classification_report(df_ans, df_3_pred))\n",
    "print(confusion_matrix(df_ans, df_3_pred))"
   ],
   "metadata": {
    "collapsed": false,
    "ExecuteTime": {
     "end_time": "2023-11-06T06:42:55.986679200Z",
     "start_time": "2023-11-06T06:42:55.900164900Z"
    }
   },
   "id": "802bf49ebb212ade"
  },
  {
   "cell_type": "code",
   "execution_count": 7,
   "outputs": [
    {
     "name": "stdout",
     "output_type": "stream",
     "text": [
      "              precision    recall  f1-score   support\n",
      "\n",
      "           0       0.72      0.69      0.71      1087\n",
      "           1       0.89      0.83      0.86      2189\n",
      "           2       0.84      0.85      0.84      2386\n",
      "           3       0.96      0.97      0.97     13158\n",
      "           4       0.79      0.79      0.79      2577\n",
      "\n",
      "    accuracy                           0.91     21397\n",
      "   macro avg       0.84      0.83      0.83     21397\n",
      "weighted avg       0.91      0.91      0.91     21397\n",
      "\n",
      "[[  752    48    25    49   213]\n",
      " [   93  1818    60    79   139]\n",
      " [   31    27  2037   180   111]\n",
      " [   26    43   194 12811    84]\n",
      " [  142    98   120   172  2045]]\n"
     ]
    }
   ],
   "source": [
    "df_4 = pd.read_csv('res50d.csv')\n",
    "df_4_ = df_4.iloc[:, 1:]\n",
    "df_4_.columns = [0, 1, 2, 3, 4]\n",
    "df_4_['pred'] = df_4_.idxmax(axis=1)\n",
    "df_4_pred = df_4_.iloc[:, 5]\n",
    "print(classification_report(df_ans, df_4_pred))\n",
    "print(confusion_matrix(df_ans, df_4_pred))"
   ],
   "metadata": {
    "collapsed": false,
    "ExecuteTime": {
     "end_time": "2023-11-06T06:42:56.089879700Z",
     "start_time": "2023-11-06T06:42:55.987679800Z"
    }
   },
   "id": "43dbaad88aef9c0c"
  }
 ],
 "metadata": {
  "kernelspec": {
   "display_name": "Python 3",
   "language": "python",
   "name": "python3"
  },
  "language_info": {
   "codemirror_mode": {
    "name": "ipython",
    "version": 2
   },
   "file_extension": ".py",
   "mimetype": "text/x-python",
   "name": "python",
   "nbconvert_exporter": "python",
   "pygments_lexer": "ipython2",
   "version": "2.7.6"
  }
 },
 "nbformat": 4,
 "nbformat_minor": 5
}
