{
 "cells": [
  {
   "cell_type": "markdown",
   "source": [
    "# Review of TinyViT: Fast Pretraining Distillation for Small Vision Transformers\n",
    "[ECCV 2022: TinyViT](https://arxiv.org/abs/2207.10666)"
   ],
   "metadata": {
    "collapsed": false
   },
   "id": "315859be81ab3901"
  },
  {
   "cell_type": "markdown",
   "source": [],
   "metadata": {
    "collapsed": false
   },
   "id": "bcf0b23f08c72f7f"
  }
 ],
 "metadata": {
  "kernelspec": {
   "display_name": "Python 3",
   "language": "python",
   "name": "python3"
  },
  "language_info": {
   "codemirror_mode": {
    "name": "ipython",
    "version": 2
   },
   "file_extension": ".py",
   "mimetype": "text/x-python",
   "name": "python",
   "nbconvert_exporter": "python",
   "pygments_lexer": "ipython2",
   "version": "2.7.6"
  }
 },
 "nbformat": 4,
 "nbformat_minor": 5
}
