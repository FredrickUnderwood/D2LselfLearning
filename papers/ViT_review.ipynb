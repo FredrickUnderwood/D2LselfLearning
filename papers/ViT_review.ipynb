{
 "cells": [
  {
   "cell_type": "markdown",
   "source": [
    "# Review of Vision-Transformer\n",
    "https://arxiv.org/abs/2305.09880"
   ],
   "metadata": {
    "collapsed": false
   },
   "id": "eaca57cc0c0798a0"
  },
  {
   "cell_type": "markdown",
   "source": [
    "## Abstract\n",
    "ViT又可能替代CNN在计算机视觉领域的许多应用。\n",
    "对比CNN，Transformer可以关注到一张图片上的全局关系（CNN只能关注到卷积核覆盖的小部分之间的关系）。\n",
    "而目前的ViT则更多是CNN和Attention Mechanism（Attention Mechanism是Transformer的核心）的混合，使得ViT可以同时关注到local和global的特征。\n",
    "这篇文章就是介绍目前常见的ViT架构，特别是那些混合ViT架构。"
   ],
   "metadata": {
    "collapsed": false
   },
   "id": "538529a7c8bf844d"
  },
  {
   "cell_type": "markdown",
   "source": [
    "## Introduction\n",
    "首先介绍了计算机视觉领域的现状，并肯定了纯CNN模型为计算机视觉领域带来了革新。（作者罗列了一些CNN在CV三大领域：图片分类、物体检测和语义分割的成功应用的论文）\n",
    "CNN的问题：CNN只关注local-level的空间相关性，这会导致如果要学习的特征更大、更复杂，那CNN的表现就会下降。\n",
    "ViT的发展历程：从2017年[Transformer](https://arxiv.org/abs/1706.03762)的提出。到2018年[自注意力机制被首次应用于CV领域](https://arxiv.org/abs/1802.05751)，但是仅限于local层面。最后到2020年提出[ViT](https://arxiv.org/abs/2010.11929)模型，使得模型可以从全局学习图片的特征，ViT在多个数据集上表现优异，至此CV领域开始更多关注Transformer的应用。\n",
    "ViT对比CNN：CNN有归纳偏置，主要包括locality（桌子旁边一般有椅子）和translation equivariance（一个物体不管怎么移动都能学到相同的特征），这相当于一种先验知识（prior knowledge），是图像的特点，这使得CNN可以在较小的数据集上学到图片的特征，但这也导致了CNN处理全局特特征的不完美。"
   ],
   "metadata": {
    "collapsed": false
   },
   "id": "b08eea370123ae3f"
  },
  {
   "cell_type": "code",
   "execution_count": null,
   "outputs": [],
   "source": [],
   "metadata": {
    "collapsed": false
   },
   "id": "6bc3b188533903c1"
  }
 ],
 "metadata": {
  "kernelspec": {
   "display_name": "Python 3",
   "language": "python",
   "name": "python3"
  },
  "language_info": {
   "codemirror_mode": {
    "name": "ipython",
    "version": 2
   },
   "file_extension": ".py",
   "mimetype": "text/x-python",
   "name": "python",
   "nbconvert_exporter": "python",
   "pygments_lexer": "ipython2",
   "version": "2.7.6"
  }
 },
 "nbformat": 4,
 "nbformat_minor": 5
}
