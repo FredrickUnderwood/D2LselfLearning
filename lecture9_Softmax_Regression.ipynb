{
 "cells": [
  {
   "cell_type": "markdown",
   "source": [
    "## Softmax回归（多分类）实现"
   ],
   "metadata": {
    "collapsed": false
   }
  },
  {
   "cell_type": "markdown",
   "source": [
    "### MNIST数据集的提取"
   ],
   "metadata": {
    "collapsed": false
   }
  },
  {
   "cell_type": "code",
   "execution_count": 1,
   "outputs": [],
   "source": [
    "import torch\n",
    "import torchvision\n",
    "from torchvision import transforms\n",
    "import matplotlib.pyplot as plt\n",
    "import My_utils\n",
    "\n",
    "My_utils.use_svg_display()"
   ],
   "metadata": {
    "collapsed": false,
    "ExecuteTime": {
     "end_time": "2023-07-23T09:50:03.260688700Z",
     "start_time": "2023-07-23T09:50:00.496289900Z"
    }
   }
  },
  {
   "cell_type": "markdown",
   "source": [],
   "metadata": {
    "collapsed": false
   }
  },
  {
   "cell_type": "code",
   "execution_count": 2,
   "outputs": [],
   "source": [
    "trans=transforms.ToTensor()#将image或ndarray转为tensor\n",
    "train_set=torchvision.datasets.FashionMNIST(root='./data',train=True,transform=trans,download=True)\n",
    "test_set=torchvision.datasets.FashionMNIST(root='./data',train=False,transform=trans,download=True)"
   ],
   "metadata": {
    "collapsed": false,
    "ExecuteTime": {
     "end_time": "2023-07-23T09:50:03.322344200Z",
     "start_time": "2023-07-23T09:50:03.261980800Z"
    }
   }
  },
  {
   "cell_type": "markdown",
   "source": [
    "### Fashion-MNIST数据集的处理"
   ],
   "metadata": {
    "collapsed": false
   }
  },
  {
   "cell_type": "code",
   "execution_count": 3,
   "outputs": [],
   "source": [
    "def get_fashion_mnist_labels(labels):#索引和label的转换，MNIST数据集是数值的标号\n",
    "    text_labels = ['t-shirt', 'trouser', 'pullover', 'dress', 'coat',\n",
    "                   'sandal', 'shirt', 'sneaker', 'bag', 'ankle boot']\n",
    "    return [text_labels[int(i)] for i in labels]#输入的labels是一串数字，表示需要展示的图片的labels，后续i作为该labels的索引\n",
    "\n",
    "def show_image(imgs,row_num,col_num,titles=None,scale=1.5):\n",
    "    figsize=(col_num*scale,row_num*scale)\n",
    "    _,axes=plt.subplot(row_num,col_num,figsize=figsize)\n",
    "    axes=axes.flatten()\n",
    "    for i,(ax,img) in enumerate(zip(axes,imgs)):#i是图片的索引\n",
    "        if torch.is_tensor(img):\n",
    "            ax.imshow(img.numpy())\n",
    "        else:\n",
    "            ax.imshow(img)\n",
    "        ax.axes.get_xaxis().set_visible(False)#将坐标轴设为不可见\n",
    "        ax.axes.get_yaxis().set_visible(False)\n",
    "        if titles:\n",
    "            ax.set_title(titles[i])\n",
    "    return axes"
   ],
   "metadata": {
    "collapsed": false,
    "ExecuteTime": {
     "end_time": "2023-07-23T09:50:03.327608500Z",
     "start_time": "2023-07-23T09:50:03.324382400Z"
    }
   }
  },
  {
   "cell_type": "markdown",
   "source": [
    "### 开始Softmax的实现"
   ],
   "metadata": {
    "collapsed": false
   }
  },
  {
   "cell_type": "markdown",
   "source": [
    "#### 准备组件"
   ],
   "metadata": {
    "collapsed": false
   }
  },
  {
   "cell_type": "code",
   "execution_count": 6,
   "outputs": [
    {
     "data": {
      "text/plain": "0.1428"
     },
     "execution_count": 6,
     "metadata": {},
     "output_type": "execute_result"
    }
   ],
   "source": [
    "batch_size=256\n",
    "train_iter,test_iter=My_utils.load_data_from_fashion_MNIST(batch_size)\n",
    "#图片是28*28的，也就是784个像素，因此这个网络是一个784->10的网络\n",
    "num_inputs=784\n",
    "num_outputs=10\n",
    "W=torch.normal(0,0.01,size=(num_inputs,num_outputs),requires_grad=True)#784行，10列\n",
    "b=torch.zeros(num_outputs,requires_grad=True)\n",
    "\n",
    "def softmax(X):#对应sigmoid函数，是一个用于映射的函数\n",
    "    X_exp=torch.exp(X)\n",
    "    partition=X_exp.sum(1,keepdim=True)#保留列的求和\n",
    "    return X_exp/partition\n",
    "\n",
    "def net(X):\n",
    "    return softmax(torch.matmul(X.reshape(-1,W.shape[0]),W)+b)#shape[0]返回的是他第0维的形状，也就是他的行数；  将X转化为一个256*784的张量\n",
    "\n",
    "def cross_entropy(y_hat,y):#损失函数\n",
    "    return -torch.log(y_hat[range(len(y_hat)),y])\n",
    "\n",
    "def count_accurate(y_hat,y):\n",
    "    if len(y_hat.shape)>1 and y_hat.shape[1]>1:\n",
    "        y_hat=y_hat.argmax(axis=1)\n",
    "    correct_count=0\n",
    "    for i in range(len(y_hat)):\n",
    "        if y_hat[i].type(y.dtype)==y[i]:\n",
    "            correct_count+=1\n",
    "    return float(correct_count)\n",
    "\n",
    "def calc_accuracy(net,data_iter):\n",
    "    if isinstance(net,torch.nn.Module):\n",
    "        net.eval()#进入评估模式\n",
    "    metric=My_utils.Accumulator(2)\n",
    "    with torch.no_grad():\n",
    "        for X,y in data_iter:\n",
    "            metric.add(count_accurate(net(X),y),y.numel())\n",
    "    return  metric[0]/metric[1]"
   ],
   "metadata": {
    "collapsed": false,
    "ExecuteTime": {
     "end_time": "2023-07-23T09:51:53.046187300Z",
     "start_time": "2023-07-23T09:51:50.256275900Z"
    }
   }
  },
  {
   "cell_type": "markdown",
   "source": [
    "#### 开始训练"
   ],
   "metadata": {
    "collapsed": false
   }
  },
  {
   "cell_type": "code",
   "execution_count": null,
   "outputs": [],
   "source": [],
   "metadata": {
    "collapsed": false
   }
  }
 ],
 "metadata": {
  "kernelspec": {
   "display_name": "Python 3",
   "language": "python",
   "name": "python3"
  },
  "language_info": {
   "codemirror_mode": {
    "name": "ipython",
    "version": 2
   },
   "file_extension": ".py",
   "mimetype": "text/x-python",
   "name": "python",
   "nbconvert_exporter": "python",
   "pygments_lexer": "ipython2",
   "version": "2.7.6"
  }
 },
 "nbformat": 4,
 "nbformat_minor": 0
}
